{
 "cells": [
  {
   "cell_type": "markdown",
   "id": "15f4f39c-597e-44f2-93e3-663aa96ea52a",
   "metadata": {},
   "source": [
    "## Atomistic simulation of water molecule with TIP4P model\n",
    "Firstly we import the necessary ESPResSo features and external modules, we will start to setup the system."
   ]
  },
  {
   "cell_type": "code",
   "execution_count": 1,
   "id": "15f134c3-400b-4863-a979-1dc9f9a7129b",
   "metadata": {},
   "outputs": [],
   "source": [
    "import espressomd\n",
    "import espressomd.observables\n",
    "from pint import UnitRegistry\n",
    "import numpy as np\n",
    "import tqdm\n",
    "import pandas as pd"
   ]
  },
  {
   "cell_type": "markdown",
   "id": "a7edbe79-b017-48b6-9da7-d92d3f436e23",
   "metadata": {},
   "source": [
    "### Unit\n",
    "In this tutorial, energies are expressed in k_{B}T, distances in *nm*, masses in atomic units and charge in unit chage. And we set the temperature **T=298.15 K**. Unit of physical parameters are maged by `UnitRegistry`."
   ]
  },
  {
   "cell_type": "code",
   "execution_count": 2,
   "id": "adeea6c8-48fa-41fb-b1ec-81ff07ebd4d6",
   "metadata": {},
   "outputs": [],
   "source": [
    "# Simulation units:\n",
    "# * energy: kT\n",
    "# * mass: atomic mass unit\n",
    "# * length: nm\n",
    "# * charge: unit chage\n",
    "\n",
    "u = UnitRegistry()\n",
    "Q_ = u.Quantity\n",
    "\n",
    "# --- Fundamental constants (CODATA exact where defined) ---\n",
    "kB = Q_(1.380649e-23, \"joule/kelvin\")         # Boltzmann constant\n",
    "T = Q_(298.15, \"kelvin\")                      # temperature\n",
    "u.define(f\"kT = {(kB*T).to('joule')}\")\n",
    "u.define(\"e = 1.602176634e-19 coulomb\")           # elementary charge\n",
    "eps0 = Q_(8.8541878128e-12, \"farad/meter\")    # vacuum permittivity (F/m)\n",
    "NA = Q_(6.02214076e23, \"1 / mole\")            # Avogadro constant\n",
    "\n",
    "# System size\n",
    "L = 2.5  # nm"
   ]
  },
  {
   "cell_type": "markdown",
   "id": "2b10ff23-354c-4afe-a7bc-44685d0c3edb",
   "metadata": {},
   "source": [
    "### TIP4P model\n",
    "The TIP4P model is a classical, rigid water model designed to simulate the water molecular behaviour in MD and Monte Carlo simulations. Unlike simpler models, such as TIP3P or SPC, which use three interaction sites, in the TIP4P model, the water molecule consists of four fixed interaction sites arranged as a rigid body:\n",
    "\n",
    "- Two hydrogen atoms, each with a positive partial charge **q_H**.\n",
    "- One oxygen atom, which participates in Lennard-Jones interactions but carries no charge.\n",
    "- A massless dummy site (called the M site) located slightly offset, **d_OM**, from the oxygen atom along the bisector of the H-O-H angle. The negative partial charge of the molecule, **q_M**, is assined to this M site.\n",
    "\n",
    "This fixed geometry, maintained through rigid constraints, allows efficient simulations with larger time steps. More importantly, the placement of the negative charge at the M site enhances the electrostatic representation, particularly improveing the dipole and quadrupole moments of the water molecule.\n",
    "\n",
    "Among its variants, **TIP4P/2005**(https://doi.org/10.1063/1.2121687) is particularly well-regarded for accurately key structural and thermodynamic properties of water. While slightly more computationally demanding than three-site model, TIP4P/2005 offers a strong balance between physical realism and performance.\n",
    "\n",
    "Therefore, we set parameters for moleculary geometry and Lennard-Jones potential following TIP4P/2005.\n",
    "\n",
    "Exercise?"
   ]
  },
  {
   "cell_type": "code",
   "execution_count": 3,
   "id": "53f3ab8e-5e48-4598-a779-52dcc1022fee",
   "metadata": {},
   "outputs": [],
   "source": [
    "# --- TIP4P/2005 Lennard-Jones (oxygen site) ---\n",
    "OO_SIGMA = 0.31589   # nm\n",
    "#OO_EPSILON = (Q_(0.1852, \"kcal/mole\") / NA / (kB*T)).to(\"dimensionless\").magnitude\n",
    "OO_EPSILON = (Q_(93.2, \"kelvin\") / T).to(\"dimensionless\").magnitude\n",
    "\n",
    "# --- TIP4P/2005 Geometrie (nm) ---\n",
    "R_OH = 0.09572  # nm\n",
    "theta = np.radians(104.52)\n",
    "d_OM = 0.01546  # nm\n",
    "q_H = +0.5564  # e\n",
    "q_M = -1.1128  # e"
   ]
  },
  {
   "cell_type": "markdown",
   "id": "923bebed-3f9c-4e79-bb83-858aa177c73e",
   "metadata": {},
   "source": [
    "The geometry of water molecule is set according to TIP4P/2005. Other parameters are adjust to match actual physical constants."
   ]
  },
  {
   "cell_type": "code",
   "execution_count": 4,
   "id": "f1c58cac-c539-4ae2-af31-1ab33a06cb29",
   "metadata": {},
   "outputs": [],
   "source": [
    "# Relative posititions\n",
    "O_loc = np.array([0.0, 0.0, 0.0])\n",
    "H1_loc = np.array([R_OH, 0.0, 0.0])\n",
    "H2_loc = np.array([R_OH*np.cos(theta),  R_OH*np.sin(theta), 0.0])\n",
    "M_loc = np.array([d_OM*np.cos(theta/2.0), d_OM*np.sin(theta/2.0), 0.0])\n",
    "\n",
    "# masses\n",
    "O_MASS = 15.9994  # amu\n",
    "H_MASS = 1.008  # amu\n",
    "# center of mass position\n",
    "COM = O_MASS*O_loc + H_MASS*(H1_loc+H2_loc)/(O_MASS+2*H_MASS)\n",
    "\n",
    "# number density of water molecules\n",
    "WATER_DENSITY = Q_(0.997, \"g/cm^3\")\n",
    "TIP4P_MASS = Q_(O_MASS+2*H_MASS, \"g/mole\")\n",
    "RHO_N = (WATER_DENSITY/TIP4P_MASS*NA).to(\"1/nm^3\").magnitude\n",
    "\n",
    "COULOMB_CONSTANT = 1/(4*np.pi * eps0.to(\"e^2/kT/nm\")).magnitude"
   ]
  },
  {
   "cell_type": "markdown",
   "id": "08efc9a0-ad73-494e-8067-a1fc97f0426b",
   "metadata": {},
   "source": [
    "### Setup system\n",
    "We set siystem size **L=2.5 nm**, and the number of water molecule **n_waters** via **RHO_N[$nm^{-3}$]**."
   ]
  },
  {
   "cell_type": "code",
   "execution_count": 5,
   "id": "36c6fecc-d657-42b9-ae07-dd077e525a76",
   "metadata": {},
   "outputs": [],
   "source": [
    "system = espressomd.System(box_l=[L, L, L])\n",
    "system.time_step = 0.01\n",
    "system.cell_system.skin = 0.1\n",
    "\n",
    "n_waters = int(RHO_N*system.volume())"
   ]
  },
  {
   "cell_type": "markdown",
   "id": "23ccd2ae-169b-456e-991e-93c37bf783c3",
   "metadata": {},
   "source": [
    "### Add particle into system with rigid constrain\n",
    "The rigit constrain is inrtroduced when we add particles via `vs_auto_relate_to(espressomd.particle_data.ParticleHandle)`. \n",
    "\n",
    "Exercies?"
   ]
  },
  {
   "cell_type": "code",
   "execution_count": 6,
   "id": "c050877d-3e75-44a9-8824-33aad60fd2f8",
   "metadata": {},
   "outputs": [],
   "source": [
    "def rand_unit_quaternion():\n",
    "    # Marsaglia: gleichverteilte Rotation\n",
    "    u1, u2, u3 = np.random.random(), np.random.random(), np.random.random()\n",
    "    q1 = np.sqrt(1-u1)*np.sin(2*np.pi*u2)\n",
    "    q2 = np.sqrt(1-u1)*np.cos(2*np.pi*u2)\n",
    "    q3 = np.sqrt(u1)*np.sin(2*np.pi*u3)\n",
    "    q4 = np.sqrt(u1)*np.cos(2*np.pi*u3)\n",
    "    return np.array([q4, q1, q2, q3])  # (w, x, y, z)\n",
    "\n",
    "\n",
    "def quat_to_rotmat(q):\n",
    "    w, x, y, z = q\n",
    "    return np.array([\n",
    "        [1-2*(y*y+z*z),   2*(x*y - z*w),   2*(x*z + y*w)],\n",
    "        [2*(x*y + z*w),   1-2*(x*x+z*z),   2*(y*z - x*w)],\n",
    "        [2*(x*z - y*w),   2*(y*z + x*w),   1-2*(x*x+y*y)]\n",
    "    ])\n",
    "\n",
    "\n",
    "def place_tip4p(center, mol_id):\n",
    "    R = quat_to_rotmat(rand_unit_quaternion())\n",
    "    def X(v): return (R @ v) + center - COM\n",
    "    C = system.part.add(pos=center, type=4, mass=2*H_MASS +\n",
    "                        O_MASS, rotation=[True, True, True], mol_id=mol_id)\n",
    "    O = system.part.add(pos=X(O_loc), q=0.0, type=0, mol_id=mol_id)\n",
    "    H1 = system.part.add(pos=X(H1_loc), q=q_H, type=1, mol_id=mol_id)\n",
    "    H2 = system.part.add(pos=X(H2_loc), q=q_H, type=1, mol_id=mol_id)\n",
    "    M = system.part.add(pos=X(M_loc),  q=q_M, type=2, mol_id=mol_id)\n",
    "    for p in M, O, H1, H2:\n",
    "        p.vs_auto_relate_to(C)\n",
    "\n",
    "    return (C, O, H1, H2, M)"
   ]
  },
  {
   "cell_type": "code",
   "execution_count": 7,
   "id": "3765e319-11e2-4df8-b49d-7f0cd157c31a",
   "metadata": {},
   "outputs": [],
   "source": [
    "positions = system.box_l * np.random.random((n_waters, 3))\n",
    "for i, pos in enumerate(positions):\n",
    "    place_tip4p(pos, i)"
   ]
  },
  {
   "cell_type": "markdown",
   "id": "ba081553-495c-41fc-86ca-bc1c2cb7e0ae",
   "metadata": {},
   "source": [
    "In the TIP4P model, only the oxygen atoms, type=0 in this tutorial, interact via Lennard-Jones potential.\n",
    "\n",
    "Exercise?"
   ]
  },
  {
   "cell_type": "code",
   "execution_count": 8,
   "id": "d9f02eeb-5172-41c0-b311-89084a4d139d",
   "metadata": {},
   "outputs": [],
   "source": [
    "system.non_bonded_inter[0, 0].lennard_jones.set_params(\n",
    "    epsilon=OO_EPSILON, sigma=OO_SIGMA, cutoff=2.5*OO_SIGMA, shift=\"auto\")"
   ]
  },
  {
   "cell_type": "markdown",
   "id": "649d09b5-cc39-48f2-9b69-46154d494f98",
   "metadata": {},
   "source": [
    "### Steepest Descent\n",
    "We use steepset descent to minimize the energy of the system."
   ]
  },
  {
   "cell_type": "code",
   "execution_count": 9,
   "id": "e34816ae-d083-445e-913d-d4097a1c1665",
   "metadata": {},
   "outputs": [
    {
     "name": "stdout",
     "output_type": "stream",
     "text": [
      "Overlap removal\n",
      "  maximum force: 3.562183357755812e+16\n",
      "  maximum force: 78831473372256.77\n",
      "  maximum force: 2068158943275.618\n",
      "  maximum force: 60036578111.323326\n",
      "  maximum force: 3160441924.6228175\n",
      "  maximum force: 258044169.53201938\n",
      "  maximum force: 28294971.539690394\n",
      "  maximum force: 3843165.4773922814\n",
      "  maximum force: 625762.0456859464\n",
      "  maximum force: 164199.6049809943\n",
      "  maximum force: 45136.44437004058\n",
      "  maximum force: 15658.83299558976\n",
      "  maximum force: 5597.173204148362\n",
      "  maximum force: 1908.4582052973315\n",
      "  maximum force: 815.8447867628918\n",
      "  maximum force: 372.4490217534488\n",
      "  maximum force: 194.17814197489744\n",
      "  maximum force: 131.2779149225817\n",
      "  maximum force: 69.9698451782134\n",
      "  maximum force: 43.03251544766699\n",
      "  maximum force: 30.119039723724644\n",
      "  maximum force: 19.07660793966985\n",
      "  maximum force: 25.003110139079684\n",
      "  maximum force: 11.092952394682639\n",
      "  maximum force: 40.67042550155003\n",
      "Done\n"
     ]
    }
   ],
   "source": [
    "print(\"Overlap removal\")\n",
    "system.integrator.run(0, recalc_forces=True)\n",
    "system.integrator.set_steepest_descent(\n",
    "    f_max=1, max_displacement=0.01, gamma=1E-10)\n",
    "center_particles = system.part.select(type=4)\n",
    "while np.amax(np.abs(center_particles.f)) > 10:\n",
    "    force = np.amax(np.abs(center_particles.f))\n",
    "    print(\"  maximum force:\", force)\n",
    "    max_disp = 0.005\n",
    "    system.integrator.set_steepest_descent(\n",
    "        f_max=0, max_displacement=max_disp, gamma=max_disp/force)\n",
    "    system.integrator.run(10)\n",
    "system.integrator.set_vv()\n",
    "print(\"Done\")"
   ]
  },
  {
   "cell_type": "markdown",
   "id": "33d11501-68de-4f17-a715-6580e71ff510",
   "metadata": {},
   "source": [
    "### Equilibration\n",
    "Then, we turn on the Langevin thermostat and run a warmup integration by simplectic Euler algorithm. Here we set the temperature as **298.15** K."
   ]
  },
  {
   "cell_type": "code",
   "execution_count": 10,
   "id": "7383885d-364e-4eca-acc3-d86792817a1a",
   "metadata": {},
   "outputs": [
    {
     "name": "stdout",
     "output_type": "stream",
     "text": [
      "Equilibrate without electrostatics\n"
     ]
    },
    {
     "name": "stderr",
     "output_type": "stream",
     "text": [
      "100%|███████████████████████████████████████████████████████████████████████████████| 1000/1000 [00:22<00:00, 44.87it/s]\n"
     ]
    }
   ],
   "source": [
    "# replace singel O particle by molecules\n",
    "print(\"Equilibrate without electrostatics\")\n",
    "system.thermostat.set_langevin(kT=1, gamma=1, seed=1)\n",
    "for i in tqdm.trange(1000, ncols=120):\n",
    "    system.integrator.run(1)"
   ]
  },
  {
   "cell_type": "markdown",
   "id": "7fed3d7c-e391-4cea-b88a-62e2b7610c33",
   "metadata": {},
   "source": [
    "### Incorporate electrostatic interaction\n",
    "The accuracy of the P3M solver was set to 1e-3."
   ]
  },
  {
   "cell_type": "code",
   "execution_count": 11,
   "id": "9758c943-526c-4799-9bb8-e344ae4344c0",
   "metadata": {},
   "outputs": [
    {
     "name": "stdout",
     "output_type": "stream",
     "text": [
      "Setup P3M\n",
      "CoulombP3M tune parameters: Accuracy goal = 1.00000e-03 prefactor = 5.60459e+01\n",
      "System: box_l = 2.50000e+00 # charged part = 1560 Sum[q_i^2] = 9.65893e+02\n",
      "mesh cao r_cut_iL    alpha_L     err       rs_err    ks_err    time [ms]\n",
      "12   7   4.60000e-01 8.05409e+00 2.526e+00 7.071e-04 2.526e+00 accuracy not achieved\n",
      "14   7   4.60000e-01 8.05409e+00 5.954e-01 7.071e-04 5.954e-01 accuracy not achieved\n",
      "16   7   4.60000e-01 8.05409e+00 1.481e-01 7.071e-04 1.481e-01 accuracy not achieved\n",
      "18   7   4.60000e-01 8.05409e+00 4.347e-02 7.071e-04 4.347e-02 accuracy not achieved\n",
      "20   7   4.60000e-01 8.05409e+00 1.534e-02 7.071e-04 1.532e-02 accuracy not achieved\n",
      "22   7   4.60000e-01 8.05409e+00 6.269e-03 7.071e-04 6.229e-03 accuracy not achieved\n",
      "24   7   4.60000e-01 8.05409e+00 2.908e-03 7.071e-04 2.821e-03 accuracy not achieved\n",
      "26   7   4.60000e-01 8.05409e+00 1.558e-03 7.071e-04 1.388e-03 accuracy not achieved\n",
      "28   7   4.60000e-01 8.05409e+00 1.017e-03 7.071e-04 7.307e-04 accuracy not achieved\n",
      "30   7 tunking skin\n",
      "  4.33047e-01 8.56479e+00 9.946e-04 7.071e-04 6.994e-04 36.54   \n",
      "30   6   4.60000e-01 8.05409e+00 2.217e-03 7.071e-04 2.102e-03 accuracy not achieved\n",
      "32   7   4.07673e-01 9.10785e+00 9.989e-04 7.071e-04 7.055e-04 27.39   \n",
      "32   6   4.33047e-01 8.56479e+00 2.257e-03 7.071e-04 2.144e-03 accuracy not achieved\n",
      "34   7   3.86175e-01 9.62432e+00 9.911e-04 7.071e-04 6.945e-04 26.06   \n",
      "34   6   4.07673e-01 9.10785e+00 2.357e-03 7.071e-04 2.248e-03 accuracy not achieved\n",
      "36   7   3.65810e-01 1.01701e+01 9.973e-04 7.071e-04 7.033e-04 66.93   \n",
      "36   6   3.86175e-01 9.62432e+00 2.404e-03 7.071e-04 2.298e-03 accuracy not achieved\n",
      "\n",
      "resulting parameters: mesh: (34, 34, 34), cao: 7, r_cut_iL: 3.8617e-01,\n",
      "                      alpha_L: 9.6243e+00, accuracy: 9.9110e-04, time: 26.06\n",
      "0.0546875\n"
     ]
    },
    {
     "name": "stderr",
     "output_type": "stream",
     "text": [
      "WARNING: Statistics of tuning samples is very bad.\n",
      "WARNING: Statistics of tuning samples is very bad.\n",
      "WARNING: Statistics of tuning samples is very bad.\n",
      "WARNING: Statistics of tuning samples is very bad.\n"
     ]
    }
   ],
   "source": [
    "print(\"Setup P3M\")\n",
    "p3m = espressomd.electrostatics.P3M(prefactor=COULOMB_CONSTANT, accuracy=1E-3)\n",
    "system.electrostatics.solver = p3m\n",
    "print(\"tunking skin\")\n",
    "print(system.cell_system.tune_skin(\n",
    "    min_skin=0.05, max_skin=0.2, tol=0.01, int_steps=100))"
   ]
  },
  {
   "cell_type": "markdown",
   "id": "f714f687-a1fe-40b8-bf94-0a95a63e3a8d",
   "metadata": {},
   "source": [
    "Then, we equilibrate the system with P3M."
   ]
  },
  {
   "cell_type": "code",
   "execution_count": 12,
   "id": "701a0963-dd96-435d-8846-3aa292c62eca",
   "metadata": {},
   "outputs": [
    {
     "name": "stdout",
     "output_type": "stream",
     "text": [
      "Equilibrate with P3M\n"
     ]
    },
    {
     "name": "stderr",
     "output_type": "stream",
     "text": [
      "100%|███████████████████████████████████████████████████████████████████████████████| 1000/1000 [00:56<00:00, 17.85it/s]\n"
     ]
    }
   ],
   "source": [
    "print(\"Equilibrate with P3M\")\n",
    "tbar = tqdm.trange(1000, ncols=120)\n",
    "for idx in tbar:\n",
    "    system.integrator.run(1)"
   ]
  },
  {
   "cell_type": "markdown",
   "id": "a4eb7c00-27d6-46e6-839d-021ffbbc769b",
   "metadata": {},
   "source": [
    "### Production run\n",
    "Here, we carry out a pruduction run. During it, we periodically measure the RDF between oxygen."
   ]
  },
  {
   "cell_type": "code",
   "execution_count": 13,
   "id": "f933c9ed-0db1-49ad-a0c6-9114ed84d53b",
   "metadata": {},
   "outputs": [
    {
     "name": "stdout",
     "output_type": "stream",
     "text": [
      "Sampling\n"
     ]
    },
    {
     "name": "stderr",
     "output_type": "stream",
     "text": [
      "100%|███████████████████████████████████████████████████████████████████████████████████| 10/10 [00:25<00:00,  2.55s/it]\n"
     ]
    },
    {
     "data": {
      "image/png": "[encoded data removed]",
      "text/plain": [
       "<Figure size 1000x700 with 1 Axes>"
      ]
     },
     "metadata": {},
     "output_type": "display_data"
    }
   ],
   "source": [
    "print(\"Sampling\")\n",
    "rdfs = []\n",
    "rdf_bins = 70\n",
    "r_min = 0.0\n",
    "r_max = 0.7  # nm\n",
    "o_ids = system.part.select(type=0).id\n",
    "rdf_obs = espressomd.observables.RDF(\n",
    "    ids1=o_ids, ids2=o_ids, n_r_bins=rdf_bins, min_r=r_min, max_r=r_max)\n",
    "\n",
    "for i in tqdm.trange(10, ncols=120):\n",
    "    system.integrator.run(50)\n",
    "    rdfs.append(rdf_obs.calculate())\n",
    "rdf = np.mean(rdfs, axis=0)\n",
    "rdf_err = np.std(rdfs, axis=0)/np.sqrt(len(rdfs))\n",
    "bin_centers = rdf_obs.bin_centers()\n",
    "\n",
    "# Plot RDF\n",
    "import matplotlib.pyplot as plt\n",
    "\n",
    "fig, ax = plt.subplots(figsize=(10, 7))\n",
    "ax.plot(bin_centers, rdf, label='tip4p model')\n",
    "ax.plot(bin_centers, np.ones(bin_centers.size))\n",
    "plt.legend()\n",
    "plt.xlabel(r'r / nm')\n",
    "plt.ylabel('oxygen-oxygen RDF g(r)')\n",
    "plt.show()"
   ]
  },
  {
   "cell_type": "code",
   "execution_count": null,
   "id": "df01692e-8559-42bb-a39a-2e3557753b69",
   "metadata": {},
   "outputs": [],
   "source": []
  }
 ],
 "metadata": {
  "kernelspec": {
   "display_name": "Python 3 (ipykernel)",
   "language": "python",
   "name": "python3"
  },
  "language_info": {
   "codemirror_mode": {
    "name": "ipython",
    "version": 3
   },
   "file_extension": ".py",
   "mimetype": "text/x-python",
   "name": "python",
   "nbconvert_exporter": "python",
   "pygments_lexer": "ipython3",
   "version": "3.12.3"
  }
 },
 "nbformat": 4,
 "nbformat_minor": 5
}
