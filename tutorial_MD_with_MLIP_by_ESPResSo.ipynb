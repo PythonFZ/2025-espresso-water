{
 "cells": [
  {
   "cell_type": "markdown",
   "id": "292744cd",
   "metadata": {},
   "source": [
    "# MLIP and Espresso\n",
    "In this tutorial, you'll learn how to train and deploy a machine-learned interatomic potential (MLIP) with espresso.\n",
    "We'll be using the [apax](https://github.com/apaxhub/apax) MLIP. (https://pubs.acs.org/doi/full/10.1021/acs.jcim.5c01221)"
   ]
  },
  {
   "cell_type": "markdown",
   "id": "b29038dc-4eb0-4bd9-80ee-0ea8869e235f",
   "metadata": {},
   "source": [
    "In 2nd part of tutorial, all physical parameters constituting the system follow those used in the system constructed in 1st part of tutorial."
   ]
  },
  {
   "cell_type": "code",
   "execution_count": 1,
   "id": "79cc7d2f-3531-4249-93cd-e749f6812e75",
   "metadata": {},
   "outputs": [],
   "source": [
    "from ase.io import read\n",
    "import zntrack\n",
    "\n",
    "box = read('water.json')"
   ]
  },
  {
   "cell_type": "markdown",
   "id": "460b611e-89f0-4821-8b0e-e9779f827fff",
   "metadata": {},
   "source": [
    "The model used in the tutorial define here to suite your task requirements. \\# Exercise?"
   ]
  },
  {
   "cell_type": "code",
   "execution_count": 2,
   "id": "df58ea2e",
   "metadata": {},
   "outputs": [
    {
     "name": "stderr",
     "output_type": "stream",
     "text": [
      "/tikhome/hkobayashi/.env/tutotial_2025_mlip/lib/python3.12/site-packages/zntrack/state.py:159: UserWarning: The temporary path is not used when neither remote or rev are set.Consider checking for `self.state.remote` and `self.state.rev` whenusing `with node.state.use_tmp_path(): ...` .\n",
      "  warnings.warn(\n",
      "WARNING:absl:`StandardCheckpointHandler` expects a target tree to be provided for restore. Not doing so is generally UNSAFE unless you know the present topology to be the same one as the checkpoint was saved under.\n"
     ]
    }
   ],
   "source": [
    "model = zntrack.from_rev(\"r_max_6_Apax\")\n",
    "calc = model.get_calculator()"
   ]
  },
  {
   "cell_type": "code",
   "execution_count": 3,
   "id": "c5976fae",
   "metadata": {},
   "outputs": [],
   "source": [
    "box.calc = calc"
   ]
  },
  {
   "cell_type": "markdown",
   "id": "229d59af-87ff-432b-ad13-8df6be62b639",
   "metadata": {},
   "source": [
    "## MD simulations with MLIP by ESPResSo\n",
    "In 2nd part of tutorial, you will combine ESPResSo with MLIP to carry out MD simulation using MLIP."
   ]
  },
  {
   "cell_type": "code",
   "execution_count": 4,
   "id": "a69961b1",
   "metadata": {},
   "outputs": [],
   "source": [
    "# ESPResSo imports\n",
    "import espressomd\n",
    "from espressomd.plugins.ase import ASEInterface\n",
    "from espressomd.zn import Visualizer\n",
    "\n",
    "# Miscellaneous\n",
    "import pint\n",
    "import tqdm"
   ]
  },
  {
   "cell_type": "markdown",
   "id": "eaa6f563-bbc1-4724-a3fd-f5a8711171f9",
   "metadata": {},
   "source": [
    "### Unit\n",
    "In the majority of studies employing machine-learned interatomic potentials, energies are expressed in electronvolts (eV), distances in angstroms, and masses in atomic units. This convention does not arise from limitations of the models, but rather reflects the de facto standard that has emerged. Although machine-learning algorithms are agnostic to the choice of units, they must be trained within a consistent unit system; thus, it is essential to identify the units being used. Temporal scales are commonly expressed in femtoseconds. Consistent with this practice, ASE adopts the same unit system as its default. In the present tutorial, we employ pint to manage units."
   ]
  },
  {
   "cell_type": "code",
   "execution_count": 5,
   "id": "4ec46343-e79f-43c6-b2c0-91f79831d97b",
   "metadata": {},
   "outputs": [],
   "source": [
    "ureg = pint.UnitRegistry()"
   ]
  },
  {
   "cell_type": "markdown",
   "id": "52a83973-129f-459d-b685-cc0f41afbdda",
   "metadata": {},
   "source": [
    "### Setup System for ESPResO\n",
    "All parameters, i.e, system size, the number of particles, the particle positions, are followed to `box` from ASE."
   ]
  },
  {
   "cell_type": "code",
   "execution_count": 6,
   "id": "4a22daad-835e-45f6-bc9d-f15c47f66920",
   "metadata": {},
   "outputs": [],
   "source": [
    "system = espressomd.System(box_l=box.get_cell().diagonal())\n",
    "system.periodicity = [True, True, True]\n",
    "system.time_step = (0.5 * ureg.fs).m_as(((1 * ureg.u * ureg.angstrom**2) / ureg.electron_volt) ** 0.5)\n",
    "system.cell_system.skin = 0.4\n",
    "system.part.clear()\n",
    "for atom in box:\n",
    "    system.part.add(pos=atom.position, type=atom.number, mass=atom.mass)"
   ]
  },
  {
   "cell_type": "markdown",
   "id": "9c35860c-228f-475b-b180-a97d8999c743",
   "metadata": {},
   "source": [
    "To combine ESPResSo and MLIP provided by ASE, we use `espressomd.plugins.ase.ASEInterface`.\n",
    "#Exercise?"
   ]
  },
  {
   "cell_type": "code",
   "execution_count": 7,
   "id": "4807d2c2-77ad-4aa0-b48b-0e2be2a9aefe",
   "metadata": {},
   "outputs": [],
   "source": [
    "ase_interface = espressomd.plugins.ase.ASEInterface(\n",
    "    system=system,\n",
    "    type_mapping={x: x for x in set(box.numbers)},\n",
    "    particle_slice=system.part.all()\n",
    "    #export_charges=True\n",
    ")"
   ]
  },
  {
   "cell_type": "markdown",
   "id": "c5a12041-1e81-4300-b3f0-60a2b493bea3",
   "metadata": {},
   "source": [
    "### Steepest Descent\n",
    "We use teepset descent to mimize the energy of the system created in 1st part of tutorial."
   ]
  },
  {
   "cell_type": "code",
   "execution_count": 8,
   "id": "7db03926-d36c-4a44-b48b-8acde025b89f",
   "metadata": {},
   "outputs": [],
   "source": [
    "system.integrator.set_steepest_descent(f_max=(0.1 * ureg.eV / ureg.angstrom).magnitude,\n",
    "                                       gamma=4,\n",
    "                                       max_displacement=(0.001 * ureg.angstrom).magnitude)"
   ]
  },
  {
   "cell_type": "markdown",
   "id": "9dea7274-3588-40c7-9149-35936fe775b7",
   "metadata": {},
   "source": [
    "\\#Exercise?\n",
    "\n",
    "MD integration is carryied out by `ase_interface.integrate`."
   ]
  },
  {
   "cell_type": "code",
   "execution_count": 9,
   "id": "26a6608f-d454-4598-b4e5-eaa67c569e65",
   "metadata": {},
   "outputs": [
    {
     "name": "stderr",
     "output_type": "stream",
     "text": [
      "E_pot: -46932.296 eV: 100%|███████████████████████████████████████████████████████████| 500/500 [00:12<00:00, 39.60it/s]\n"
     ]
    }
   ],
   "source": [
    "tbar = tqdm.trange(500, ncols=120)\n",
    "for _ in tbar:\n",
    "    ase_interface.integrate(1, box.calc)\n",
    "    tbar.set_description(f\"E_pot: {ase_interface.atoms.get_potential_energy():.3f} eV\")"
   ]
  },
  {
   "cell_type": "markdown",
   "id": "fb7f0603-77c8-4a29-9b08-85c0a6c184d7",
   "metadata": {},
   "source": [
    "### Equilibration\n",
    "We use simplectic Euler with Langevin thermostat to equilibrate a bulk structure."
   ]
  },
  {
   "cell_type": "code",
   "execution_count": 10,
   "id": "fe0c5ded-1888-401d-8049-990742e96ebe",
   "metadata": {},
   "outputs": [],
   "source": [
    "#Symplectic Euler with Langevin Thermostat\n",
    "system.integrator.set_symplectic_euler()\n",
    "system.thermostat.set_langevin(kT=(298.15 * ureg.K * ureg.boltzmann_constant).m_as(\"eV\"), gamma=2, seed=42)"
   ]
  },
  {
   "cell_type": "code",
   "execution_count": 11,
   "id": "17da4b6a-8a90-4ede-a66a-f0a9f3723dc8",
   "metadata": {},
   "outputs": [
    {
     "name": "stderr",
     "output_type": "stream",
     "text": [
      "E_pot: -46936.582 eV: 100%|███████████████████████████████████████████████████████| 15000/15000 [04:16<00:00, 58.44it/s]\n"
     ]
    }
   ],
   "source": [
    "tbar = tqdm.trange(15000, ncols=120)\n",
    "for idx in tbar:\n",
    "    #atoms = system.ase.get()\n",
    "    #atoms.calc = calc\n",
    "    #system.part.all().ext_force = atoms.get_forces()\n",
    "    #system.integrator.run(1)\n",
    "    ase_interface.integrate(1, box.calc)\n",
    "    tbar.set_description(f\"E_pot: {ase_interface.atoms.get_potential_energy():.3f} eV\")"
   ]
  },
  {
   "cell_type": "markdown",
   "id": "921c5eed-89fe-4e50-8b40-7df9b1bec7cd",
   "metadata": {},
   "source": [
    "### Sampling of radial distribution function (RDF)\n",
    "Here, we will accumrate the radial distribution function (rdf) of oxygen-oxgen and plot them."
   ]
  },
  {
   "cell_type": "code",
   "execution_count": 12,
   "id": "f10a9464-13b9-4c06-8cf2-97605d6cbef7",
   "metadata": {},
   "outputs": [
    {
     "name": "stderr",
     "output_type": "stream",
     "text": [
      "100%|███████████████████████████████████████████████████████████████████████████████| 2000/2000 [00:32<00:00, 60.66it/s]\n"
     ]
    }
   ],
   "source": [
    "# Sampling of RDF\n",
    "import numpy as np\n",
    "import espressomd.observables\n",
    "\n",
    "rdfs = []\n",
    "rdf_bins = 700\n",
    "r_min = 0.0\n",
    "r_max = 7  # angstrom\n",
    "o_ids = system.part.select(type=8).id\n",
    "rdf_obs = espressomd.observables.RDF(\n",
    "    ids1=o_ids, ids2=o_ids, n_r_bins=500, min_r=r_min, max_r=r_max)\n",
    "\n",
    "tbar = tqdm.trange(2000, ncols=120)\n",
    "for idx in tbar:\n",
    "    ase_interface.integrate(1, box.calc)\n",
    "    if idx % 5:\n",
    "        rdfs.append(rdf_obs.calculate())\n",
    "rdf = np.mean(rdfs, axis=0)\n",
    "rdf_err = np.std(rdfs, axis=0)/np.sqrt(len(rdfs))\n",
    "bin_centers = rdf_obs.bin_centers()"
   ]
  },
  {
   "cell_type": "markdown",
   "id": "62803c37-ee09-4493-a33e-9549f688a6a4",
   "metadata": {},
   "source": [
    "### Plot RDF\n",
    "Since Van der waals radius of oxygen is 1.5 angstrom, the first peak of rdf should be arund 3."
   ]
  },
  {
   "cell_type": "code",
   "execution_count": 13,
   "id": "be5aff3a-dea4-43e6-bdd6-1c1dc1cbd2a5",
   "metadata": {},
   "outputs": [
    {
     "data": {
      "image/png": "[encoded data removed]",
      "text/plain": [
       "<Figure size 1000x700 with 1 Axes>"
      ]
     },
     "metadata": {},
     "output_type": "display_data"
    }
   ],
   "source": [
    "# Plot RDF\n",
    "import matplotlib.pyplot as plt\n",
    "\n",
    "fig, ax = plt.subplots(figsize=(10, 7))\n",
    "ax.plot(bin_centers, rdf, label=r'MLIP $r_{max}= 5\\mathrm{\\AA}$')\n",
    "ax.plot(bin_centers, np.ones(bin_centers.size))\n",
    "plt.legend()\n",
    "plt.xlabel(r'r / $\\mathrm{\\AA}$')\n",
    "plt.ylabel('oxygen-oxygen RDF g(r)')\n",
    "plt.show()"
   ]
  },
  {
   "cell_type": "markdown",
   "id": "84e9c258-b26f-4d45-b96b-8941f5ba08ab",
   "metadata": {},
   "source": [
    "Exercise\n",
    "\n",
    "Comparison between RDF obtainded from atomistic simulations and that obtained using MLIP."
   ]
  },
  {
   "cell_type": "code",
   "execution_count": null,
   "id": "d37eb77f-db8f-4b0b-9cfc-7d0197bb3c28",
   "metadata": {},
   "outputs": [],
   "source": []
  }
 ],
 "metadata": {
  "kernelspec": {
   "display_name": "Python 3 (ipykernel)",
   "language": "python",
   "name": "python3"
  },
  "language_info": {
   "codemirror_mode": {
    "name": "ipython",
    "version": 3
   },
   "file_extension": ".py",
   "mimetype": "text/x-python",
   "name": "python",
   "nbconvert_exporter": "python",
   "pygments_lexer": "ipython3",
   "version": "3.12.3"
  }
 },
 "nbformat": 4,
 "nbformat_minor": 5
}
