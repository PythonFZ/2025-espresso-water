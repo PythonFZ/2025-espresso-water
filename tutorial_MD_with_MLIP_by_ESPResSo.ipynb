{
 "cells": [
  {
   "cell_type": "markdown",
   "id": "292744cd",
   "metadata": {},
   "source": [
    "# MLIP and Espresso\n",
    "In this tutorial, you'll learn how to train and deploy a machine-learned interatomic potential (MLIP) with espresso.\n",
    "We'll be using the [apax](https://github.com/apaxhub/apax) MLIP. (https://pubs.acs.org/doi/full/10.1021/acs.jcim.5c01221)"
   ]
  },
  {
   "cell_type": "markdown",
   "id": "b29038dc-4eb0-4bd9-80ee-0ea8869e235f",
   "metadata": {},
   "source": [
    "In the tutorial for MD part, all physical parameters constituting the system follow those used in the system constructed in the tutorial for evaluating the MLIPs. Hence, we need to read them from **water.json** file."
   ]
  },
  {
   "cell_type": "code",
   "execution_count": 1,
   "id": "79cc7d2f-3531-4249-93cd-e749f6812e75",
   "metadata": {},
   "outputs": [],
   "source": [
    "from ase.io import read\n",
    "import zntrack\n",
    "\n",
    "box = read('water.json')"
   ]
  },
  {
   "cell_type": "markdown",
   "id": "460b611e-89f0-4821-8b0e-e9779f827fff",
   "metadata": {},
   "source": [
    "We also need to define the model used in MD to suite your task requirements.\n",
    "\n",
    "**Exercise:**\n",
    "- Create the model by `zntrack.from.rev(String)` to suite your task requirements.\n",
    "\n",
    "**Hint:**\n",
    "- The argument for `zntrack.from.rev` can be accepted for following string: `r_max_2_Apax`, `r_max_3_Apax`, `r_max_4_Apax`, `r_max_5_Apax`, `r_max_6_Apax`."
   ]
  },
  {
   "cell_type": "code",
   "execution_count": 2,
   "id": "6a1d7ebb-50fe-40f1-8e02-f973a05abe29",
   "metadata": {},
   "outputs": [],
   "source": [
    "#Solution\n",
    "model = zntrack.from_rev(\"r_max_5_Apax\")"
   ]
  },
  {
   "cell_type": "markdown",
   "id": "1b1a3a5e-b468-4a11-af53-5ca3b1527917",
   "metadata": {},
   "source": [
    "By using generated `model.get_calculater()`, we can obtain trained interaction calculater `calc`."
   ]
  },
  {
   "cell_type": "code",
   "execution_count": 3,
   "id": "df58ea2e",
   "metadata": {},
   "outputs": [
    {
     "name": "stderr",
     "output_type": "stream",
     "text": [
      "/tikhome/hkobayashi/.env/tutotial_2025_mlip/lib/python3.12/site-packages/zntrack/state.py:159: UserWarning: The temporary path is not used when neither remote or rev are set.Consider checking for `self.state.remote` and `self.state.rev` whenusing `with node.state.use_tmp_path(): ...` .\n",
      "  warnings.warn(\n",
      "WARNING:absl:`StandardCheckpointHandler` expects a target tree to be provided for restore. Not doing so is generally UNSAFE unless you know the present topology to be the same one as the checkpoint was saved under.\n"
     ]
    }
   ],
   "source": [
    "calc = model.get_calculator()\n",
    "\n",
    "box.calc = calc"
   ]
  },
  {
   "cell_type": "markdown",
   "id": "229d59af-87ff-432b-ad13-8df6be62b639",
   "metadata": {},
   "source": [
    "## MD simulations with MLIP by ESPResSo\n",
    "Here, we import the necessary ESPResSo features and external modules to combine ESPResSo with MLIP"
   ]
  },
  {
   "cell_type": "code",
   "execution_count": 4,
   "id": "a69961b1",
   "metadata": {},
   "outputs": [],
   "source": [
    "# ESPResSo imports\n",
    "import espressomd\n",
    "from espressomd.plugins.ase import ASEInterface\n",
    "from espressomd.zn import Visualizer\n",
    "\n",
    "# Miscellaneous\n",
    "import pint\n",
    "import tqdm"
   ]
  },
  {
   "cell_type": "markdown",
   "id": "eaa6f563-bbc1-4724-a3fd-f5a8711171f9",
   "metadata": {},
   "source": [
    "### Unit\n",
    "In the majority of studies employing machine-learned interatomic potentials, energies are expressed in electronvolts (eV), distances in angstroms, and masses in atomic units. This convention does not arise from limitations of the models, but rather reflects the de facto standard that has emerged. Although machine-learning algorithms are agnostic to the choice of units, they must be trained within a consistent unit system; thus, it is essential to identify the units being used. Temporal scales are commonly expressed in femtoseconds. Consistent with this practice, ASE adopts the same unit system as its default. In the present tutorial, we employ pint to manage units."
   ]
  },
  {
   "cell_type": "markdown",
   "id": "72db20a2-093b-4036-8444-558773c35795",
   "metadata": {},
   "source": [
    "**Exercise:**\n",
    "- Create an instance of the [`pint.UnitRegistry`](https://pint.readthedocs.io/en/stable/api/base.html#pint.UnitRegistry) for the unit conversions throughout the tutorial and name the variable `ureg`.\n",
    "\n",
    "**Hint:**\n",
    "- It might be helpful to look at the [Tutorial section of pint](https://pint.readthedocs.io/en/stable/getting/tutorial.html#initializing-a-registry)."
   ]
  },
  {
   "cell_type": "code",
   "execution_count": 5,
   "id": "4ec46343-e79f-43c6-b2c0-91f79831d97b",
   "metadata": {},
   "outputs": [],
   "source": [
    "#Solution\n",
    "ureg = pint.UnitRegistry()"
   ]
  },
  {
   "cell_type": "markdown",
   "id": "52a83973-129f-459d-b685-cc0f41afbdda",
   "metadata": {},
   "source": [
    "### Setup System for ESPResO\n",
    "All parameters, i.e, system size, the number of particles, the particle positions and etc., are followed to `box` from ASE. For simplicity, the type of each particle is defined as the atomic number of them."
   ]
  },
  {
   "cell_type": "code",
   "execution_count": 6,
   "id": "4a22daad-835e-45f6-bc9d-f15c47f66920",
   "metadata": {},
   "outputs": [
    {
     "name": "stdout",
     "output_type": "stream",
     "text": [
      "0.09822694743391454\n"
     ]
    }
   ],
   "source": [
    "system = espressomd.System(box_l=box.get_cell().diagonal())\n",
    "system.periodicity = [True, True, True]\n",
    "system.time_step = (1.0 * ureg.fs).m_as(((1 * ureg.u * ureg.angstrom**2) / ureg.electron_volt) ** 0.5)\n",
    "print(system.time_step)\n",
    "system.cell_system.skin = 0.4\n",
    "system.part.clear()\n",
    "for atom in box:\n",
    "    system.part.add(pos=atom.position, type=atom.number, mass=atom.mass)"
   ]
  },
  {
   "cell_type": "markdown",
   "id": "9c35860c-228f-475b-b180-a97d8999c743",
   "metadata": {},
   "source": [
    "To combine ESPResSo and MLIP provided by ASE, we use `espressomd.plugins.ase.ASEInterface`. The arguments of constuctor for `espressomd.plugins.ase.ASEInterface` are `espressomd.System system`, `dictionary type_mapping` and `espressomd.system.part particle_slice`.\n",
    "\n",
    "\n",
    "ESPResSo can deal with fictitious particle types, does not require physically realistic particle numbers. By contrast, ASE only deals with atomic number. Because of this, we have to define the mapping between the ESPResSo particle types and the ASE atom types. This is done by passing a type_mapping dictionary to the ASEInterface class. An example for such a type map for a water system would be:\n",
    "An example for such a type map for a water system would be:\n",
    "\n",
    "type_mapping = {1: 8, 2: 1}\n",
    "\n",
    "e.g., particle type 1 in ESPResSo is mapped to Oxygen (atomic number 8) and particle type 2 is mapped to Hydrogen (atomic number 1).\n",
    "\n",
    "In this tutorial, for simplicity, we already set the same particle types as the atomic number in ASE."
   ]
  },
  {
   "cell_type": "markdown",
   "id": "b6d25a74-5187-4dc0-b921-de0a27f60478",
   "metadata": {},
   "source": [
    "**Exercise:**\n",
    "- Create dictionry `type_mapping` to correctoly maps between ASE and ESPResSo according to the current setting. \n",
    "\n",
    "**Hint:**\n",
    "- The system contains only hydrogen(atomic number 1) and oxygen(atomic number 8)."
   ]
  },
  {
   "cell_type": "code",
   "execution_count": 7,
   "id": "a5f6c736-da5a-410b-9f17-8fbd19fa03f3",
   "metadata": {},
   "outputs": [],
   "source": [
    "#Solution\n",
    "type_mapping={x: x for x in set(box.numbers)}"
   ]
  },
  {
   "cell_type": "markdown",
   "id": "5736cb76-c3e5-4240-a418-c4151667bbd6",
   "metadata": {},
   "source": [
    "Using this `type_mapping`, we create `espressomd.plugins.ase.ASEInterface ase_interface`."
   ]
  },
  {
   "cell_type": "code",
   "execution_count": 8,
   "id": "4807d2c2-77ad-4aa0-b48b-0e2be2a9aefe",
   "metadata": {},
   "outputs": [],
   "source": [
    "ase_interface = espressomd.plugins.ase.ASEInterface(\n",
    "    system=system,\n",
    "    type_mapping=type_mapping,\n",
    "    particle_slice=system.part.all()\n",
    ")"
   ]
  },
  {
   "cell_type": "markdown",
   "id": "c5a12041-1e81-4300-b3f0-60a2b493bea3",
   "metadata": {},
   "source": [
    "### Steepest Descent\n",
    "We use steepset descent to minimize the energy of the system."
   ]
  },
  {
   "cell_type": "code",
   "execution_count": 9,
   "id": "7db03926-d36c-4a44-b48b-8acde025b89f",
   "metadata": {},
   "outputs": [],
   "source": [
    "system.integrator.set_steepest_descent(f_max=(0.1 * ureg.eV / ureg.angstrom).magnitude,\n",
    "                                       gamma=4,\n",
    "                                       max_displacement=(0.001 * ureg.angstrom).magnitude)"
   ]
  },
  {
   "cell_type": "markdown",
   "id": "9dea7274-3588-40c7-9149-35936fe775b7",
   "metadata": {},
   "source": [
    "MD integration can be perfomed by `ase_interface.integrate(steps: int, calculator)`. steps means the number of integration steps to perform.\n",
    "\n",
    "For each step:\n",
    "1. Update ASE with current particle data\n",
    "2. Get forces from calculator\n",
    "3. Set external forces on particles\n",
    "4. Run one integration step\n",
    "\n",
    "**Exercise:**\n",
    "- Integrate the sytem for 500 steps in total. \n",
    "\n",
    "**Hint:**\n",
    "- the argument `calculater` should be trained interaction calculater `box.calc`."
   ]
  },
  {
   "cell_type": "code",
   "execution_count": 10,
   "id": "26a6608f-d454-4598-b4e5-eaa67c569e65",
   "metadata": {},
   "outputs": [
    {
     "name": "stderr",
     "output_type": "stream",
     "text": [
      "E_pot: -46940.656 eV: 100%|█████████████████████████████████████████████████████████| 1000/1000 [00:15<00:00, 64.98it/s]\n"
     ]
    }
   ],
   "source": [
    "#Solution\n",
    "tbar = tqdm.trange(1000, ncols=120)\n",
    "for _ in tbar:\n",
    "    ase_interface.integrate(1, box.calc)\n",
    "    tbar.set_description(f\"E_pot: {ase_interface.atoms.get_potential_energy():.3f} eV\")"
   ]
  },
  {
   "cell_type": "markdown",
   "id": "fb7f0603-77c8-4a29-9b08-85c0a6c184d7",
   "metadata": {},
   "source": [
    "### Equilibration\n",
    "Then, we turn on the Langevin thermostat and run a warmup integration by simplectic Euler algorithm. Here we set the temperature as **298.15** K."
   ]
  },
  {
   "cell_type": "code",
   "execution_count": 11,
   "id": "fe0c5ded-1888-401d-8049-990742e96ebe",
   "metadata": {},
   "outputs": [],
   "source": [
    "#Symplectic Euler with Langevin Thermostat\n",
    "system.thermostat.set_langevin(kT=(298.15 * ureg.K * ureg.boltzmann_constant).m_as(\"eV\"), gamma=2, seed=42)\n",
    "system.integrator.set_symplectic_euler()"
   ]
  },
  {
   "cell_type": "code",
   "execution_count": 12,
   "id": "17da4b6a-8a90-4ede-a66a-f0a9f3723dc8",
   "metadata": {},
   "outputs": [
    {
     "name": "stderr",
     "output_type": "stream",
     "text": [
      "E_pot: -46936.413 eV: 100%|█████████████████████████████████████████████████████████| 5000/5000 [00:56<00:00, 88.58it/s]\n"
     ]
    }
   ],
   "source": [
    "tbar = tqdm.trange(5000, ncols=120)\n",
    "for idx in tbar:\n",
    "    ase_interface.integrate(1, box.calc)\n",
    "    tbar.set_description(f\"E_pot: {ase_interface.atoms.get_potential_energy():.3f} eV\")"
   ]
  },
  {
   "cell_type": "markdown",
   "id": "921c5eed-89fe-4e50-8b40-7df9b1bec7cd",
   "metadata": {},
   "source": [
    "### Sampling of radial distribution function (RDF)\n",
    "After warmup calculation, we accumrate the radial distribution function (rdf) of oxygen-oxgen and plot them."
   ]
  },
  {
   "cell_type": "code",
   "execution_count": 13,
   "id": "f10a9464-13b9-4c06-8cf2-97605d6cbef7",
   "metadata": {},
   "outputs": [
    {
     "name": "stderr",
     "output_type": "stream",
     "text": [
      "100%|█████████████████████████████████████████████████████████████████████████████████| 100/100 [00:05<00:00, 18.59it/s]\n"
     ]
    }
   ],
   "source": [
    "import espressomd.observables\n",
    "\n",
    "rdfs = []\n",
    "rdf_bins = 700\n",
    "r_min = 0.0\n",
    "r_max = 7  # angstrom\n",
    "o_ids = system.part.select(type=8).id\n",
    "rdf_obs = espressomd.observables.RDF(\n",
    "    ids1=o_ids, ids2=o_ids, n_r_bins=500, min_r=r_min, max_r=r_max)\n",
    "\n",
    "# Sampling of RDF\n",
    "import numpy as np\n",
    "tbar = tqdm.trange(100, ncols=120)\n",
    "for idx in tbar:\n",
    "    ase_interface.integrate(5, box.calc)\n",
    "    rdfs.append(rdf_obs.calculate())\n",
    "rdf = np.mean(rdfs, axis=0)\n",
    "rdf_err = np.std(rdfs, axis=0)/np.sqrt(len(rdfs))\n",
    "bin_centers = rdf_obs.bin_centers()"
   ]
  },
  {
   "cell_type": "markdown",
   "id": "62803c37-ee09-4493-a33e-9549f688a6a4",
   "metadata": {},
   "source": [
    "### Plot RDF\n",
    "Since Van der waals radius of oxygen is 1.5 angstrom, the first peak in RDF should be arund 3. Due to the tetrahedral structure of water at 298.15 K, the second peak in RDF should appears at about 1.5-1.6 times the Van der waals diamter, corresponding to a distance of approximately 4.5-4.8 angstrome."
   ]
  },
  {
   "cell_type": "code",
   "execution_count": 14,
   "id": "be5aff3a-dea4-43e6-bdd6-1c1dc1cbd2a5",
   "metadata": {},
   "outputs": [
    {
     "data": {
      "image/png": "[encoded data removed]",
      "text/plain": [
       "<Figure size 1000x700 with 1 Axes>"
      ]
     },
     "metadata": {},
     "output_type": "display_data"
    }
   ],
   "source": [
    "# Plot RDF\n",
    "import matplotlib.pyplot as plt\n",
    "\n",
    "fig, ax = plt.subplots(figsize=(10, 7))\n",
    "ax.plot(bin_centers, rdf, label=r'MLIP $r_{max}= 5\\mathrm{\\AA}$')\n",
    "ax.plot(bin_centers, np.ones(bin_centers.size))\n",
    "plt.legend()\n",
    "plt.xlabel(r'r / $\\mathrm{\\AA}$')\n",
    "plt.ylabel('oxygen-oxygen RDF g(r)')\n",
    "plt.show()"
   ]
  },
  {
   "cell_type": "markdown",
   "id": "84e9c258-b26f-4d45-b96b-8941f5ba08ab",
   "metadata": {},
   "source": [
    "Exercise\n",
    "\n",
    "Comparison between RDF obtainded from atomistic simulations and that obtained using MLIP."
   ]
  },
  {
   "cell_type": "code",
   "execution_count": null,
   "id": "d37eb77f-db8f-4b0b-9cfc-7d0197bb3c28",
   "metadata": {},
   "outputs": [],
   "source": []
  }
 ],
 "metadata": {
  "kernelspec": {
   "display_name": "Python 3 (ipykernel)",
   "language": "python",
   "name": "python3"
  },
  "language_info": {
   "codemirror_mode": {
    "name": "ipython",
    "version": 3
   },
   "file_extension": ".py",
   "mimetype": "text/x-python",
   "name": "python",
   "nbconvert_exporter": "python",
   "pygments_lexer": "ipython3",
   "version": "3.12.3"
  }
 },
 "nbformat": 4,
 "nbformat_minor": 5
}
