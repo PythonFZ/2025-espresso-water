{
 "cells": [
  {
   "cell_type": "markdown",
   "id": "292744cd",
   "metadata": {},
   "source": [
    "# MLIP and Espresso\n",
    "In this tutorial, you'll learn how to train and deploy a machine-learned interatomic potential (MLIP) with espresso.\n",
    "We'll be using the [apax](https://github.com/apaxhub/apax) MLIP. (https://pubs.acs.org/doi/full/10.1021/acs.jcim.5c01221)"
   ]
  },
  {
   "cell_type": "code",
   "execution_count": 1,
   "id": "2c8c7670",
   "metadata": {},
   "outputs": [],
   "source": [
    "import zntrack\n",
    "import rdkit2ase\n",
    "import matplotlib.pyplot as plt\n",
    "import znh5md"
   ]
  },
  {
   "cell_type": "markdown",
   "id": "375e8e82",
   "metadata": {},
   "source": [
    "You can select from the following models.\n",
    "## Different NN sizes\n",
    "The NN width and depth define the number of parameters of the neural network and thereby the model's capacity.\n",
    "- `nn_16-16_Apax`, `nn_32-32_Apax`, `nn_64-64_Apax`, `nn_128-128_Apax`\n",
    "## Different r max\n",
    "The maxium radial cutoff defines how far the MLIP can \"see\" e.g. the size of the rezeptive field or the  size of a single local atomic environment.\n",
    "- `r_max_2_Apax`, `r_max_3_Apax`, `r_max_4_Apax`, `r_max_5_Apax`, `r_max_6_Apax`\n",
    "## Different n_basis\n",
    "The number of bessel functions used to define the radial resolution within a local atomic environment.\n",
    "- `n_basis_16_Apax`\n",
    "## Different n_radial\n",
    "The angular resolution \n",
    "- ..."
   ]
  },
  {
   "cell_type": "code",
   "execution_count": 2,
   "id": "df58ea2e",
   "metadata": {},
   "outputs": [],
   "source": [
    "model = zntrack.from_rev(\"r_max_6_Apax\")"
   ]
  },
  {
   "cell_type": "code",
   "execution_count": 3,
   "id": "8bf21c64",
   "metadata": {},
   "outputs": [],
   "source": [
    "water = rdkit2ase.smiles2conformers(\"O\", numConfs=100)"
   ]
  },
  {
   "cell_type": "code",
   "execution_count": 4,
   "id": "fe4a2626",
   "metadata": {},
   "outputs": [],
   "source": [
    "box = rdkit2ase.pack(\n",
    "    [water], counts=[100], density=997, packmol=\"/tikhome/fzills/.local/bin/packmol\"\n",
    ")"
   ]
  },
  {
   "cell_type": "code",
   "execution_count": 5,
   "id": "22decdcb",
   "metadata": {},
   "outputs": [
    {
     "name": "stderr",
     "output_type": "stream",
     "text": [
      "/tikhome/hkobayashi/.env/tutotial_2025_mlip/lib/python3.12/site-packages/zntrack/state.py:159: UserWarning: The temporary path is not used when neither remote or rev are set.Consider checking for `self.state.remote` and `self.state.rev` whenusing `with node.state.use_tmp_path(): ...` .\n",
      "  warnings.warn(\n",
      "WARNING:absl:`StandardCheckpointHandler` expects a target tree to be provided for restore. Not doing so is generally UNSAFE unless you know the present topology to be the same one as the checkpoint was saved under.\n"
     ]
    }
   ],
   "source": [
    "calc = model.get_calculator()"
   ]
  },
  {
   "cell_type": "code",
   "execution_count": 6,
   "id": "c5976fae",
   "metadata": {},
   "outputs": [],
   "source": [
    "box.calc = calc"
   ]
  },
  {
   "cell_type": "code",
   "execution_count": 7,
   "id": "f7979679",
   "metadata": {},
   "outputs": [
    {
     "data": {
      "text/plain": [
       "-46872.174970584165"
      ]
     },
     "execution_count": 7,
     "metadata": {},
     "output_type": "execute_result"
    }
   ],
   "source": [
    "box.get_potential_energy()"
   ]
  },
  {
   "cell_type": "code",
   "execution_count": 8,
   "id": "972a36c4",
   "metadata": {},
   "outputs": [
    {
     "data": {
      "text/plain": [
       "array([[-3.44096376e+00, -7.57297346e-02,  1.42347049e+00],\n",
       "       [ 1.03061721e+00, -6.11993545e-02,  1.27632018e+00],\n",
       "       [-7.90527659e-01, -4.35877631e-01, -1.94370061e+00],\n",
       "       [ 3.48774828e-01, -1.66392674e-01,  5.12837302e-01],\n",
       "       [ 1.50111862e+00, -4.20036608e-01,  2.28372506e-01],\n",
       "       [-2.23275722e+00,  2.14317278e-02, -6.95918084e-01],\n",
       "       [ 8.58346383e-01, -7.76979874e-01,  3.13388199e-01],\n",
       "       [-5.40605059e-01, -6.66309705e-01,  5.61885376e-01],\n",
       "       [-5.55130832e-01,  1.55970864e+00, -7.56267200e-01],\n",
       "       [ 5.93063838e-01, -4.19955994e-01, -3.69066421e-01],\n",
       "       [ 1.90602714e-01, -1.13913638e+00, -1.16540179e+00],\n",
       "       [-7.25760067e-01,  1.60908832e+00,  1.29756705e+00],\n",
       "       [ 6.27306286e-01, -3.44016370e-01, -5.42357602e-01],\n",
       "       [ 1.21109828e+00,  1.48419502e-01, -1.06118886e+00],\n",
       "       [-1.35241959e+00,  5.26803491e-01,  1.10686713e+00],\n",
       "       [-3.99264678e-01, -3.09813804e-01,  3.94601883e-01],\n",
       "       [ 3.42021006e-01, -1.02314109e+00,  1.51225188e+00],\n",
       "       [ 1.36219614e-01,  1.84533492e+00, -1.91710855e+00],\n",
       "       [ 2.26571417e-01, -4.58776843e-01, -1.65544163e+00],\n",
       "       [-5.07776104e-01, -1.63467829e+00,  4.24784532e-01],\n",
       "       [ 6.05397201e-01,  1.93289958e+00, -4.94877584e-01],\n",
       "       [ 7.64452715e-01, -1.66264168e+00, -4.60652604e-01],\n",
       "       [ 6.08917822e-01,  7.95311302e-01, -7.11396046e-01],\n",
       "       [-7.95929726e-01, -1.99006424e-01,  1.27637750e+00],\n",
       "       [ 2.60016452e+00,  4.30038650e-01, -1.25688268e-01],\n",
       "       [ 2.31964655e-01,  1.21021647e+00,  1.72548633e-01],\n",
       "       [-6.19394245e-01, -1.69682194e+00, -1.02558506e-01],\n",
       "       [ 5.90288760e-01,  2.33325563e+00,  4.11769147e-01],\n",
       "       [ 1.12622947e+00, -2.66790552e-01,  2.49532448e-01],\n",
       "       [-1.88148646e+00, -1.10782437e+00,  1.16356640e-01],\n",
       "       [ 3.11243109e+00, -8.98093812e-01,  2.49468704e+00],\n",
       "       [-2.81293565e-01,  1.17588701e+00,  5.29630609e-01],\n",
       "       [-6.61688853e-02, -5.98560390e-01, -1.69079432e+00],\n",
       "       [-6.08221007e-01, -1.87011508e+00,  4.52802201e-01],\n",
       "       [-1.10345708e+00,  6.11736008e-01, -2.07989086e-01],\n",
       "       [ 1.84477963e+00,  4.99359265e-01, -5.32054539e-01],\n",
       "       [ 2.50236884e+00,  1.06877213e+00,  4.86296935e-01],\n",
       "       [ 7.90694418e-01, -6.98021500e-01, -2.14480533e-01],\n",
       "       [-1.42754766e+00,  4.24149459e-01, -2.53736205e-01],\n",
       "       [-3.82545133e-01, -6.66825903e-01,  2.85573000e-01],\n",
       "       [ 3.56370756e-01, -1.42231878e+00,  1.03196690e-01],\n",
       "       [ 5.65342003e-01,  1.57325737e+00, -3.63794438e-01],\n",
       "       [ 5.51683238e-01,  4.12417687e-01, -1.73043435e+00],\n",
       "       [-1.02893300e-01,  9.89639563e-01,  7.32704826e-01],\n",
       "       [-5.87260209e-01, -1.71695359e+00,  2.94517679e-01],\n",
       "       [ 1.19272467e+00,  3.00388723e-01, -1.40583075e-01],\n",
       "       [ 4.68368451e-01,  6.63596943e-01,  1.00433225e+00],\n",
       "       [-2.01642943e+00, -2.75914666e-01, -9.26930212e-01],\n",
       "       [-1.44350094e-01, -3.73733534e-01, -1.36301948e-01],\n",
       "       [-8.50848744e-01, -1.42514700e-01,  1.30625584e+00],\n",
       "       [ 6.75520108e-01,  1.02791425e+00, -1.04865055e+00],\n",
       "       [-4.10104487e+00,  4.34003089e+00, -8.46340618e-01],\n",
       "       [-5.47279743e-01, -1.10692749e+00, -6.90241416e-01],\n",
       "       [ 1.37922595e+00,  6.04082755e-01,  7.85148366e-01],\n",
       "       [-4.49639287e-01,  9.52056650e-01,  1.65111293e+00],\n",
       "       [ 8.95549664e-01,  1.35068074e+00,  6.10921448e-01],\n",
       "       [-7.16253165e-01, -2.62128837e+00, -5.01189763e-01],\n",
       "       [-7.17098804e-02,  9.17027201e-01, -2.78231161e-01],\n",
       "       [-7.54799941e-01, -1.90696040e-01,  1.63103655e+00],\n",
       "       [ 1.03654797e+00, -8.57317608e-02, -1.29446532e+00],\n",
       "       [-8.25373583e-01, -6.16710524e-01, -1.48209009e+00],\n",
       "       [-6.11465303e-01,  1.01500052e+00,  4.56116398e-02],\n",
       "       [ 2.14812355e+00, -2.50501759e-01,  1.58919459e-02],\n",
       "       [-1.50784455e+00, -7.22536954e-01, -1.31241437e+00],\n",
       "       [ 5.99392045e-01,  1.08537127e+00, -7.63988981e-01],\n",
       "       [ 8.59904286e-01, -1.13696079e+00,  1.30593362e+00],\n",
       "       [-9.97217521e-02, -9.71560107e-01,  9.14042537e-01],\n",
       "       [-1.33663892e-01,  9.42054624e-01,  1.50045477e+00],\n",
       "       [ 1.09597890e+00, -1.42678549e+00, -1.78212865e+00],\n",
       "       [-6.20411722e-01, -1.42716221e+00,  9.29952499e-01],\n",
       "       [-3.52693421e-01, -6.42585872e-01, -1.03102164e+00],\n",
       "       [ 1.24619139e+00,  1.38888339e+00,  2.69918039e-01],\n",
       "       [-2.66494552e-01, -5.36338878e-01, -1.02249693e+00],\n",
       "       [-1.48222015e+00, -4.84373622e-01,  1.32359802e-01],\n",
       "       [ 1.40215721e+00,  1.42011585e+00, -1.70810555e-01],\n",
       "       [ 3.34323168e-01, -1.83972908e+00,  1.30331255e+00],\n",
       "       [ 9.71665731e-01,  3.59004175e-01, -2.46033876e-01],\n",
       "       [-1.41305479e+00,  1.34355092e+00,  3.35159208e-01],\n",
       "       [-9.90388623e-01, -1.80045501e+00, -1.55403103e+00],\n",
       "       [ 8.28271054e-01, -1.32397578e+00, -4.47304017e-02],\n",
       "       [ 3.37829569e-01,  1.67854872e+00,  3.25171167e-02],\n",
       "       [-1.45575845e+00,  1.84727817e+00, -6.66608520e-01],\n",
       "       [-6.71008459e-01, -1.06738052e+00,  2.76374971e-02],\n",
       "       [ 1.56992261e+00,  1.25052644e+00, -3.45114916e-01],\n",
       "       [-7.72421509e-01, -1.32441458e+00,  1.81151378e+00],\n",
       "       [ 1.30467481e+00,  9.46913693e-04,  3.50511652e-01],\n",
       "       [-8.51861438e-01,  9.84672355e-01, -1.08323782e+00],\n",
       "       [ 1.50520762e+00, -4.53920056e-01,  7.82869313e-01],\n",
       "       [-1.83773333e-02, -1.58998640e+00, -4.63936910e-01],\n",
       "       [-9.57493947e-01,  1.70880754e+00, -4.43455771e-02],\n",
       "       [-3.08949678e+00,  5.66595605e-01, -6.80145422e-01],\n",
       "       [-1.31666523e-01, -7.34697995e-01, -7.91333252e-01],\n",
       "       [ 1.26832476e+00,  6.50122321e-01,  1.37345916e+00],\n",
       "       [-2.67083913e-01,  1.35046236e+00,  1.29106580e+00],\n",
       "       [ 1.45821274e+00,  1.27906680e-01,  3.52656510e-01],\n",
       "       [-1.37363197e+00, -1.26493643e-01, -1.41648937e+00],\n",
       "       [ 1.16524834e+00, -1.13408805e+00, -3.11896261e+00],\n",
       "       [-1.24035077e+00,  4.39075814e-01, -1.25141204e-01],\n",
       "       [ 1.61475151e+00, -7.09518511e-01,  4.30774837e-01],\n",
       "       [-2.64464943e+00,  6.36266124e-01, -1.29809963e+00],\n",
       "       [ 6.63142485e-01,  2.57169687e-01, -1.20652134e+00],\n",
       "       [ 1.19906614e+00,  2.00417458e-02,  1.84920956e+00],\n",
       "       [ 8.12329046e-01, -1.45256082e+00,  3.97781952e-01],\n",
       "       [-1.19582981e+00, -4.47501400e-01,  7.13752524e-01],\n",
       "       [-2.08611765e-01,  1.23241582e+00, -3.22867395e-01],\n",
       "       [ 6.28982173e-02,  8.25290839e-01, -1.96722963e-01],\n",
       "       [ 1.41130174e+00,  2.83017277e-01, -3.75489552e-01],\n",
       "       [-1.65456894e+00, -7.56559650e-01,  3.11059431e-01],\n",
       "       [ 7.59576206e-01,  8.73469080e-01, -4.52579634e-01],\n",
       "       [ 6.38849390e-01,  1.56072997e+00, -7.24924732e-02],\n",
       "       [-1.28631988e+00, -1.87969390e+00,  5.31503408e-01],\n",
       "       [ 4.52453643e-01, -1.44738130e+00,  1.17886346e+00],\n",
       "       [-1.21155656e+00,  1.40963569e-01,  6.53116901e-01],\n",
       "       [ 1.38365538e+00,  6.16907461e-01, -1.58454915e+00],\n",
       "       [-1.39366825e+00,  1.08499282e+00,  6.23704613e-01],\n",
       "       [-1.90560675e-01, -1.11890143e+00,  2.88189321e-02],\n",
       "       [ 1.26104770e+00,  7.80217367e-01,  1.65331955e-01],\n",
       "       [-2.97937406e+00, -2.07830182e-01, -2.13162073e+00],\n",
       "       [ 3.49489742e-01,  1.50557472e+00,  7.91926783e-02],\n",
       "       [ 4.74986599e-01, -9.18590781e-01,  7.50042833e-01],\n",
       "       [-2.00720517e+00,  3.18389177e-01,  1.46960248e+00],\n",
       "       [-3.24576584e-01, -1.40618333e+00, -5.71800148e-01],\n",
       "       [ 1.60769232e+00,  1.53534653e+00,  4.96489766e-01],\n",
       "       [ 5.94506677e-01, -2.06904213e+00,  5.82209267e-01],\n",
       "       [-1.08607462e+00, -2.84680591e-02, -1.08203963e-01],\n",
       "       [ 6.37285055e-01,  1.56115371e+00, -1.95663111e-01],\n",
       "       [ 3.47838724e-01,  2.63006363e-01, -1.17214113e+00],\n",
       "       [ 1.01205277e+00, -1.29310263e+00, -8.13363950e-01],\n",
       "       [-7.53424304e-01,  7.38735259e-01,  1.07724299e+00],\n",
       "       [ 7.28881749e-01,  1.72860898e+00,  4.37474877e-01],\n",
       "       [-7.51488813e-01, -3.37952232e-01,  1.04217476e+00],\n",
       "       [ 7.29629080e-01, -2.50111777e-01, -1.26957762e+00],\n",
       "       [-1.80383077e+00,  1.20683389e+00, -1.54484806e+00],\n",
       "       [ 1.24776640e-01,  1.40908310e+00,  6.67120715e-01],\n",
       "       [ 7.51514621e-01, -1.52351136e+00, -3.59850804e-01],\n",
       "       [-3.37339444e+00, -3.19033356e-01,  5.83930837e-01],\n",
       "       [ 4.24827508e-01, -1.17703162e+00,  2.65510456e-01],\n",
       "       [ 4.39163494e-01,  2.28781394e+00,  1.20681758e-01],\n",
       "       [ 9.40301246e-01, -5.90286865e-01,  3.97847632e-02],\n",
       "       [-4.24343339e-01,  1.30736625e+00,  3.65961033e-01],\n",
       "       [-4.65275844e-01, -1.12651455e+00, -2.29063679e-01],\n",
       "       [ 3.83621888e+00, -1.99092419e-01,  4.33690714e+00],\n",
       "       [-2.07434717e-01,  1.12991204e+00, -7.89482153e-01],\n",
       "       [-3.35174733e-01, -1.40042239e+00,  1.98898048e-01],\n",
       "       [ 9.33504224e-02, -1.04077624e+00,  3.83392654e-03],\n",
       "       [ 1.64985404e+00,  1.01698107e+00, -3.30191664e-01],\n",
       "       [-2.28284632e+00, -5.22808372e-01,  6.92647688e-02],\n",
       "       [ 4.18578055e-01,  4.80925863e-01, -7.31121664e-02],\n",
       "       [ 1.23310013e+00, -9.20672848e-01, -2.18499977e-01],\n",
       "       [-1.60121352e+00,  7.66423823e-01,  2.64900550e-01],\n",
       "       [ 1.65185549e+00, -4.84717250e+00, -4.69121078e+00],\n",
       "       [ 1.04919433e+00,  6.62466073e-01,  6.08389165e-01],\n",
       "       [-1.40160098e+00,  9.78675986e-01, -8.75644504e-03],\n",
       "       [-8.34034344e-02, -1.75484022e+00, -1.29952568e+00],\n",
       "       [ 5.87543336e-01, -4.70323684e-01, -7.85343435e-01],\n",
       "       [ 9.95913120e-02,  4.27854441e-01,  2.06639918e+00],\n",
       "       [-6.73542652e-01,  1.84729146e+00,  1.17374490e+00],\n",
       "       [ 1.40532478e+00,  1.20319035e+00,  1.69824788e-01],\n",
       "       [-7.43934653e-01, -1.58016046e+00,  5.38787412e-01],\n",
       "       [-7.88287432e-01, -2.91270268e+00, -1.96237701e+00],\n",
       "       [-1.11985819e+00,  5.98203371e-01,  1.90599130e-01],\n",
       "       [ 1.58890304e+00,  5.93243749e-01, -2.70890636e-01],\n",
       "       [ 2.04964421e-01,  1.29436260e-01,  4.15191802e-01],\n",
       "       [-1.89050501e-01, -1.45375394e+00,  4.22397527e-01],\n",
       "       [-6.70860290e-01,  1.24075276e+00, -1.21845854e+00],\n",
       "       [ 1.36811020e+00, -4.11350053e-01,  1.48819706e+00],\n",
       "       [ 1.73305760e+00, -4.51994011e-01, -5.93176784e-01],\n",
       "       [-1.33912863e+00, -7.68954880e-02,  1.09912168e+00],\n",
       "       [ 2.00118167e+00, -8.67217338e-01, -1.10072449e+00],\n",
       "       [-6.84434214e-01,  9.24882649e-01, -1.25580011e+00],\n",
       "       [ 9.04923316e-01,  6.96707263e-02,  1.80166145e+00],\n",
       "       [-6.69637326e-01, -4.30919293e-01,  1.42381338e+00],\n",
       "       [ 1.17467606e+00, -5.57221944e-01, -4.63404128e-01],\n",
       "       [-1.49774372e+00,  7.96151906e-02, -4.99505069e-01],\n",
       "       [-1.50364503e+00, -3.03731777e-01, -4.90079385e-01],\n",
       "       [ 1.29072212e+00, -1.03187285e+00,  3.98957137e-01],\n",
       "       [-1.49912103e+00,  1.38265288e+00,  6.90858206e-02],\n",
       "       [ 2.08719735e-01, -1.42203156e-01, -2.12948576e-01],\n",
       "       [ 1.58398519e+00,  9.51391938e-02, -4.21293821e-01],\n",
       "       [-1.95989829e+00, -4.04456950e-01,  7.12189987e-01],\n",
       "       [-1.38370396e+00,  1.48847647e-01, -1.64118438e+00],\n",
       "       [ 1.95672674e-01,  7.01982407e-01,  1.09796886e+00],\n",
       "       [ 4.12269387e-01, -8.70173312e-01, -1.09381425e+00],\n",
       "       [-1.77866659e+00,  2.27467234e-01,  9.75512768e-02],\n",
       "       [ 1.84674360e-01,  9.50554907e-01, -5.28306777e-01],\n",
       "       [-3.34062078e-01, -6.66805287e-01,  6.90333576e-01],\n",
       "       [ 5.31216343e-01, -8.50661184e-02, -8.32062938e-01],\n",
       "       [-5.16575981e-01,  1.02478542e+00, -6.68489852e-01],\n",
       "       [-1.35692244e-01, -8.06642365e-01,  1.59818075e+00],\n",
       "       [-7.14116104e-01,  4.92684444e-01, -2.70775004e-01],\n",
       "       [ 1.93080287e+00, -3.10038442e-01,  5.24094810e-01],\n",
       "       [-1.95561965e+00,  4.43573272e-01, -3.71154369e-01],\n",
       "       [ 4.48424536e-01,  1.61156418e+00, -6.29880722e-01],\n",
       "       [-4.56839017e-01,  5.88284835e-01,  1.55940917e+00],\n",
       "       [-4.13092032e-01, -6.59986413e-01, -2.37288437e+00],\n",
       "       [-7.40979216e-01,  9.07004767e-01,  1.32615218e-01],\n",
       "       [ 8.75761984e-01, -6.95024251e-01,  1.14271723e+00],\n",
       "       [-6.48430310e-01, -3.08700278e-01, -1.01262867e+00],\n",
       "       [-7.96885162e-01,  9.53352731e-01,  8.00174654e-01],\n",
       "       [ 2.63826237e-01,  1.66011531e+00,  3.26538914e-01],\n",
       "       [ 9.80728984e-02, -2.31352223e+00, -5.99923348e-01],\n",
       "       [-7.00039326e-01,  7.80377012e-01, -6.66791546e-01],\n",
       "       [-1.17140042e+00, -3.41175488e-03,  6.97959420e-01],\n",
       "       [ 1.45696882e+00, -9.57301357e-01, -9.47991614e-01],\n",
       "       [ 5.77579972e-02,  1.19293324e+00,  3.76915879e-01],\n",
       "       [ 1.11771997e+00, -1.71343085e-01,  5.56256527e-01],\n",
       "       [-8.22400729e-01, -8.02591948e-01, -6.51856105e-01],\n",
       "       [ 3.15677226e+00,  5.23720453e-01,  4.66722084e-01],\n",
       "       [ 1.88000710e-01,  1.66642198e+00,  9.04670355e-03],\n",
       "       [-8.38864476e-01, -1.58069606e+00,  6.23544299e-02],\n",
       "       [-1.43692896e+00, -1.63448479e-01, -6.71930468e-01],\n",
       "       [-1.83682870e-01, -1.01204232e+00, -1.14677693e+00],\n",
       "       [-1.25194896e-01,  2.16297988e-01,  2.12953254e+00],\n",
       "       [-8.27655167e-01, -3.61715030e-01, -4.66160030e-01],\n",
       "       [-1.26688179e+00, -2.38575647e-01,  9.53791734e-01],\n",
       "       [ 2.20897517e+00,  2.44189924e-01, -1.88084626e-01],\n",
       "       [ 2.31640323e+00,  1.61388542e+00, -1.37638938e+00],\n",
       "       [ 3.52123916e-01, -1.43887405e+00, -1.42848289e-01],\n",
       "       [-4.96006538e-01,  1.41942955e+00,  1.33905692e+00],\n",
       "       [ 1.38954954e+00, -4.09140578e-01,  2.25703528e-01],\n",
       "       [ 1.75853441e-01, -8.82309163e-01, -2.17832362e-01],\n",
       "       [-1.63971216e+00,  1.48026632e+00, -1.40984158e-01],\n",
       "       [ 5.25979356e-01,  1.64824399e+00, -7.44093099e-01],\n",
       "       [-1.72525851e+00, -7.24861715e-02,  9.89496458e-01],\n",
       "       [ 2.20980077e+00,  3.15465899e-01, -1.60537484e-01],\n",
       "       [-5.81450004e-01, -5.96911085e-01, -3.20473684e-01],\n",
       "       [-4.54327973e-01,  1.23244817e+00, -6.07858702e-01],\n",
       "       [ 1.00183195e+00, -1.19251115e+00,  8.37061402e-01],\n",
       "       [ 2.01722481e+00,  1.16133044e+00,  1.79533060e+00],\n",
       "       [-1.57309368e-01, -1.21583079e+00,  5.19326208e-01],\n",
       "       [-9.65046284e-01,  1.37667159e+00,  3.99439921e-01],\n",
       "       [ 4.00770843e-02, -4.25662423e-02, -7.78585955e-01],\n",
       "       [ 1.41521539e+00,  3.38465463e-01,  1.19946815e-01],\n",
       "       [-1.61362796e+00, -5.77518506e-01,  1.41464751e-01],\n",
       "       [-1.87621528e-01,  9.64020370e-01,  8.42430212e-01],\n",
       "       [-4.46217841e-01,  1.46762758e+00, -7.87229321e-01],\n",
       "       [ 1.10339257e+00, -2.26582487e+00,  5.15575453e-01],\n",
       "       [-7.60916194e-01, -3.01297625e-02,  5.85630520e-01],\n",
       "       [ 3.69129096e-02,  1.15942221e+00, -1.25120618e+00],\n",
       "       [ 9.14764792e-01, -1.69061635e+00,  4.27095596e-01],\n",
       "       [-1.21682092e+00, -7.36758770e-01, -9.94036627e-01],\n",
       "       [ 4.55088435e-01, -8.80520864e-01,  3.75063763e-01],\n",
       "       [-7.80945233e-01,  2.13291876e+00,  3.65505073e-01],\n",
       "       [ 2.20611909e+00, -9.87147574e-01,  7.10119101e-01],\n",
       "       [-6.65218222e-02,  4.38679219e-01, -1.17455966e+00],\n",
       "       [-9.15892576e-01,  9.73620631e-01,  1.33861679e+00],\n",
       "       [-2.50449145e+00,  1.05344481e+00, -3.76366239e-01],\n",
       "       [-2.74994018e-01, -1.34405686e+00,  4.63138610e-01],\n",
       "       [ 4.82340995e-01,  1.06696457e+00,  1.16297535e+00],\n",
       "       [ 1.52196849e+00,  1.46679946e+00, -5.81179300e-02],\n",
       "       [-1.86622723e-01, -1.13248631e+00, -9.04029563e-01],\n",
       "       [-7.39036295e-01,  5.29718772e-01,  1.27116233e+00],\n",
       "       [ 1.54318587e+00,  7.64178866e-01, -4.99196397e-01],\n",
       "       [ 2.16206289e-01, -2.98768325e-01,  1.11002096e+00],\n",
       "       [-1.53914729e+00, -5.92189493e-01, -1.18805272e+00],\n",
       "       [ 8.32590695e-01, -1.79761396e+00,  1.83142371e+00],\n",
       "       [ 3.95357315e-01, -9.06818645e-01, -1.07954051e+00],\n",
       "       [-1.64642141e+00,  1.00741911e+00,  3.25131737e-01],\n",
       "       [-1.66070451e+00, -6.39753730e-01,  3.70481182e+00],\n",
       "       [-9.41588131e-01,  1.19114142e+00,  3.71862110e-01],\n",
       "       [ 7.02685676e-01, -9.11933896e-01, -1.74127943e+00],\n",
       "       [ 1.61701122e+00, -1.97629177e-01,  9.62312120e-01],\n",
       "       [ 3.34697840e-01, -1.93340976e+00, -4.85442237e-01],\n",
       "       [-1.01561475e+00,  1.58257229e+00,  1.67295247e-02],\n",
       "       [ 1.15957134e+00, -2.93285610e-01, -2.18507000e+00],\n",
       "       [ 3.02443998e-02, -1.56171943e+00, -1.69552026e-02],\n",
       "       [-1.60630424e+00,  1.10709102e+00, -3.71594152e-01],\n",
       "       [-1.09548246e+00,  8.42509607e-01,  2.71532601e-01],\n",
       "       [ 3.66387377e-01,  6.82581941e-02,  7.18505638e-01],\n",
       "       [ 4.54304918e-01, -6.04040907e-01, -1.26137754e+00],\n",
       "       [ 7.16137582e-01, -4.44319685e-01, -1.92772286e+00],\n",
       "       [-6.80395521e-01,  7.42607984e-01,  7.61827072e-02],\n",
       "       [ 1.36640869e+00, -1.26725920e+00,  1.31479961e+00],\n",
       "       [-4.80281147e-01,  8.28349962e-01,  5.80442139e-01],\n",
       "       [-3.01699308e-01,  1.02106618e+00,  7.51022988e-01],\n",
       "       [ 1.02949015e+00, -1.64270215e+00, -6.77102698e-01],\n",
       "       [-8.00880671e-01, -1.78579961e+00,  3.46331035e-01],\n",
       "       [-1.17443075e+00, -6.99078676e-01,  4.91878238e-01],\n",
       "       [ 1.01197613e+00,  1.94102176e+00, -2.19927035e-01],\n",
       "       [ 3.22203177e-01,  2.81137646e+00, -4.85328054e-01],\n",
       "       [-9.19487943e-01, -7.49564087e-01, -1.78127876e-01],\n",
       "       [ 1.14023171e+00, -2.03498826e-01, -5.20307959e-01],\n",
       "       [-1.61470800e-01, -4.93070011e-02, -1.54991841e+00],\n",
       "       [-1.77735016e+00, -5.02358222e-01,  6.78865271e-01],\n",
       "       [ 1.97774489e+00, -3.14470032e-01, -3.38052491e-01],\n",
       "       [-1.43516328e+00, -2.50849773e+00,  9.44429483e-01],\n",
       "       [ 8.33327720e-01, -1.10742971e+00, -7.11922420e-02],\n",
       "       [-5.42459187e-01,  1.73541588e+00, -5.13910913e-01],\n",
       "       [-6.26232091e-02, -1.63299756e+00, -1.42646964e+00],\n",
       "       [-1.70974398e-01,  1.20236863e+00,  6.45231057e-03],\n",
       "       [ 1.17984156e+00, -2.80281619e-01,  1.93106990e-01],\n",
       "       [ 2.29055480e+00, -1.18524963e-01,  1.58816981e+00],\n",
       "       [ 4.27448837e-01,  9.19770640e-01, -1.16187225e+00],\n",
       "       [-1.47867389e+00,  2.04427608e-02,  8.40486941e-01],\n",
       "       [ 1.50661169e+00, -1.30136321e+00,  1.20186709e+00],\n",
       "       [ 8.09320411e-01,  9.98929106e-01, -6.75491724e-01],\n",
       "       [-1.50434884e+00, -3.94168220e-02,  7.58862215e-01],\n",
       "       [-2.64894114e-01,  6.79818323e-01, -2.67273086e-01],\n",
       "       [-9.94131482e-01,  9.60075963e-01, -5.62010895e-01],\n",
       "       [ 1.28570265e+00, -2.01048300e+00,  3.25154006e-01]])"
      ]
     },
     "execution_count": 8,
     "metadata": {},
     "output_type": "execute_result"
    }
   ],
   "source": [
    "box.get_forces()"
   ]
  },
  {
   "cell_type": "markdown",
   "id": "c2d2964f",
   "metadata": {},
   "source": [
    "## Evaluate the MLIPs on the test dataset.\n",
    "To assess the performance of our MLIPs, we can evaluate them on the provided test dataset.\n",
    "These are configurations that the model has not seen during training and therefore can be used to assess the MLIPs static performance.\n",
    "Note, that the values you gain from such static assessment depend on the quality and diversity of the test dataset.\n",
    "Often, the evaluation on more real-world scenarios is required to obtain a comprehensive understanding of the model's capabilities."
   ]
  },
  {
   "cell_type": "code",
   "execution_count": 9,
   "id": "bcbe21ba",
   "metadata": {},
   "outputs": [],
   "source": [
    "test_io = znh5md.IO(\n",
    "    \"data/cosmo_water_test.h5\"\n",
    ")  # Test dataset stored in an adapted H5MD format.\n",
    "test_frames = test_io[:]"
   ]
  },
  {
   "cell_type": "code",
   "execution_count": 10,
   "id": "4629dd04",
   "metadata": {},
   "outputs": [
    {
     "name": "stderr",
     "output_type": "stream",
     "text": [
      "                                                                                                    "
     ]
    }
   ],
   "source": [
    "true_energies = [x.get_potential_energy() for x in test_frames]\n",
    "true_forces = [x.get_forces() for x in test_frames]\n",
    "pred_frames = calc.batch_eval(test_frames, batch_size=1)\n",
    "pred_energies = [x.get_potential_energy() for x in pred_frames]\n",
    "pred_forces = [x.get_forces() for x in pred_frames]"
   ]
  },
  {
   "cell_type": "code",
   "execution_count": 11,
   "id": "124771c3",
   "metadata": {},
   "outputs": [
    {
     "data": {
      "text/plain": [
       "Text(0, 0.5, 'Predicted Forces / $\\\\mathrm{eV \\\\cdot \\\\mathrm{\\\\AA}^{-1}}$')"
      ]
     },
     "execution_count": 11,
     "metadata": {},
     "output_type": "execute_result"
    },
    {
     "data": {
      "image/png": "[encoded data removed]",
      "text/plain": [
       "<Figure size 1000x500 with 2 Axes>"
      ]
     },
     "metadata": {},
     "output_type": "display_data"
    }
   ],
   "source": [
    "import numpy as np\n",
    "\n",
    "fix, ax = plt.subplots(1, 2, figsize=(10, 5))\n",
    "ax[0].scatter(true_energies, pred_energies, marker=\"x\")\n",
    "ax[0].set_xlabel(\"True Energies / eV\")\n",
    "ax[0].set_ylabel(\"Predicted Energies / eV\")\n",
    "ax[1].scatter(true_forces, pred_forces, marker=\"x\")\n",
    "\n",
    "true_forces_flat = np.concatenate([f.flatten() for f in true_forces])\n",
    "pred_forces_flat = np.concatenate([f.flatten() for f in pred_forces])\n",
    "\n",
    "ax[1].scatter(true_forces_flat, pred_forces_flat, marker=\"x\")\n",
    "ax[1].set_xlabel(r\"True Forces / $\\mathrm{eV \\cdot \\mathrm{\\AA}^{-1}}$\")\n",
    "ax[1].set_ylabel(r\"Predicted Forces / $\\mathrm{eV \\cdot \\mathrm{\\AA}^{-1}}$\")"
   ]
  },
  {
   "cell_type": "code",
   "execution_count": 13,
   "id": "a69961b1",
   "metadata": {},
   "outputs": [],
   "source": [
    "from ase.io import write\n",
    "\n",
    "write(\"water.json\", box)"
   ]
  },
  {
   "cell_type": "code",
   "execution_count": null,
   "id": "7a99a1d7-52bd-45de-916a-daacfbda2ba4",
   "metadata": {},
   "outputs": [],
   "source": []
  }
 ],
 "metadata": {
  "kernelspec": {
   "display_name": "Python 3 (ipykernel)",
   "language": "python",
   "name": "python3"
  },
  "language_info": {
   "codemirror_mode": {
    "name": "ipython",
    "version": 3
   },
   "file_extension": ".py",
   "mimetype": "text/x-python",
   "name": "python",
   "nbconvert_exporter": "python",
   "pygments_lexer": "ipython3",
   "version": "3.12.3"
  }
 },
 "nbformat": 4,
 "nbformat_minor": 5
}
