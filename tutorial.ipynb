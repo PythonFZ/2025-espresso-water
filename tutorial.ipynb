{
 "cells": [
  {
   "cell_type": "markdown",
   "id": "292744cd",
   "metadata": {},
   "source": [
    "# MLIP and Espresso\n",
    "In this tutorial, you'll learn how to train and deploy a machine-learned interatomic potential (MLIP) with espresso.\n",
    "We'll be using the [apax](https://github.com/apaxhub/apax) MLIP <a href='#[1]'>[1]</a>.\n",
    "\n",
    "Training an MLIP can take from a few minutes to weeks on multiple GPUs.\n",
    "For this tutorial, the models you are using are pre-trained.\n",
    "The training procedure is included in this repository and you could in principle add new model configurations.\n",
    "The training workflow has been setup using the [IPSuite](https://github.com/zincware/ipsuite) package <a href='#[2]'>[2]</a>.\n",
    "The training data is taken from the work of Cheng et al. <a href='#[3]'>[3]</a>."
   ]
  },
  {
   "cell_type": "code",
   "execution_count": 1,
   "id": "2c8c7670",
   "metadata": {},
   "outputs": [],
   "source": [
    "import zntrack\n",
    "import rdkit2ase\n",
    "import matplotlib.pyplot as plt\n",
    "import znh5md\n",
    "from IPython.display import display, Markdown\n",
    "from tqdm.auto import tqdm\n",
    "import numpy as np\n",
    "import datetime\n",
    "import pint\n",
    "\n",
    "ureg = pint.UnitRegistry()"
   ]
  },
  {
   "cell_type": "markdown",
   "id": "397df49a",
   "metadata": {},
   "source": [
    "We use the following default configuration for the apax MLIP training you're going to use."
   ]
  },
  {
   "cell_type": "code",
   "execution_count": 2,
   "id": "b9be0061",
   "metadata": {},
   "outputs": [
    {
     "data": {
      "text/markdown": [
       "```yaml\n",
       "n_epochs: 10_000\n",
       "patience: 500\n",
       "data_parallel: true\n",
       "data:\n",
       "\n",
       "  dataset:\n",
       "    processing: cached\n",
       "\n",
       "  batch_size: 1\n",
       "  valid_batch_size: 40\n",
       "\n",
       "metrics:\n",
       "  - name: energy\n",
       "    reductions: [mae]\n",
       "  - name: forces\n",
       "    reductions: [mae]\n",
       "\n",
       "loss:\n",
       "  - name: energy\n",
       "    loss_type: nll\n",
       "    weight: 1.\n",
       "    atoms_exponent: 1\n",
       "  - name: forces\n",
       "    loss_type: nll\n",
       "    weight: 2.\n",
       "    atoms_exponent: 1\n",
       "\n",
       "model:\n",
       "  name: gmnn\n",
       "  basis:\n",
       "    name: bessel\n",
       "    n_basis: 16\n",
       "    r_max: 5.5\n",
       "\n",
       "  n_radial: 6\n",
       "\n",
       "  nn:\n",
       "  - 128\n",
       "  - 128\n",
       "\n",
       "  ensemble:\n",
       "    kind: shallow\n",
       "    n_members: 16\n",
       "\n",
       "  calc_stress: false\n",
       "  use_ntk: false\n",
       "  b_init: zeros\n",
       "  w_init: lecun\n",
       "  scale_shift_dtype: fp64\n",
       "  descriptor_dtype: fp32\n",
       "  readout_dtype: fp32\n",
       "\n",
       "callbacks:\n",
       "- name: csv\n",
       "\n",
       "optimizer:\n",
       "  name: adamw\n",
       "  emb_lr:   0.0001\n",
       "  nn_lr:    0.0001\n",
       "  scale_lr: 0.0001\n",
       "  shift_lr: 0.0001\n",
       "  rep_scale_lr: 0.0001\n",
       "  rep_prefactor_lr: 0.0001\n",
       "  gradient_clipping: 10.0\n",
       "\n",
       "  kwargs: \n",
       "    weight_decay: 0.0002\n",
       "    b1: 0.85\n",
       "    b2: 0.99\n",
       "\n",
       "  schedule:\n",
       "    name: cyclic_cosine\n",
       "    period: 50\n",
       "    decay_factor: 0.96\n",
       "\n",
       "```"
      ],
      "text/plain": [
       "<IPython.core.display.Markdown object>"
      ]
     },
     "metadata": {},
     "output_type": "display_data"
    }
   ],
   "source": [
    "with open(\"config/apax.yaml\", \"r\") as f:\n",
    "  content = f.read()\n",
    "display(Markdown(f\"```yaml\\n{content}\\n```\"))"
   ]
  },
  {
   "cell_type": "markdown",
   "id": "adaf8ede",
   "metadata": {},
   "source": [
    "To gain a feel for different parameters, we have trained models with different values for the following parameters.\n",
    "We have altered this configuration with respect to:\n",
    "- **r_max**: The maximum cutoff radius for our descriptor, or in other words how far the model \"sees\" around the atom it is predicting the energy contribution and forces for. A small value will make the model very fast but can lead to physical inaccuracies or even instabilities. A large value will make the model slower but often more accurate.\n",
    "- **n_basis**: The number of basis functions used in the descriptor. This describes how many basis functions are used and thus gives a measure on the complexity / resolution of the descriptor. A larger value corresponds to a more detailed description of the local atomic environment but also increases the computational cost.\n",
    "- **nn**: The number and size of hidden layers in the neural network. More layers can increase the model's capacity to learn complex patterns but also make it more prone to overfitting.\n",
    "- **n_radial**: The number of radial basis functions used in the descriptor. More radial functions can capture more details about the distances between atoms but also increase computational cost.\n",
    "\n",
    "The workflow file `main.py` consists of the following steps:\n",
    "1. Load the training and validation data from the `data/` folder.\n",
    "2. Iterate over different model parameters and their configurations.\n",
    "3. Write the configuration file for apax.\n",
    "4. Configure the model training and evaluation.\n",
    "5. Build the workflow.\n",
    "\n",
    "The workflow has then been executed for you, and all the results are stored in the `nodes/` directory."
   ]
  },
  {
   "cell_type": "code",
   "execution_count": 3,
   "id": "9371a24e",
   "metadata": {},
   "outputs": [
    {
     "data": {
      "text/markdown": [
       "```py\n",
       "from copy import deepcopy\n",
       "from pathlib import Path\n",
       "\n",
       "import ipsuite as ips\n",
       "import yaml\n",
       "from apax.nodes import Apax, ApaxBatchPrediction\n",
       "\n",
       "reference = yaml.safe_load(Path(\"config/apax.yaml\").read_text())\n",
       "\n",
       "project = ips.Project()\n",
       "with project:\n",
       "    train = ips.AddDataH5MD(file=\"data/cosmo_water_train.h5\")\n",
       "    val = ips.AddDataH5MD(file=\"data/cosmo_water_val.h5\")\n",
       "    test = ips.AddDataH5MD(file=\"data/cosmo_water_test.h5\")\n",
       "\n",
       "for r_max in [2, 3, 4, 5, 5.5, 6]:\n",
       "    with project.group(\"r_max\", f\"{r_max}\".replace(\".\", \"_\")):\n",
       "        config = deepcopy(reference)\n",
       "        config[\"model\"][\"basis\"][\"r_max\"] = r_max\n",
       "        file = Path(f\"config/apax-r_max-{r_max}.yaml\")\n",
       "        file.write_text(yaml.dump(config))\n",
       "\n",
       "        model = Apax(\n",
       "            config=file.as_posix(),\n",
       "            data=train.frames,\n",
       "            validation_data=val.frames,\n",
       "        )\n",
       "        test_eval = ApaxBatchPrediction(data=test.frames, model=model)\n",
       "        ips.PredictionMetrics(x=test_eval.frames, y=test.frames)\n",
       "\n",
       "for nn in [(16, 16), (32, 32), (64, 64), (128, 128)]:\n",
       "    with project.group(\"nn\", f\"{nn[0]}-{nn[1]}\"):\n",
       "        config = deepcopy(reference)\n",
       "        config[\"model\"][\"nn\"] = list(nn)\n",
       "        file = Path(f\"config/apax-nn-{nn[0]}-{nn[1]}.yaml\")\n",
       "        file.write_text(yaml.dump(config))\n",
       "\n",
       "        model = Apax(\n",
       "            config=file.as_posix(),\n",
       "            data=train.frames,\n",
       "            validation_data=val.frames,\n",
       "        )\n",
       "        test_eval = ApaxBatchPrediction(data=test.frames, model=model)\n",
       "        ips.PredictionMetrics(x=test_eval.frames, y=test.frames)\n",
       "\n",
       "for n_basis in [4, 8, 16]:\n",
       "    with project.group(\"n_basis\", f\"{n_basis}\"):\n",
       "        config = deepcopy(reference)\n",
       "        config[\"model\"][\"basis\"][\"n_basis\"] = n_basis\n",
       "        file = Path(f\"config/apax-n_basis-{n_basis}.yaml\")\n",
       "        file.write_text(yaml.dump(config))\n",
       "\n",
       "        model = Apax(\n",
       "            config=file.as_posix(),\n",
       "            data=train.frames,\n",
       "            validation_data=val.frames,\n",
       "        )\n",
       "        test_eval = ApaxBatchPrediction(data=test.frames, model=model)\n",
       "        ips.PredictionMetrics(x=test_eval.frames, y=test.frames)\n",
       "\n",
       "for n_radial in [5, 6, 7]:\n",
       "    with project.group(\"n_radial\", f\"{n_radial}\"):\n",
       "        config = deepcopy(reference)\n",
       "        config[\"model\"][\"n_radial\"] = n_radial\n",
       "        file = Path(f\"config/apax-n_radial-{n_radial}.yaml\")\n",
       "        file.write_text(yaml.dump(config))\n",
       "\n",
       "        model = Apax(\n",
       "            config=file.as_posix(),\n",
       "            data=train.frames,\n",
       "            validation_data=val.frames,\n",
       "        )\n",
       "        test_eval = ApaxBatchPrediction(data=test.frames, model=model)\n",
       "        ips.PredictionMetrics(x=test_eval.frames, y=test.frames)\n",
       "\n",
       "if __name__ == \"__main__\":\n",
       "    project.build()\n",
       "\n",
       "```"
      ],
      "text/plain": [
       "<IPython.core.display.Markdown object>"
      ]
     },
     "metadata": {},
     "output_type": "display_data"
    }
   ],
   "source": [
    "with open(\"main.py\", \"r\") as f:\n",
    "  content = f.read()\n",
    "display(Markdown(f\"```py\\n{content}\\n```\"))"
   ]
  },
  {
   "cell_type": "markdown",
   "id": "375e8e82",
   "metadata": {},
   "source": [
    "You can select from the following models.\n",
    "## Different NN sizes\n",
    "The NN width and depth define the number of parameters of the neural network and thereby the model's capacity.\n",
    "- `nn_16-16_Apax`, `nn_32-32_Apax`, `nn_64-64_Apax`, `nn_128-128_Apax`\n",
    "## Different r max\n",
    "The maxium radial cutoff defines how far the MLIP can \"see\" e.g. the size of the rezeptive field or the  size of a single local atomic environment.\n",
    "- `r_max_2_Apax`, `r_max_3_Apax`, `r_max_4_Apax`, `r_max_5_Apax`, `r_max_5_5_Apax`,`r_max_6_Apax`\n",
    "## Different n_basis\n",
    "The number of bessel functions used to define the radial resolution within a local atomic environment.\n",
    "-  `n_basis_4_Apax`, `n_basis_8_Apax`, `n_basis_16_Apax`\n",
    "## Different n_radial\n",
    "The angular resolution \n",
    "- `n_radial_5_Apax`, `n_radial_6_Apax`, `n_radial_7_Apax`"
   ]
  },
  {
   "cell_type": "markdown",
   "id": "18fc40df",
   "metadata": {},
   "source": [
    "Let's load one of the models `r_max_5_5_Apax` and evaluate it.\n",
    "For this purpose we'll be using the [ase](https://ase-lib.org/) package <a href='#[4]'>[4]</a>.\n",
    "ASE allows you to define python objects that represent atomic structures.\n",
    "Additionally, our (and most other MLIP) models provide an ASE calculator interface.\n",
    "This interface will be used for the integration with Espresso later on as well.\n",
    "\n",
    "To load the model, we use the [zntrack](https://zntrack.readthedocs.io/en/latest/) package <a href='#[5]'>[5]</a>.\n",
    "\n",
    "A Note about units:\n",
    "The ASE calculator and most MLIP packages use eV and Angstrom as units for energy and distance, as is referenced here https://ase-lib.org/ase/units.html."
   ]
  },
  {
   "cell_type": "code",
   "execution_count": 4,
   "id": "9f7305d3",
   "metadata": {},
   "outputs": [
    {
     "name": "stderr",
     "output_type": "stream",
     "text": [
      "/work/fzills/projects/2025-espresso-water/.venv/lib/python3.11/site-packages/zntrack/state.py:159: UserWarning: The temporary path is not used when neither remote or rev are set.Consider checking for `self.state.remote` and `self.state.rev` whenusing `with node.state.use_tmp_path(): ...` .\n",
      "  warnings.warn(\n",
      "WARNING:absl:`StandardCheckpointHandler` expects a target tree to be provided for restore. Not doing so is generally UNSAFE unless you know the present topology to be the same one as the checkpoint was saved under.\n"
     ]
    },
    {
     "name": "stdout",
     "output_type": "stream",
     "text": [
      "<apax.md.ase_calc.ASECalculator object at 0x93597afc490>\n"
     ]
    }
   ],
   "source": [
    "model = zntrack.from_rev(\"r_max_5_5_Apax\")\n",
    "calc = model.get_calculator()\n",
    "print(calc)"
   ]
  },
  {
   "cell_type": "code",
   "execution_count": null,
   "id": "a06a4e02",
   "metadata": {},
   "outputs": [],
   "source": []
  },
  {
   "cell_type": "markdown",
   "id": "c2d2964f",
   "metadata": {},
   "source": [
    "## Evaluate the MLIPs on the test dataset.\n",
    "To assess the performance of our MLIPs, we can evaluate them on the provided test dataset.\n",
    "These are configurations that the model has not seen during training and therefore can be used to assess the MLIPs static performance.\n",
    "Note, that the values you gain from such static assessment depend on the quality and diversity of the test dataset.\n",
    "Often, the evaluation on more real-world scenarios is required to obtain a comprehensive understanding of the model's capabilities."
   ]
  },
  {
   "cell_type": "code",
   "execution_count": 5,
   "id": "bcbe21ba",
   "metadata": {},
   "outputs": [],
   "source": [
    "test_io = znh5md.IO(\"data/cosmo_water_test.h5\") # Test dataset stored in an adapted H5MD format.\n",
    "test_frames = test_io[:]"
   ]
  },
  {
   "cell_type": "markdown",
   "id": "b063877e",
   "metadata": {},
   "source": [
    "The test_frames are a list of ase atoms objects.\n",
    "Later on, you'll learn how to create your own configurations for e.g. running MD."
   ]
  },
  {
   "cell_type": "code",
   "execution_count": 6,
   "id": "b1db9c65",
   "metadata": {},
   "outputs": [
    {
     "name": "stdout",
     "output_type": "stream",
     "text": [
      "Number of test frames: 160\n",
      "[Atoms(symbols='H128O64', pbc=True, cell=[[13.066375, 0.0, 0.0], [-1e-06, 13.066375, 0.0], [-1e-06, -1e-06, 13.066375]], calculator=SinglePointCalculator(...)), Atoms(symbols='H128O64', pbc=True, cell=[[12.749514, 0.0, 0.0], [-1e-06, 12.749514, 0.0], [-1e-06, -1e-06, 12.749514]], calculator=SinglePointCalculator(...)), Atoms(symbols='H128O64', pbc=True, cell=[[13.096601, 0.0, 0.0], [-1e-06, 13.096601, 0.0], [-1e-06, -1e-06, 13.096601]], calculator=SinglePointCalculator(...))]\n"
     ]
    }
   ],
   "source": [
    "print(f\"Number of test frames: {len(test_frames)}\")\n",
    "print(test_frames[:3])"
   ]
  },
  {
   "cell_type": "markdown",
   "id": "b051e02e",
   "metadata": {},
   "source": [
    "We can now use the `calc` object to apply the MLIP to compute energies and forces for each configuration in the test set."
   ]
  },
  {
   "cell_type": "code",
   "execution_count": 7,
   "id": "4629dd04",
   "metadata": {},
   "outputs": [
    {
     "data": {
      "application/vnd.jupyter.widget-view+json": {
       "model_id": "17a51c00996941398b9145cbee5b4ea1",
       "version_major": 2,
       "version_minor": 0
      },
      "text/plain": [
       "  0%|          | 0/160 [00:00<?, ?it/s]"
      ]
     },
     "metadata": {},
     "output_type": "display_data"
    },
    {
     "name": "stdout",
     "output_type": "stream",
     "text": [
      "neighbor list overflowed, reallocating.\n",
      "neighbor list overflowed, reallocating.\n",
      "neighbor list overflowed, reallocating.\n"
     ]
    }
   ],
   "source": [
    "true_energies = [x.get_potential_energy() for x in test_frames]\n",
    "true_forces = [x.get_forces() for x in test_frames]\n",
    "pred_energies = []\n",
    "pred_forces = []\n",
    "for frame in tqdm(test_frames):\n",
    "    frame.calc = calc\n",
    "    pred_energies.append(frame.get_potential_energy())\n",
    "    pred_forces.append(frame.get_forces())"
   ]
  },
  {
   "cell_type": "markdown",
   "id": "c04bd4f8",
   "metadata": {},
   "source": [
    "**Exercise:**\n",
    "\n",
    "* Plot the correlation plot (predicted vs true) for the DFT reference energies and forces compared to the MLIP predictions. The energy MAE is often given w.r.t. to the number of atoms.\n",
    "* Compute the MAE for energies and forces."
   ]
  },
  {
   "cell_type": "code",
   "execution_count": 8,
   "id": "124771c3",
   "metadata": {},
   "outputs": [
    {
     "data": {
      "text/plain": [
       "<matplotlib.legend.Legend at 0x933d964f010>"
      ]
     },
     "execution_count": 8,
     "metadata": {},
     "output_type": "execute_result"
    },
    {
     "data": {
      "image/png": "[encoded data removed]",
      "text/plain": [
       "<Figure size 1000x500 with 2 Axes>"
      ]
     },
     "metadata": {},
     "output_type": "display_data"
    }
   ],
   "source": [
    "# SOLUTION CELL\n",
    "fix, ax = plt.subplots(1, 2, figsize=(10, 5))\n",
    "\n",
    "def mae(y_true, y_pred):\n",
    "    return np.mean(np.abs(np.array(y_true) - np.array(y_pred)))\n",
    "\n",
    "atoms = np.array([len(frame) for frame in test_frames])\n",
    "true_energies_norm = np.array(true_energies) / atoms\n",
    "pred_energies_norm = np.array(pred_energies) / atoms\n",
    "e_mae = mae(true_energies_norm, pred_energies_norm)\n",
    "ax[0].scatter(true_energies_norm, pred_energies_norm, marker=\"x\", label=f\"MAE: {e_mae:.3f} eV / atom\")\n",
    "ax[0].set_xlabel(\"True Energies / eV / atom\")\n",
    "ax[0].set_ylabel(\"Predicted Energies / eV / atom\")\n",
    "ax[0].legend()\n",
    "\n",
    "true_forces_flat = np.concatenate([f.flatten() for f in true_forces])\n",
    "pred_forces_flat = np.concatenate([f.flatten() for f in pred_forces])\n",
    "f_mae = mae(true_forces_flat, pred_forces_flat)\n",
    "ax[1].scatter(true_forces_flat, pred_forces_flat, marker=\"x\", label=f\"MAE: {f_mae:.3f} eV/Å\")\n",
    "ax[1].set_xlabel(r\"True Forces / $\\mathrm{eV \\cdot \\mathrm{\\AA}^{-1}}$\")\n",
    "ax[1].set_ylabel(r\"Predicted Forces / $\\mathrm{eV \\cdot \\mathrm{\\AA}^{-1}}$\")\n",
    "ax[1].legend()"
   ]
  },
  {
   "cell_type": "markdown",
   "id": "234d444f",
   "metadata": {},
   "source": [
    "Now, that you've looked at the performance of the ``r_max_5_5_Apax`` model, compute energy and force MAEs for the other models as well.\n",
    "Are there trends that you can observe?"
   ]
  },
  {
   "cell_type": "code",
   "execution_count": 9,
   "id": "3ef09f5a",
   "metadata": {},
   "outputs": [
    {
     "data": {
      "application/vnd.jupyter.widget-view+json": {
       "model_id": "f019798083b14aab9574ae52246ec8ae",
       "version_major": 2,
       "version_minor": 0
      },
      "text/plain": [
       "  0%|          | 0/16 [00:00<?, ?it/s]"
      ]
     },
     "metadata": {},
     "output_type": "display_data"
    },
    {
     "name": "stderr",
     "output_type": "stream",
     "text": [
      "/work/fzills/projects/2025-espresso-water/.venv/lib/python3.11/site-packages/zntrack/state.py:159: UserWarning: The temporary path is not used when neither remote or rev are set.Consider checking for `self.state.remote` and `self.state.rev` whenusing `with node.state.use_tmp_path(): ...` .\n",
      "  warnings.warn(\n",
      "WARNING:absl:`StandardCheckpointHandler` expects a target tree to be provided for restore. Not doing so is generally UNSAFE unless you know the present topology to be the same one as the checkpoint was saved under.\n",
      "/work/fzills/projects/2025-espresso-water/.venv/lib/python3.11/site-packages/zntrack/state.py:159: UserWarning: The temporary path is not used when neither remote or rev are set.Consider checking for `self.state.remote` and `self.state.rev` whenusing `with node.state.use_tmp_path(): ...` .\n",
      "  warnings.warn(\n",
      "WARNING:absl:`StandardCheckpointHandler` expects a target tree to be provided for restore. Not doing so is generally UNSAFE unless you know the present topology to be the same one as the checkpoint was saved under.\n",
      "/work/fzills/projects/2025-espresso-water/.venv/lib/python3.11/site-packages/zntrack/state.py:159: UserWarning: The temporary path is not used when neither remote or rev are set.Consider checking for `self.state.remote` and `self.state.rev` whenusing `with node.state.use_tmp_path(): ...` .\n",
      "  warnings.warn(\n",
      "WARNING:absl:`StandardCheckpointHandler` expects a target tree to be provided for restore. Not doing so is generally UNSAFE unless you know the present topology to be the same one as the checkpoint was saved under.\n",
      "/work/fzills/projects/2025-espresso-water/.venv/lib/python3.11/site-packages/zntrack/state.py:159: UserWarning: The temporary path is not used when neither remote or rev are set.Consider checking for `self.state.remote` and `self.state.rev` whenusing `with node.state.use_tmp_path(): ...` .\n",
      "  warnings.warn(\n",
      "WARNING:absl:`StandardCheckpointHandler` expects a target tree to be provided for restore. Not doing so is generally UNSAFE unless you know the present topology to be the same one as the checkpoint was saved under.\n",
      "/work/fzills/projects/2025-espresso-water/.venv/lib/python3.11/site-packages/zntrack/state.py:159: UserWarning: The temporary path is not used when neither remote or rev are set.Consider checking for `self.state.remote` and `self.state.rev` whenusing `with node.state.use_tmp_path(): ...` .\n",
      "  warnings.warn(\n",
      "WARNING:absl:`StandardCheckpointHandler` expects a target tree to be provided for restore. Not doing so is generally UNSAFE unless you know the present topology to be the same one as the checkpoint was saved under.\n",
      "/work/fzills/projects/2025-espresso-water/.venv/lib/python3.11/site-packages/zntrack/state.py:159: UserWarning: The temporary path is not used when neither remote or rev are set.Consider checking for `self.state.remote` and `self.state.rev` whenusing `with node.state.use_tmp_path(): ...` .\n",
      "  warnings.warn(\n",
      "WARNING:absl:`StandardCheckpointHandler` expects a target tree to be provided for restore. Not doing so is generally UNSAFE unless you know the present topology to be the same one as the checkpoint was saved under.\n",
      "/work/fzills/projects/2025-espresso-water/.venv/lib/python3.11/site-packages/zntrack/state.py:159: UserWarning: The temporary path is not used when neither remote or rev are set.Consider checking for `self.state.remote` and `self.state.rev` whenusing `with node.state.use_tmp_path(): ...` .\n",
      "  warnings.warn(\n",
      "WARNING:absl:`StandardCheckpointHandler` expects a target tree to be provided for restore. Not doing so is generally UNSAFE unless you know the present topology to be the same one as the checkpoint was saved under.\n",
      "/work/fzills/projects/2025-espresso-water/.venv/lib/python3.11/site-packages/zntrack/state.py:159: UserWarning: The temporary path is not used when neither remote or rev are set.Consider checking for `self.state.remote` and `self.state.rev` whenusing `with node.state.use_tmp_path(): ...` .\n",
      "  warnings.warn(\n",
      "WARNING:absl:`StandardCheckpointHandler` expects a target tree to be provided for restore. Not doing so is generally UNSAFE unless you know the present topology to be the same one as the checkpoint was saved under.\n",
      "/work/fzills/projects/2025-espresso-water/.venv/lib/python3.11/site-packages/zntrack/state.py:159: UserWarning: The temporary path is not used when neither remote or rev are set.Consider checking for `self.state.remote` and `self.state.rev` whenusing `with node.state.use_tmp_path(): ...` .\n",
      "  warnings.warn(\n",
      "WARNING:absl:`StandardCheckpointHandler` expects a target tree to be provided for restore. Not doing so is generally UNSAFE unless you know the present topology to be the same one as the checkpoint was saved under.\n",
      "/work/fzills/projects/2025-espresso-water/.venv/lib/python3.11/site-packages/zntrack/state.py:159: UserWarning: The temporary path is not used when neither remote or rev are set.Consider checking for `self.state.remote` and `self.state.rev` whenusing `with node.state.use_tmp_path(): ...` .\n",
      "  warnings.warn(\n",
      "WARNING:absl:`StandardCheckpointHandler` expects a target tree to be provided for restore. Not doing so is generally UNSAFE unless you know the present topology to be the same one as the checkpoint was saved under.\n",
      "/work/fzills/projects/2025-espresso-water/.venv/lib/python3.11/site-packages/zntrack/state.py:159: UserWarning: The temporary path is not used when neither remote or rev are set.Consider checking for `self.state.remote` and `self.state.rev` whenusing `with node.state.use_tmp_path(): ...` .\n",
      "  warnings.warn(\n",
      "WARNING:absl:`StandardCheckpointHandler` expects a target tree to be provided for restore. Not doing so is generally UNSAFE unless you know the present topology to be the same one as the checkpoint was saved under.\n",
      "/work/fzills/projects/2025-espresso-water/.venv/lib/python3.11/site-packages/zntrack/state.py:159: UserWarning: The temporary path is not used when neither remote or rev are set.Consider checking for `self.state.remote` and `self.state.rev` whenusing `with node.state.use_tmp_path(): ...` .\n",
      "  warnings.warn(\n",
      "WARNING:absl:`StandardCheckpointHandler` expects a target tree to be provided for restore. Not doing so is generally UNSAFE unless you know the present topology to be the same one as the checkpoint was saved under.\n",
      "/work/fzills/projects/2025-espresso-water/.venv/lib/python3.11/site-packages/zntrack/state.py:159: UserWarning: The temporary path is not used when neither remote or rev are set.Consider checking for `self.state.remote` and `self.state.rev` whenusing `with node.state.use_tmp_path(): ...` .\n",
      "  warnings.warn(\n",
      "WARNING:absl:`StandardCheckpointHandler` expects a target tree to be provided for restore. Not doing so is generally UNSAFE unless you know the present topology to be the same one as the checkpoint was saved under.\n",
      "/work/fzills/projects/2025-espresso-water/.venv/lib/python3.11/site-packages/zntrack/state.py:159: UserWarning: The temporary path is not used when neither remote or rev are set.Consider checking for `self.state.remote` and `self.state.rev` whenusing `with node.state.use_tmp_path(): ...` .\n",
      "  warnings.warn(\n",
      "WARNING:absl:`StandardCheckpointHandler` expects a target tree to be provided for restore. Not doing so is generally UNSAFE unless you know the present topology to be the same one as the checkpoint was saved under.\n",
      "/work/fzills/projects/2025-espresso-water/.venv/lib/python3.11/site-packages/zntrack/state.py:159: UserWarning: The temporary path is not used when neither remote or rev are set.Consider checking for `self.state.remote` and `self.state.rev` whenusing `with node.state.use_tmp_path(): ...` .\n",
      "  warnings.warn(\n",
      "WARNING:absl:`StandardCheckpointHandler` expects a target tree to be provided for restore. Not doing so is generally UNSAFE unless you know the present topology to be the same one as the checkpoint was saved under.\n",
      "/work/fzills/projects/2025-espresso-water/.venv/lib/python3.11/site-packages/zntrack/state.py:159: UserWarning: The temporary path is not used when neither remote or rev are set.Consider checking for `self.state.remote` and `self.state.rev` whenusing `with node.state.use_tmp_path(): ...` .\n",
      "  warnings.warn(\n",
      "WARNING:absl:`StandardCheckpointHandler` expects a target tree to be provided for restore. Not doing so is generally UNSAFE unless you know the present topology to be the same one as the checkpoint was saved under.\n"
     ]
    },
    {
     "name": "stdout",
     "output_type": "stream",
     "text": [
      "Model\t\tEnergy MAE (eV/atom)\tForce MAE (eV/Å)\tTime (s)\n",
      "nn_16-16_Apax\t0.0034\t\t\t0.0485\t\t6.1596\n",
      "nn_32-32_Apax\t0.0026\t\t\t0.0458\t\t6.0422\n",
      "nn_64-64_Apax\t0.0029\t\t\t0.0503\t\t5.7523\n",
      "nn_128-128_Apax\t0.0029\t\t\t0.0474\t\t5.1036\n",
      "r_max_2_Apax\t0.0479\t\t\t0.3596\t\t4.5155\n",
      "r_max_3_Apax\t0.0040\t\t\t0.0919\t\t4.3785\n",
      "r_max_4_Apax\t0.0031\t\t\t0.0610\t\t4.5838\n",
      "r_max_5_Apax\t0.0028\t\t\t0.0483\t\t5.1165\n",
      "r_max_5_5_Apax\t0.0026\t\t\t0.0477\t\t4.8303\n",
      "r_max_6_Apax\t0.0028\t\t\t0.0440\t\t5.2953\n",
      "n_basis_4_Apax\t0.0045\t\t\t0.0543\t\t4.7637\n",
      "n_basis_8_Apax\t0.0028\t\t\t0.0477\t\t4.8559\n",
      "n_basis_16_Apax\t0.0027\t\t\t0.0474\t\t4.8784\n",
      "n_radial_5_Apax\t0.0039\t\t\t0.0548\t\t5.5495\n",
      "n_radial_6_Apax\t0.0026\t\t\t0.0471\t\t4.8456\n",
      "n_radial_7_Apax\t0.0025\t\t\t0.0461\t\t6.4827\n"
     ]
    }
   ],
   "source": [
    "# SOLUTION CELL\n",
    "model_names = [\n",
    "    \"nn_16-16_Apax\", \"nn_32-32_Apax\", \"nn_64-64_Apax\", \"nn_128-128_Apax\",\n",
    "    \"r_max_2_Apax\", \"r_max_3_Apax\", \"r_max_4_Apax\", \"r_max_5_Apax\", \"r_max_5_5_Apax\", \"r_max_6_Apax\",\n",
    "    \"n_basis_4_Apax\", \"n_basis_8_Apax\", \"n_basis_16_Apax\",\n",
    "    \"n_radial_5_Apax\", \"n_radial_6_Apax\", \"n_radial_7_Apax\"\n",
    "]\n",
    "\n",
    "def mae(y_true, y_pred):\n",
    "    return np.mean(np.abs(np.array(y_true) - np.array(y_pred)))\n",
    "\n",
    "atoms = np.array([len(frame) for frame in test_frames])\n",
    "results = {}\n",
    "\n",
    "pbar = tqdm(model_names)\n",
    "\n",
    "for name in pbar:\n",
    "    pbar.set_description(f\"Evaluating {name}\")\n",
    "    model = zntrack.from_rev(name)\n",
    "    calc = model.get_calculator()\n",
    "    pred_energies = []\n",
    "    pred_forces = []\n",
    "    start = datetime.datetime.now()\n",
    "    pred_frames = calc.batch_eval(test_frames, batch_size=1, silent=True)\n",
    "    end = datetime.datetime.now()\n",
    "    pred_energies = [x.get_potential_energy() for x in pred_frames]\n",
    "    pred_forces = [x.get_forces() for x in pred_frames]\n",
    "    pred_energies_norm = np.array(pred_energies) / atoms\n",
    "    e_mae = mae(true_energies_norm, pred_energies_norm)\n",
    "    pred_forces_flat = np.concatenate([f.flatten() for f in pred_forces])\n",
    "    f_mae = mae(true_forces_flat, pred_forces_flat)\n",
    "    results[name] = (e_mae, f_mae, end - start)\n",
    "\n",
    "print(\"Model\\t\\tEnergy MAE (eV/atom)\\tForce MAE (eV/Å)\\tTime (s)\")\n",
    "for name, (e_mae, f_mae, duration) in results.items():\n",
    "    print(f\"{name}\\t{e_mae:.4f}\\t\\t\\t{f_mae:.4f}\\t\\t{duration.total_seconds():.4f}\")"
   ]
  },
  {
   "cell_type": "markdown",
   "id": "16f88a0e",
   "metadata": {},
   "source": [
    "# Simulation Setup\n",
    "MLIPs are different compared to classical force fields in their setup.\n",
    "A classical force field requires a given topology, such that the parameters for inter and intramolecular interactions can be assigned.\n",
    "These information are not required for MLIPs, as they learn the interactions from the training data.\n",
    "Thus, the input to an MLIP is simply the atomic species and their positions.\n",
    "Nevertheless, it is difficult to create such input files by hand and thus we make use of the SMILES representation of molecules <a href='#[6]'>[6]</a>.\n",
    "For water, the SMILES string is simply `O`.\n",
    "The [rdkit2ase](https://zincware.github.io/rdkit2ase/) package provides convient functions to setup systems connecting different tools."
   ]
  },
  {
   "cell_type": "code",
   "execution_count": 10,
   "id": "8bf21c64",
   "metadata": {},
   "outputs": [
    {
     "name": "stdout",
     "output_type": "stream",
     "text": [
      "The water molecule as ASE atoms object: Atoms(symbols='OH2', pbc=False)\n",
      "Chemical species ['O', 'H', 'H'] and positions: \n",
      "[[-0.00570308  0.38515871 -0.        ]\n",
      " [-0.79607794 -0.194675   -0.        ]\n",
      " [ 0.80178102 -0.1904837   0.        ]]\n"
     ]
    },
    {
     "data": {
      "image/png": "[encoded data removed]",
      "text/plain": [
       "<rdkit.Chem.rdchem.Mol at 0x93228c10f20>"
      ]
     },
     "execution_count": 10,
     "metadata": {},
     "output_type": "execute_result"
    }
   ],
   "source": [
    "water = rdkit2ase.smiles2conformers(\"O\", numConfs=100)\n",
    "print(f\"The water molecule as ASE atoms object: {water[0]}\")\n",
    "print(f\"Chemical species {water[0].get_chemical_symbols()} and positions: \\n{water[0].get_positions()}\")\n",
    "rdkit2ase.ase2rdkit(water[0])"
   ]
  },
  {
   "cell_type": "markdown",
   "id": "c0136e0e",
   "metadata": {},
   "source": [
    "We can now create a box at a given density and number of molecules to use for our MD simulation.\n",
    "For this, we utilize the PACKMOL package."
   ]
  },
  {
   "cell_type": "code",
   "execution_count": 11,
   "id": "fe4a2626",
   "metadata": {},
   "outputs": [],
   "source": [
    "box = rdkit2ase.pack([water], counts=[100], density=997, packmol=\"/data/fzills/tools/packmol-20.15.1/packmol\")"
   ]
  },
  {
   "cell_type": "markdown",
   "id": "f298081e",
   "metadata": {},
   "source": [
    "Remember, for our model, this box is just XYZ coordinates, cell vectors, and atomic species.\n",
    "But we can assign our model and compute energies and forces."
   ]
  },
  {
   "cell_type": "code",
   "execution_count": 12,
   "id": "c5976fae",
   "metadata": {},
   "outputs": [],
   "source": [
    "box.calc = calc"
   ]
  },
  {
   "cell_type": "code",
   "execution_count": 13,
   "id": "f7979679",
   "metadata": {},
   "outputs": [
    {
     "name": "stdout",
     "output_type": "stream",
     "text": [
      "Potential energy of the box: -46866.79 eV\n"
     ]
    }
   ],
   "source": [
    "energy = box.get_potential_energy() * ureg.eV\n",
    "print(f\"Potential energy of the box: {energy:.2f~P}\")"
   ]
  },
  {
   "cell_type": "code",
   "execution_count": 14,
   "id": "972a36c4",
   "metadata": {},
   "outputs": [
    {
     "name": "stdout",
     "output_type": "stream",
     "text": [
      "Forces on the atoms (first 5 shown): [[-0.03 0.75 -0.22] [1.49 0.88 0.37] [-2.01 -0.34 0.23] [0.08 -0.32 1.25] [-0.36 1.13 -0.14]] eV/Å\n"
     ]
    }
   ],
   "source": [
    "forces = box.get_forces() * ureg.eV / ureg.angstrom\n",
    "print(f\"Forces on the atoms (first 5 shown): {forces[:5]:.2f~P}\")"
   ]
  },
  {
   "cell_type": "markdown",
   "id": "d5ca97ab",
   "metadata": {},
   "source": [
    "One special aspect of the apax MLIP you are using is its ability to estimate the uncertainty of its predictions.\n",
    "It uses a shallow ensemble approach, where the last layer of the neural network is replicated $N$ times with different random initializations and the mean is used as the final prediction.\n",
    "This is configured via \n",
    "```yaml\n",
    "ensemble:\n",
    "    kind: shallow\n",
    "    n_members: 16\n",
    "```\n",
    "This allows us to compute the standard deviation of the ensemble members as a measure of uncertainty.\n",
    "You can access the uncertainty for the energy and forces through the calculator results.\n",
    "We can use this information to monitor the uncertainty during an MD simulation and stop the simulation if the uncertainty exceeds a certain threshold."
   ]
  },
  {
   "cell_type": "code",
   "execution_count": 15,
   "id": "709ed23f",
   "metadata": {},
   "outputs": [
    {
     "name": "stdout",
     "output_type": "stream",
     "text": [
      "dict_keys(['energy', 'energy_ensemble', 'energy_uncertainty', 'forces', 'forces_ensemble', 'forces_uncertainty'])\n"
     ]
    }
   ],
   "source": [
    "print(box.calc.results.keys())"
   ]
  },
  {
   "cell_type": "code",
   "execution_count": 16,
   "id": "a0af6191",
   "metadata": {},
   "outputs": [
    {
     "name": "stdout",
     "output_type": "stream",
     "text": [
      "Energy -4.7e+04 eV ± 7.3 eV\n"
     ]
    }
   ],
   "source": [
    "energy_uncertainty = box.calc.results['energy_uncertainty'] * ureg.eV\n",
    "print(f\"Energy {energy:~.2P} ± {energy_uncertainty:~.2P}\")"
   ]
  },
  {
   "cell_type": "markdown",
   "id": "2a37595a",
   "metadata": {},
   "source": [
    "With this input configured, we can continue setting up the MD simulation in espresso."
   ]
  },
  {
   "cell_type": "code",
   "execution_count": 17,
   "id": "a69961b1",
   "metadata": {},
   "outputs": [],
   "source": [
    "from ase.io import write\n",
    "\n",
    "write('water.xyz', box)"
   ]
  },
  {
   "cell_type": "markdown",
   "id": "28d43a8e",
   "metadata": {},
   "source": [
    "## References\n",
    "\n",
    "<a id='[1]'></a>[1] Moritz R. Schäfer, Nico Segreto, Fabian Zills, Christian Holm, and Johannes Kästner <a href=\"https://doi.org/10.1021/acs.jcim.5c01221\">Apax: A Flexible and Performant Framework for the Development of Machine-Learned Interatomic Potentials</a> Journal of Chemical Information and Modeling 2025 65 (15), 8066-8078\n",
    "\n",
    "<a id='[2]'></a>[2] Fabian Zills, Moritz René Schäfer, Nico Segreto, Johannes Kästner, Christian Holm, and Samuel Tovey <a href=\"https://doi.org/10.1021/acs.jpcb.3c07187\">Collaboration on Machine-Learned Potentials with IPSuite: A Modular Framework for Learning-on-the-Fly</a>\n",
    "The Journal of Physical Chemistry B 2024 128 (15), 3662-3676\n",
    "\n",
    "<a id='[3]'></a>[3] B. Cheng,E.A. Engel,J. Behler,C. Dellago, & M. Ceriotti,  <a href=\"https://doi.org/10.1073/pnas.1815117116\">Ab initio thermodynamics of liquid and solid water</a>, Proc. Natl. Acad. Sci. U.S.A. 2019 116 (4) 1110-1115\n",
    "\n",
    "<a id='[4]'></a>[4] Ask Hjorth Larsen et al <a href=\"https://iopscience.iop.org/article/10.1088/1361-648X/aa680e\">The atomic simulation environment—a Python library for working with atoms</a> 2017 J. Phys.: Condens. Matter 29 273002\n",
    "\n",
    "<a id='[5]'></a>[5] Fabian Zills, Moritz Schäfer, Samuel Tovey, Johannes Kästner, Christian Holm <a href=\"https://doi.org/10.48550/arXiv.2401.10603\">ZnTrack -- Data as Code</a> arXiv:2401.10603 [cs.MS] 2024\n",
    "\n",
    "<a id='[6]'></a>[6] David Weininger: <a href=\"https://pubs.acs.org/doi/10.1021/ci00057a005\">SMILES, a chemical language and information system. 1. Introduction to methodology and encoding rules.</a> Journal of Chemical Information and Computer Sciences. Band 28, Nr. 1, 1988, S. 31–36, doi:10.1021/ci00057a005"
   ]
  },
  {
   "cell_type": "markdown",
   "id": "d4108f67",
   "metadata": {},
   "source": []
  }
 ],
 "metadata": {
  "kernelspec": {
   "display_name": "2025-espresso-water",
   "language": "python",
   "name": "python3"
  },
  "language_info": {
   "codemirror_mode": {
    "name": "ipython",
    "version": 3
   },
   "file_extension": ".py",
   "mimetype": "text/x-python",
   "name": "python",
   "nbconvert_exporter": "python",
   "pygments_lexer": "ipython3",
   "version": "3.11.11"
  }
 },
 "nbformat": 4,
 "nbformat_minor": 5
}
