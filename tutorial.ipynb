{
 "cells": [
  {
   "cell_type": "markdown",
   "id": "292744cd",
   "metadata": {},
   "source": [
    "# Machine Learning Interatomic Potentials (MLIP) with ESPResSo\n",
    "\n",
    "In this tutorial, you'll learn how to train and deploy a machine-learned interatomic potential (MLIP) with ESPResSo.\n",
    "We'll be using the [apax](https://github.com/apaxhub/apax) MLIP framework <a href='#[1]'>[1]</a>.\n",
    "\n",
    "## Overview\n",
    "\n",
    "Machine-learned interatomic potentials represent a breakthrough in computational chemistry, bridging the gap between quantum mechanical accuracy and classical force field efficiency. Unlike traditional force fields that require explicit bonding topologies and parameter sets, MLIPs learn interactions directly from training data, making them particularly powerful for studying complex chemical systems.\n",
    "\n",
    "Training an MLIP can take from a few minutes to weeks on multiple GPUs, depending on the complexity of the system and the desired accuracy.\n",
    "For this tutorial, the models you are using are pre-trained to allow you to focus on understanding their application and performance characteristics.\n",
    "The training procedure is included in this repository and you could in principle add new model configurations.\n",
    "The training workflow has been set up using the [IPSuite](https://github.com/zincware/ipsuite) package <a href='#[2]'>[2]</a>.\n",
    "The training data is taken from the work of Cheng et al. <a href='#[3]'>[3]</a>, which provides high-quality ab initio reference data for water systems."
   ]
  },
  {
   "cell_type": "code",
   "execution_count": 18,
   "id": "2c8c7670",
   "metadata": {},
   "outputs": [],
   "source": [
    "# Import required libraries\n",
    "import datetime\n",
    "\n",
    "import matplotlib.pyplot as plt\n",
    "import numpy as np\n",
    "import pint\n",
    "import rdkit2ase\n",
    "import znh5md\n",
    "import zntrack\n",
    "from IPython.display import Markdown, display\n",
    "from tqdm.auto import tqdm\n",
    "\n",
    "# Initialize unit registry for proper unit handling\n",
    "ureg = pint.UnitRegistry()"
   ]
  },
  {
   "cell_type": "markdown",
   "id": "397df49a",
   "metadata": {},
   "source": [
    "## APAX Configuration\n",
    "\n",
    "Below is the default configuration for the APAX MLIP training that you'll be using. This YAML file defines key hyperparameters that control both the accuracy and computational efficiency of the model."
   ]
  },
  {
   "cell_type": "code",
   "execution_count": 19,
   "id": "b9be0061",
   "metadata": {},
   "outputs": [
    {
     "data": {
      "text/markdown": [
       "```yaml\n",
       "n_epochs: 10_000\n",
       "patience: 500\n",
       "data_parallel: true\n",
       "data:\n",
       "\n",
       "  dataset:\n",
       "    processing: cached\n",
       "\n",
       "  batch_size: 1\n",
       "  valid_batch_size: 40\n",
       "\n",
       "metrics:\n",
       "  - name: energy\n",
       "    reductions: [mae]\n",
       "  - name: forces\n",
       "    reductions: [mae]\n",
       "\n",
       "loss:\n",
       "  - name: energy\n",
       "    loss_type: nll\n",
       "    weight: 1.\n",
       "    atoms_exponent: 1\n",
       "  - name: forces\n",
       "    loss_type: nll\n",
       "    weight: 2.\n",
       "    atoms_exponent: 1\n",
       "\n",
       "model:\n",
       "  name: gmnn\n",
       "  basis:\n",
       "    name: bessel\n",
       "    n_basis: 16\n",
       "    r_max: 5.5\n",
       "\n",
       "  n_radial: 6\n",
       "\n",
       "  nn:\n",
       "  - 128\n",
       "  - 128\n",
       "\n",
       "  ensemble:\n",
       "    kind: shallow\n",
       "    n_members: 16\n",
       "\n",
       "  calc_stress: false\n",
       "  use_ntk: false\n",
       "  b_init: zeros\n",
       "  w_init: lecun\n",
       "  scale_shift_dtype: fp64\n",
       "  descriptor_dtype: fp32\n",
       "  readout_dtype: fp32\n",
       "\n",
       "callbacks:\n",
       "- name: csv\n",
       "\n",
       "optimizer:\n",
       "  name: adamw\n",
       "  emb_lr:   0.0001\n",
       "  nn_lr:    0.0001\n",
       "  scale_lr: 0.0001\n",
       "  shift_lr: 0.0001\n",
       "  rep_scale_lr: 0.0001\n",
       "  rep_prefactor_lr: 0.0001\n",
       "  gradient_clipping: 10.0\n",
       "\n",
       "  kwargs: \n",
       "    weight_decay: 0.0002\n",
       "    b1: 0.85\n",
       "    b2: 0.99\n",
       "\n",
       "  schedule:\n",
       "    name: cyclic_cosine\n",
       "    period: 50\n",
       "    decay_factor: 0.96\n",
       "\n",
       "```"
      ],
      "text/plain": [
       "<IPython.core.display.Markdown object>"
      ]
     },
     "metadata": {},
     "output_type": "display_data"
    }
   ],
   "source": [
    "# Display the APAX configuration file\n",
    "with open(\"config/apax.yaml\", \"r\") as f:\n",
    "    content = f.read()\n",
    "display(Markdown(f\"```yaml\\n{content}\\n```\"))"
   ]
  },
  {
   "cell_type": "markdown",
   "id": "adaf8ede",
   "metadata": {},
   "source": [
    "## Model Parameter Study\n",
    "\n",
    "To understand the impact of different hyperparameters on model performance, we have trained multiple models with varying configurations.\n",
    "Each parameter affects both the accuracy and computational cost of the model. Here are the key parameters we'll explore:\n",
    "\n",
    "### Key Hyperparameters\n",
    "\n",
    "- **r_max**: The maximum cutoff radius for the descriptor. This defines how far the model \"sees\" around each atom when predicting energy contributions and forces. A small value makes the model fast but can lead to physical inaccuracies or instabilities. A large value can improve accuracy but increases computational cost.\n",
    "\n",
    "- **n_basis**: The number of radial basis functions used in the descriptor. This controls the resolution of the radial description of atomic environments. More basis functions provide finer detail but increase computational overhead.\n",
    "\n",
    "- **nn**: The architecture of the neural network (number and size of hidden layers).\n",
    "\n",
    "- **n_radial**: The number of radial basis functions.\n",
    "\n",
    "### Training Workflow\n",
    "\n",
    "The workflow file `main.py` implements the following steps:\n",
    "1. Load training and validation data from the `data/` folder\n",
    "2. Iterate over different model parameter configurations\n",
    "3. Generate configuration files for APAX training\n",
    "4. Configure model training and evaluation pipelines\n",
    "5. Execute the complete training workflow\n",
    "\n",
    "All trained models and their results are stored in the `nodes/` directory for analysis and comparison."
   ]
  },
  {
   "cell_type": "code",
   "execution_count": 20,
   "id": "9371a24e",
   "metadata": {},
   "outputs": [
    {
     "data": {
      "text/markdown": [
       "```python\n",
       "from copy import deepcopy\n",
       "from pathlib import Path\n",
       "\n",
       "import ipsuite as ips\n",
       "import yaml\n",
       "from apax.nodes import Apax, ApaxBatchPrediction\n",
       "\n",
       "reference = yaml.safe_load(Path(\"config/apax.yaml\").read_text())\n",
       "\n",
       "project = ips.Project()\n",
       "with project:\n",
       "    train = ips.AddDataH5MD(file=\"data/cosmo_water_train.h5\")\n",
       "    val = ips.AddDataH5MD(file=\"data/cosmo_water_val.h5\")\n",
       "    test = ips.AddDataH5MD(file=\"data/cosmo_water_test.h5\")\n",
       "\n",
       "for r_max in [2, 3, 4, 5, 5.5, 6]:\n",
       "    with project.group(\"r_max\", f\"{r_max}\".replace(\".\", \"_\")):\n",
       "        config = deepcopy(reference)\n",
       "        config[\"model\"][\"basis\"][\"r_max\"] = r_max\n",
       "        file = Path(f\"config/apax-r_max-{r_max}.yaml\")\n",
       "        file.write_text(yaml.dump(config))\n",
       "\n",
       "        model = Apax(\n",
       "            config=file.as_posix(),\n",
       "            data=train.frames,\n",
       "            validation_data=val.frames,\n",
       "        )\n",
       "        test_eval = ApaxBatchPrediction(data=test.frames, model=model)\n",
       "        ips.PredictionMetrics(x=test_eval.frames, y=test.frames)\n",
       "\n",
       "for nn in [(16, 16), (32, 32), (64, 64), (128, 128)]:\n",
       "    with project.group(\"nn\", f\"{nn[0]}-{nn[1]}\"):\n",
       "        config = deepcopy(reference)\n",
       "        config[\"model\"][\"nn\"] = list(nn)\n",
       "        file = Path(f\"config/apax-nn-{nn[0]}-{nn[1]}.yaml\")\n",
       "        file.write_text(yaml.dump(config))\n",
       "\n",
       "        model = Apax(\n",
       "            config=file.as_posix(),\n",
       "            data=train.frames,\n",
       "            validation_data=val.frames,\n",
       "        )\n",
       "        test_eval = ApaxBatchPrediction(data=test.frames, model=model)\n",
       "        ips.PredictionMetrics(x=test_eval.frames, y=test.frames)\n",
       "\n",
       "for n_basis in [4, 8, 16]:\n",
       "    with project.group(\"n_basis\", f\"{n_basis}\"):\n",
       "        config = deepcopy(reference)\n",
       "        config[\"model\"][\"basis\"][\"n_basis\"] = n_basis\n",
       "        file = Path(f\"config/apax-n_basis-{n_basis}.yaml\")\n",
       "        file.write_text(yaml.dump(config))\n",
       "\n",
       "        model = Apax(\n",
       "            config=file.as_posix(),\n",
       "            data=train.frames,\n",
       "            validation_data=val.frames,\n",
       "        )\n",
       "        test_eval = ApaxBatchPrediction(data=test.frames, model=model)\n",
       "        ips.PredictionMetrics(x=test_eval.frames, y=test.frames)\n",
       "\n",
       "for n_radial in [5, 6, 7]:\n",
       "    with project.group(\"n_radial\", f\"{n_radial}\"):\n",
       "        config = deepcopy(reference)\n",
       "        config[\"model\"][\"n_radial\"] = n_radial\n",
       "        file = Path(f\"config/apax-n_radial-{n_radial}.yaml\")\n",
       "        file.write_text(yaml.dump(config))\n",
       "\n",
       "        model = Apax(\n",
       "            config=file.as_posix(),\n",
       "            data=train.frames,\n",
       "            validation_data=val.frames,\n",
       "        )\n",
       "        test_eval = ApaxBatchPrediction(data=test.frames, model=model)\n",
       "        ips.PredictionMetrics(x=test_eval.frames, y=test.frames)\n",
       "\n",
       "if __name__ == \"__main__\":\n",
       "    project.build()\n",
       "\n",
       "```"
      ],
      "text/plain": [
       "<IPython.core.display.Markdown object>"
      ]
     },
     "metadata": {},
     "output_type": "display_data"
    }
   ],
   "source": [
    "# Display the main training workflow\n",
    "with open(\"main.py\", \"r\") as f:\n",
    "    content = f.read()\n",
    "display(Markdown(f\"```python\\n{content}\\n```\"))"
   ]
  },
  {
   "cell_type": "markdown",
   "id": "375e8e82",
   "metadata": {},
   "source": [
    "## Available Pre-trained Models\n",
    "\n",
    "You can select from the following pre-trained models to explore how different hyperparameters affect performance:\n",
    "\n",
    "### Neural Network Architecture Variations\n",
    "The neural network width and depth define the number of parameters and the model's representational capacity:\n",
    "- `nn_16-16_Apax`: Smaller network (16 neurons per layer)\n",
    "- `nn_32-32_Apax`: Medium network (32 neurons per layer)  \n",
    "- `nn_64-64_Apax`: Large network (64 neurons per layer)\n",
    "- `nn_128-128_Apax`: Larger network (128 neurons per layer)\n",
    "\n",
    "### Cutoff Radius Variations\n",
    "The maximum radial cutoff defines the spatial extent of local atomic environments:\n",
    "- `r_max_2_Apax`: Very short cutoff (2.0 Å)\n",
    "- `r_max_3_Apax`: Short cutoff (3.0 Å)\n",
    "- `r_max_4_Apax`: Medium cutoff (4.0 Å)\n",
    "- `r_max_5_Apax`: Standard cutoff (5.0 Å)\n",
    "- `r_max_5_5_Apax`: Extended cutoff (5.5 Å)\n",
    "- `r_max_6_Apax`: Long cutoff (6.0 Å)\n",
    "\n",
    "### Basis Function Variations\n",
    "The number of radial basis functions controls the resolution of the radial descriptor:\n",
    "- `n_basis_4_Apax`: Low resolution (4 basis functions)\n",
    "- `n_basis_8_Apax`: Medium resolution (8 basis functions)\n",
    "- `n_basis_16_Apax`: High resolution (16 basis functions)\n",
    "\n",
    "### Radial Resolution Variations\n",
    "The number of radial basis functions in message passing affects angular resolution:\n",
    "- `n_radial_5_Apax`: Standard angular resolution (5)\n",
    "- `n_radial_6_Apax`: Higher angular resolution (6)\n",
    "- `n_radial_7_Apax`: Higher angular resolution (7)"
   ]
  },
  {
   "cell_type": "markdown",
   "id": "18fc40df",
   "metadata": {},
   "source": [
    "## Loading and Using Pre-trained Models\n",
    "\n",
    "Let's load one of the models (`r_max_5_5_Apax`) and evaluate its performance.\n",
    "For this purpose, we'll use the [ASE (Atomic Simulation Environment)](https://ase-lib.org/) package <a href='#[4]'>[4]</a>.\n",
    "\n",
    "ASE provides a unified interface for working with atomic structures and computational chemistry codes.\n",
    "It represents atomic systems as Python objects and provides calculator interfaces that allow different simulation engines to compute energies and forces using the same API.\n",
    "Our APAX models implement the ASE calculator interface, which enables seamless integration with ESPResSo and other simulation packages.\n",
    "\n",
    "To load the model, we use the [zntrack](https://zntrack.readthedocs.io/en/latest/) package <a href='#[5]'>[5]</a>, which provides version control and reproducibility for computational workflows.\n",
    "\n",
    "### Important Note on Units\n",
    "The ASE calculator and most MLIP packages use eV and Ångström as units for energy and distance, respectively, as referenced in the [ASE documentation](https://ase-lib.org/ase/units.html). This is important to keep in mind when interfacing with other simulation codes that may use different unit systems."
   ]
  },
  {
   "cell_type": "code",
   "execution_count": 21,
   "id": "9f7305d3",
   "metadata": {},
   "outputs": [
    {
     "name": "stderr",
     "output_type": "stream",
     "text": [
      "/work/fzills/projects/2025-espresso-water/.venv/lib/python3.11/site-packages/zntrack/state.py:159: UserWarning: The temporary path is not used when neither remote or rev are set.Consider checking for `self.state.remote` and `self.state.rev` whenusing `with node.state.use_tmp_path(): ...` .\n",
      "  warnings.warn(\n",
      "WARNING:absl:`StandardCheckpointHandler` expects a target tree to be provided for restore. Not doing so is generally UNSAFE unless you know the present topology to be the same one as the checkpoint was saved under.\n"
     ]
    },
    {
     "name": "stdout",
     "output_type": "stream",
     "text": [
      "<apax.md.ase_calc.ASECalculator object at 0x93228846f10>\n"
     ]
    }
   ],
   "source": [
    "# Load a pre-trained model and get its ASE calculator interface\n",
    "model = zntrack.from_rev(\"r_max_5_5_Apax\")\n",
    "calc = model.get_calculator()\n",
    "print(calc)"
   ]
  },
  {
   "cell_type": "markdown",
   "id": "c2d2964f",
   "metadata": {},
   "source": [
    "## Model Evaluation on Test Dataset\n",
    "\n",
    "To assess the performance of our MLIPs, we evaluate them on a dedicated test dataset.\n",
    "These are atomic configurations that the model has never seen during training, providing an unbiased assessment of the model's generalization ability.\n",
    "\n",
    "**Important considerations for MLIP evaluation:**\n",
    "- Static test performance (what we measure here) provides a baseline for model quality\n",
    "- The test dataset quality and diversity directly impacts the reliability of these metrics  \n",
    "- Real-world performance in molecular dynamics simulations may differ from static test metrics\n",
    "- Long-timescale stability and transferability often require additional validation beyond static tests"
   ]
  },
  {
   "cell_type": "code",
   "execution_count": 22,
   "id": "bcbe21ba",
   "metadata": {},
   "outputs": [],
   "source": [
    "# Load the test dataset (stored in H5MD format)\n",
    "test_io = znh5md.IO(\"data/cosmo_water_test.h5\")\n",
    "test_frames = test_io[:]"
   ]
  },
  {
   "cell_type": "markdown",
   "id": "b063877e",
   "metadata": {},
   "source": [
    "The `test_frames` variable contains a list of ASE Atoms objects, each representing a different atomic configuration from the test set. \n",
    "Each Atoms object contains:\n",
    "- Atomic positions and species\n",
    "- Periodic boundary conditions and unit cell\n",
    "- Reference energies and forces from DFT calculations (stored as calculator results)\n",
    "\n",
    "Later in this tutorial, you'll learn how to create your own atomic configurations for molecular dynamics simulations."
   ]
  },
  {
   "cell_type": "code",
   "execution_count": 23,
   "id": "b1db9c65",
   "metadata": {},
   "outputs": [
    {
     "name": "stdout",
     "output_type": "stream",
     "text": [
      "Number of test frames: 160\n",
      "First three configurations:\n",
      "[Atoms(symbols='H128O64', pbc=True, cell=[[13.066375, 0.0, 0.0], [-1e-06, 13.066375, 0.0], [-1e-06, -1e-06, 13.066375]], calculator=SinglePointCalculator(...)), Atoms(symbols='H128O64', pbc=True, cell=[[12.749514, 0.0, 0.0], [-1e-06, 12.749514, 0.0], [-1e-06, -1e-06, 12.749514]], calculator=SinglePointCalculator(...)), Atoms(symbols='H128O64', pbc=True, cell=[[13.096601, 0.0, 0.0], [-1e-06, 13.096601, 0.0], [-1e-06, -1e-06, 13.096601]], calculator=SinglePointCalculator(...))]\n"
     ]
    }
   ],
   "source": [
    "# Examine the test dataset\n",
    "print(f\"Number of test frames: {len(test_frames)}\")\n",
    "print(\"First three configurations:\")\n",
    "print(test_frames[:3])"
   ]
  },
  {
   "cell_type": "markdown",
   "id": "b051e02e",
   "metadata": {},
   "source": [
    "Now we can use the `calc` object to apply our MLIP and compute energies and forces for each configuration in the test set.\n",
    "We'll compare these predictions against the reference DFT values to assess model accuracy."
   ]
  },
  {
   "cell_type": "code",
   "execution_count": 24,
   "id": "4629dd04",
   "metadata": {},
   "outputs": [
    {
     "data": {
      "application/vnd.jupyter.widget-view+json": {
       "model_id": "be040ebf23624cac87511579e2eac69c",
       "version_major": 2,
       "version_minor": 0
      },
      "text/plain": [
       "Computing MLIP predictions:   0%|          | 0/160 [00:00<?, ?it/s]"
      ]
     },
     "metadata": {},
     "output_type": "display_data"
    },
    {
     "name": "stdout",
     "output_type": "stream",
     "text": [
      "neighbor list overflowed, reallocating.\n",
      "neighbor list overflowed, reallocating.\n",
      "neighbor list overflowed, reallocating.\n"
     ]
    }
   ],
   "source": [
    "# Extract reference (true) values from the test dataset\n",
    "true_energies = [x.get_potential_energy() for x in test_frames]\n",
    "true_forces = [x.get_forces() for x in test_frames]\n",
    "\n",
    "# Compute MLIP predictions for all test configurations\n",
    "pred_energies = []\n",
    "pred_forces = []\n",
    "for frame in tqdm(test_frames, desc=\"Computing MLIP predictions\"):\n",
    "    frame.calc = calc  # Assign the MLIP calculator\n",
    "    pred_energies.append(frame.get_potential_energy())\n",
    "    pred_forces.append(frame.get_forces())"
   ]
  },
  {
   "cell_type": "markdown",
   "id": "c04bd4f8",
   "metadata": {},
   "source": [
    "### Exercise 1: Model Performance Analysis\n",
    "\n",
    "**Tasks:**\n",
    "1. Create correlation plots (predicted vs. true) comparing DFT reference values to MLIP predictions for both energies and forces\n",
    "2. Calculate the Mean Absolute Error (MAE) for energies and forces\n",
    "3. Note that energy MAE is typically reported per atom to enable comparison across different system sizes\n",
    "\n",
    "**Learning objectives:**\n",
    "- Understand how to quantify MLIP accuracy using standard metrics\n",
    "- Learn to visualize model performance through correlation plots\n",
    "- Recognize the importance of normalizing energies by system size"
   ]
  },
  {
   "cell_type": "code",
   "execution_count": null,
   "id": "124771c3",
   "metadata": {},
   "outputs": [
    {
     "data": {
      "image/png": "[encoded data removed]",
      "text/plain": [
       "<Figure size 1200x500 with 2 Axes>"
      ]
     },
     "metadata": {},
     "output_type": "display_data"
    }
   ],
   "source": [
    "# SOLUTION CELL\n",
    "fig, ax = plt.subplots(1, 2, figsize=(12, 5))\n",
    "\n",
    "\n",
    "# Helper function to compute Mean Absolute Error\n",
    "def mae(y_true, y_pred):\n",
    "    return np.mean(np.abs(np.array(y_true) - np.array(y_pred)))\n",
    "\n",
    "\n",
    "# Energy correlation plot (normalized per atom)\n",
    "atoms = np.array([len(frame) for frame in test_frames])\n",
    "true_energies_norm = np.array(true_energies) / atoms\n",
    "pred_energies_norm = np.array(pred_energies) / atoms\n",
    "e_mae = mae(true_energies_norm, pred_energies_norm)\n",
    "\n",
    "ax[0].scatter(\n",
    "    true_energies_norm,\n",
    "    pred_energies_norm,\n",
    "    marker=\"x\",\n",
    "    alpha=0.7,\n",
    "    label=f\"MAE: {e_mae:.4f} eV/atom\",\n",
    ")\n",
    "ax[0].plot(\n",
    "    [true_energies_norm.min(), true_energies_norm.max()],\n",
    "    [true_energies_norm.min(), true_energies_norm.max()],\n",
    "    \"k--\",\n",
    "    alpha=0.5,\n",
    ")\n",
    "ax[0].set_xlabel(\"True Energies / eV/atom\")\n",
    "ax[0].set_ylabel(\"Predicted Energies / eV/atom\")\n",
    "ax[0].set_title(\"Energy Predictions\")\n",
    "ax[0].legend()\n",
    "\n",
    "# Force correlation plot\n",
    "true_forces_flat = np.concatenate([f.flatten() for f in true_forces])\n",
    "pred_forces_flat = np.concatenate([f.flatten() for f in pred_forces])\n",
    "f_mae = mae(true_forces_flat, pred_forces_flat)\n",
    "\n",
    "ax[1].scatter(\n",
    "    true_forces_flat,\n",
    "    pred_forces_flat,\n",
    "    marker=\"x\",\n",
    "    alpha=0.3,\n",
    "    label=f\"MAE: {f_mae:.4f} eV/Å\",\n",
    ")\n",
    "ax[1].plot(\n",
    "    [true_forces_flat.min(), true_forces_flat.max()],\n",
    "    [true_forces_flat.min(), true_forces_flat.max()],\n",
    "    \"k--\",\n",
    "    alpha=0.5,\n",
    ")\n",
    "ax[1].set_xlabel(r\"True Forces / eV/Å\")\n",
    "ax[1].set_ylabel(r\"Predicted Forces / eV/Å\")\n",
    "ax[1].set_title(\"Force Predictions\")\n",
    "ax[1].legend()\n",
    "\n",
    "plt.tight_layout()\n",
    "plt.show()"
   ]
  },
  {
   "cell_type": "markdown",
   "id": "234d444f",
   "metadata": {},
   "source": [
    "### Exercise 2: Comparative Model Analysis\n",
    "\n",
    "Now that you've analyzed the performance of the `r_max_5_5_Apax` model, compute energy and force MAEs for all available models.\n",
    "\n",
    "**Questions to consider:**\n",
    "- Which hyperparameters have the strongest impact on accuracy?\n",
    "- Is there a trade-off between accuracy and computational speed?\n",
    "- How do different parameters affect energy vs. force predictions?"
   ]
  },
  {
   "cell_type": "code",
   "execution_count": null,
   "id": "3ef09f5a",
   "metadata": {},
   "outputs": [
    {
     "data": {
      "application/vnd.jupyter.widget-view+json": {
       "model_id": "ba6264f5255344e3a91134e516325005",
       "version_major": 2,
       "version_minor": 0
      },
      "text/plain": [
       "Evaluating models:   0%|          | 0/16 [00:00<?, ?it/s]"
      ]
     },
     "metadata": {},
     "output_type": "display_data"
    },
    {
     "name": "stderr",
     "output_type": "stream",
     "text": [
      "/work/fzills/projects/2025-espresso-water/.venv/lib/python3.11/site-packages/zntrack/state.py:159: UserWarning: The temporary path is not used when neither remote or rev are set.Consider checking for `self.state.remote` and `self.state.rev` whenusing `with node.state.use_tmp_path(): ...` .\n",
      "  warnings.warn(\n",
      "WARNING:absl:`StandardCheckpointHandler` expects a target tree to be provided for restore. Not doing so is generally UNSAFE unless you know the present topology to be the same one as the checkpoint was saved under.\n",
      "/work/fzills/projects/2025-espresso-water/.venv/lib/python3.11/site-packages/zntrack/state.py:159: UserWarning: The temporary path is not used when neither remote or rev are set.Consider checking for `self.state.remote` and `self.state.rev` whenusing `with node.state.use_tmp_path(): ...` .\n",
      "  warnings.warn(\n",
      "WARNING:absl:`StandardCheckpointHandler` expects a target tree to be provided for restore. Not doing so is generally UNSAFE unless you know the present topology to be the same one as the checkpoint was saved under.\n",
      "/work/fzills/projects/2025-espresso-water/.venv/lib/python3.11/site-packages/zntrack/state.py:159: UserWarning: The temporary path is not used when neither remote or rev are set.Consider checking for `self.state.remote` and `self.state.rev` whenusing `with node.state.use_tmp_path(): ...` .\n",
      "  warnings.warn(\n",
      "WARNING:absl:`StandardCheckpointHandler` expects a target tree to be provided for restore. Not doing so is generally UNSAFE unless you know the present topology to be the same one as the checkpoint was saved under.\n",
      "/work/fzills/projects/2025-espresso-water/.venv/lib/python3.11/site-packages/zntrack/state.py:159: UserWarning: The temporary path is not used when neither remote or rev are set.Consider checking for `self.state.remote` and `self.state.rev` whenusing `with node.state.use_tmp_path(): ...` .\n",
      "  warnings.warn(\n",
      "WARNING:absl:`StandardCheckpointHandler` expects a target tree to be provided for restore. Not doing so is generally UNSAFE unless you know the present topology to be the same one as the checkpoint was saved under.\n",
      "/work/fzills/projects/2025-espresso-water/.venv/lib/python3.11/site-packages/zntrack/state.py:159: UserWarning: The temporary path is not used when neither remote or rev are set.Consider checking for `self.state.remote` and `self.state.rev` whenusing `with node.state.use_tmp_path(): ...` .\n",
      "  warnings.warn(\n",
      "WARNING:absl:`StandardCheckpointHandler` expects a target tree to be provided for restore. Not doing so is generally UNSAFE unless you know the present topology to be the same one as the checkpoint was saved under.\n",
      "/work/fzills/projects/2025-espresso-water/.venv/lib/python3.11/site-packages/zntrack/state.py:159: UserWarning: The temporary path is not used when neither remote or rev are set.Consider checking for `self.state.remote` and `self.state.rev` whenusing `with node.state.use_tmp_path(): ...` .\n",
      "  warnings.warn(\n",
      "WARNING:absl:`StandardCheckpointHandler` expects a target tree to be provided for restore. Not doing so is generally UNSAFE unless you know the present topology to be the same one as the checkpoint was saved under.\n",
      "/work/fzills/projects/2025-espresso-water/.venv/lib/python3.11/site-packages/zntrack/state.py:159: UserWarning: The temporary path is not used when neither remote or rev are set.Consider checking for `self.state.remote` and `self.state.rev` whenusing `with node.state.use_tmp_path(): ...` .\n",
      "  warnings.warn(\n",
      "WARNING:absl:`StandardCheckpointHandler` expects a target tree to be provided for restore. Not doing so is generally UNSAFE unless you know the present topology to be the same one as the checkpoint was saved under.\n",
      "/work/fzills/projects/2025-espresso-water/.venv/lib/python3.11/site-packages/zntrack/state.py:159: UserWarning: The temporary path is not used when neither remote or rev are set.Consider checking for `self.state.remote` and `self.state.rev` whenusing `with node.state.use_tmp_path(): ...` .\n",
      "  warnings.warn(\n",
      "WARNING:absl:`StandardCheckpointHandler` expects a target tree to be provided for restore. Not doing so is generally UNSAFE unless you know the present topology to be the same one as the checkpoint was saved under.\n",
      "/work/fzills/projects/2025-espresso-water/.venv/lib/python3.11/site-packages/zntrack/state.py:159: UserWarning: The temporary path is not used when neither remote or rev are set.Consider checking for `self.state.remote` and `self.state.rev` whenusing `with node.state.use_tmp_path(): ...` .\n",
      "  warnings.warn(\n",
      "WARNING:absl:`StandardCheckpointHandler` expects a target tree to be provided for restore. Not doing so is generally UNSAFE unless you know the present topology to be the same one as the checkpoint was saved under.\n",
      "/work/fzills/projects/2025-espresso-water/.venv/lib/python3.11/site-packages/zntrack/state.py:159: UserWarning: The temporary path is not used when neither remote or rev are set.Consider checking for `self.state.remote` and `self.state.rev` whenusing `with node.state.use_tmp_path(): ...` .\n",
      "  warnings.warn(\n",
      "WARNING:absl:`StandardCheckpointHandler` expects a target tree to be provided for restore. Not doing so is generally UNSAFE unless you know the present topology to be the same one as the checkpoint was saved under.\n",
      "/work/fzills/projects/2025-espresso-water/.venv/lib/python3.11/site-packages/zntrack/state.py:159: UserWarning: The temporary path is not used when neither remote or rev are set.Consider checking for `self.state.remote` and `self.state.rev` whenusing `with node.state.use_tmp_path(): ...` .\n",
      "  warnings.warn(\n",
      "WARNING:absl:`StandardCheckpointHandler` expects a target tree to be provided for restore. Not doing so is generally UNSAFE unless you know the present topology to be the same one as the checkpoint was saved under.\n",
      "/work/fzills/projects/2025-espresso-water/.venv/lib/python3.11/site-packages/zntrack/state.py:159: UserWarning: The temporary path is not used when neither remote or rev are set.Consider checking for `self.state.remote` and `self.state.rev` whenusing `with node.state.use_tmp_path(): ...` .\n",
      "  warnings.warn(\n",
      "WARNING:absl:`StandardCheckpointHandler` expects a target tree to be provided for restore. Not doing so is generally UNSAFE unless you know the present topology to be the same one as the checkpoint was saved under.\n",
      "/work/fzills/projects/2025-espresso-water/.venv/lib/python3.11/site-packages/zntrack/state.py:159: UserWarning: The temporary path is not used when neither remote or rev are set.Consider checking for `self.state.remote` and `self.state.rev` whenusing `with node.state.use_tmp_path(): ...` .\n",
      "  warnings.warn(\n",
      "WARNING:absl:`StandardCheckpointHandler` expects a target tree to be provided for restore. Not doing so is generally UNSAFE unless you know the present topology to be the same one as the checkpoint was saved under.\n",
      "/work/fzills/projects/2025-espresso-water/.venv/lib/python3.11/site-packages/zntrack/state.py:159: UserWarning: The temporary path is not used when neither remote or rev are set.Consider checking for `self.state.remote` and `self.state.rev` whenusing `with node.state.use_tmp_path(): ...` .\n",
      "  warnings.warn(\n",
      "WARNING:absl:`StandardCheckpointHandler` expects a target tree to be provided for restore. Not doing so is generally UNSAFE unless you know the present topology to be the same one as the checkpoint was saved under.\n",
      "/work/fzills/projects/2025-espresso-water/.venv/lib/python3.11/site-packages/zntrack/state.py:159: UserWarning: The temporary path is not used when neither remote or rev are set.Consider checking for `self.state.remote` and `self.state.rev` whenusing `with node.state.use_tmp_path(): ...` .\n",
      "  warnings.warn(\n",
      "WARNING:absl:`StandardCheckpointHandler` expects a target tree to be provided for restore. Not doing so is generally UNSAFE unless you know the present topology to be the same one as the checkpoint was saved under.\n",
      "/work/fzills/projects/2025-espresso-water/.venv/lib/python3.11/site-packages/zntrack/state.py:159: UserWarning: The temporary path is not used when neither remote or rev are set.Consider checking for `self.state.remote` and `self.state.rev` whenusing `with node.state.use_tmp_path(): ...` .\n",
      "  warnings.warn(\n",
      "WARNING:absl:`StandardCheckpointHandler` expects a target tree to be provided for restore. Not doing so is generally UNSAFE unless you know the present topology to be the same one as the checkpoint was saved under.\n"
     ]
    },
    {
     "name": "stdout",
     "output_type": "stream",
     "text": [
      "Model Performance Comparison\n",
      "======================================================================\n",
      "Model                Energy MAE      Force MAE       Time (s)  \n",
      "                     (eV/atom)       (eV/Å)                    \n",
      "----------------------------------------------------------------------\n",
      "nn_16-16_Apax        0.0034          0.0485          4.66      \n",
      "nn_32-32_Apax        0.0026          0.0458          4.81      \n",
      "nn_64-64_Apax        0.0029          0.0503          4.95      \n",
      "nn_128-128_Apax      0.0029          0.0474          4.87      \n",
      "r_max_2_Apax         0.0479          0.3596          4.19      \n",
      "r_max_3_Apax         0.0040          0.0919          4.27      \n",
      "r_max_4_Apax         0.0031          0.0610          4.50      \n",
      "r_max_5_Apax         0.0028          0.0483          4.66      \n",
      "r_max_5_5_Apax       0.0026          0.0477          4.85      \n",
      "r_max_6_Apax         0.0028          0.0440          5.07      \n",
      "n_basis_4_Apax       0.0045          0.0543          4.63      \n",
      "n_basis_8_Apax       0.0028          0.0477          4.73      \n",
      "n_basis_16_Apax      0.0027          0.0474          4.83      \n",
      "n_radial_5_Apax      0.0039          0.0548          4.67      \n",
      "n_radial_6_Apax      0.0026          0.0471          4.85      \n",
      "n_radial_7_Apax      0.0025          0.0461          5.19      \n",
      "\n",
      "Key Observations:\n",
      "- Lower MAE values indicate better accuracy\n",
      "- Time reflects computational cost per evaluation\n",
      "- Best models balance accuracy and efficiency\n"
     ]
    }
   ],
   "source": [
    "# SOLUTION CELL\n",
    "model_names = [\n",
    "    \"nn_16-16_Apax\",\n",
    "    \"nn_32-32_Apax\",\n",
    "    \"nn_64-64_Apax\",\n",
    "    \"nn_128-128_Apax\",  # NN variations\n",
    "    \"r_max_2_Apax\",\n",
    "    \"r_max_3_Apax\",\n",
    "    \"r_max_4_Apax\",\n",
    "    \"r_max_5_Apax\",\n",
    "    \"r_max_5_5_Apax\",\n",
    "    \"r_max_6_Apax\",  # Cutoff variations\n",
    "    \"n_basis_4_Apax\",\n",
    "    \"n_basis_8_Apax\",\n",
    "    \"n_basis_16_Apax\",  # Basis function variations\n",
    "    \"n_radial_5_Apax\",\n",
    "    \"n_radial_6_Apax\",\n",
    "    \"n_radial_7_Apax\",  # Radial resolution variations\n",
    "]\n",
    "\n",
    "\n",
    "def mae(y_true, y_pred):\n",
    "    \"\"\"Calculate Mean Absolute Error\"\"\"\n",
    "    return np.mean(np.abs(np.array(y_true) - np.array(y_pred)))\n",
    "\n",
    "\n",
    "atoms = np.array([len(frame) for frame in test_frames])\n",
    "results = {}\n",
    "\n",
    "# Progress bar for model evaluation\n",
    "pbar = tqdm(model_names, desc=\"Evaluating models\")\n",
    "\n",
    "for name in pbar:\n",
    "    pbar.set_description(f\"Evaluating {name}\")\n",
    "\n",
    "    # Load model and get calculator\n",
    "    model = zntrack.from_rev(name)\n",
    "    calc = model.get_calculator()\n",
    "\n",
    "    # Measure evaluation time\n",
    "    start = datetime.datetime.now()\n",
    "    pred_frames = calc.batch_eval(test_frames, batch_size=1, silent=True)\n",
    "    end = datetime.datetime.now()\n",
    "\n",
    "    # Extract predictions and compute metrics\n",
    "    pred_energies = [x.get_potential_energy() for x in pred_frames]\n",
    "    pred_forces = [x.get_forces() for x in pred_frames]\n",
    "\n",
    "    # Calculate normalized energy MAE and force MAE\n",
    "    pred_energies_norm = np.array(pred_energies) / atoms\n",
    "    e_mae = mae(true_energies_norm, pred_energies_norm)\n",
    "\n",
    "    pred_forces_flat = np.concatenate([f.flatten() for f in pred_forces])\n",
    "    f_mae = mae(true_forces_flat, pred_forces_flat)\n",
    "\n",
    "    # Store results\n",
    "    results[name] = (e_mae, f_mae, end - start)\n",
    "\n",
    "# Display results in a formatted table\n",
    "print(\"Model Performance Comparison\")\n",
    "print(\"=\" * 70)\n",
    "print(f\"{'Model':<20} {'Energy MAE':<15} {'Force MAE':<15} {'Time / s':<10}\")\n",
    "print(f\"{'':20} {'/ eV/atom':<15} {'/ eV/Å':<15} {'':10}\")\n",
    "print(\"-\" * 70)\n",
    "\n",
    "for name, (e_mae, f_mae, duration) in results.items():\n",
    "    print(f\"{name:<20} {e_mae:<15.4f} {f_mae:<15.4f} {duration.total_seconds():<10.2f}\")\n",
    "\n",
    "print(\"\\nKey Observations:\")\n",
    "print(\"- Lower MAE values indicate better accuracy\")\n",
    "print(\"- Time reflects computational cost per evaluation\")\n",
    "print(\"- Best models balance accuracy and efficiency\")"
   ]
  },
  {
   "cell_type": "markdown",
   "id": "16f88a0e",
   "metadata": {},
   "source": [
    "# System Setup for Molecular Dynamics\n",
    "\n",
    "MLIPs differ fundamentally from classical force fields in their setup requirements.\n",
    "Classical force fields require explicit molecular topologies to assign parameters for inter- and intramolecular interactions.\n",
    "MLIPs, however, learn these interactions directly from training data and only require:\n",
    "- Atomic species (element types)\n",
    "- Atomic positions\n",
    "- Unit cell vectors (for periodic systems)\n",
    "\n",
    "While this simplicity is powerful, creating atomic coordinates manually is impractical for most systems.\n",
    "Therefore, we use higher-level representations and automated tools:\n",
    "\n",
    "## SMILES Representation\n",
    "We use SMILES (Simplified Molecular-Input Line-Entry System) <a href='#[6]'>[6]</a> strings to describe molecular structures.\n",
    "For water, the SMILES string is simply `O` (representing the oxygen atom with implicit hydrogens).\n",
    "The [rdkit2ase](https://zincware.github.io/rdkit2ase/) package provides convenient functions to convert SMILES strings into 3D atomic coordinates."
   ]
  },
  {
   "cell_type": "code",
   "execution_count": null,
   "id": "8bf21c64",
   "metadata": {},
   "outputs": [
    {
     "name": "stdout",
     "output_type": "stream",
     "text": [
      "Generated water molecule as ASE Atoms object: Atoms(symbols='OH2', pbc=False)\n",
      "Chemical species: ['O', 'H', 'H']\n",
      "Atomic positions (Å):\n",
      "[[-0.00570308  0.38515871 -0.        ]\n",
      " [-0.79607794 -0.194675   -0.        ]\n",
      " [ 0.80178102 -0.1904837   0.        ]]\n"
     ]
    },
    {
     "data": {
      "image/png": "[encoded data removed]",
      "text/plain": [
       "<rdkit.Chem.rdchem.Mol at 0x933c5f02c70>"
      ]
     },
     "execution_count": 27,
     "metadata": {},
     "output_type": "execute_result"
    }
   ],
   "source": [
    "# Generate water molecule conformations from SMILES\n",
    "water = rdkit2ase.smiles2conformers(\"O\", numConfs=100)\n",
    "\n",
    "print(f\"Generated water molecule as ASE Atoms object: {water[0]}\")\n",
    "print(f\"Chemical species: {water[0].get_chemical_symbols()}\")\n",
    "print(f\"Atomic positions / Å:\\n{water[0].get_positions()}\")\n",
    "\n",
    "# Visualize the molecular structure using RDKit\n",
    "rdkit2ase.ase2rdkit(water[0])"
   ]
  },
  {
   "cell_type": "markdown",
   "id": "c0136e0e",
   "metadata": {},
   "source": [
    "## Creating Bulk Systems with PACKMOL\n",
    "\n",
    "To create a realistic liquid water system for MD simulation, we need to pack multiple water molecules into a periodic box at the appropriate density.\n",
    "We use the PACKMOL software package for this purpose, which efficiently packs molecules while avoiding unrealistic overlaps."
   ]
  },
  {
   "cell_type": "code",
   "execution_count": 28,
   "id": "fe4a2626",
   "metadata": {},
   "outputs": [],
   "source": [
    "# Create a liquid water box using PACKMOL\n",
    "# Parameters: 100 water molecules at liquid density (997 kg/m³)\n",
    "box = rdkit2ase.pack(\n",
    "    [water],  # List of molecules to pack\n",
    "    counts=[100],  # Number of each molecule type\n",
    "    density=997,  # Density in kg/m³\n",
    "    packmol=\"/data/fzills/tools/packmol-20.15.1/packmol\",  # Path to PACKMOL executable\n",
    ")"
   ]
  },
  {
   "cell_type": "markdown",
   "id": "f298081e",
   "metadata": {},
   "source": [
    "For our MLIP, this system is represented as:\n",
    "- 300 atoms (100 × 3 atoms per water molecule)\n",
    "- XYZ coordinates in 3D space\n",
    "- Periodic boundary conditions defined by cell vectors\n",
    "- Atomic species labels (O and H)\n",
    "\n",
    "No explicit bonds, angles, or other topological information is needed – the MLIP learned these interactions from its training data."
   ]
  },
  {
   "cell_type": "code",
   "execution_count": 29,
   "id": "c5976fae",
   "metadata": {},
   "outputs": [],
   "source": [
    "# Assign the MLIP calculator to our water box\n",
    "box.calc = calc"
   ]
  },
  {
   "cell_type": "code",
   "execution_count": 30,
   "id": "f7979679",
   "metadata": {},
   "outputs": [
    {
     "name": "stdout",
     "output_type": "stream",
     "text": [
      "Potential energy of the water box: -46866.79 eV\n"
     ]
    }
   ],
   "source": [
    "# Compute the potential energy of the entire system\n",
    "energy = box.get_potential_energy() * ureg.eV\n",
    "print(f\"Potential energy of the water box: {energy:.2f~P}\")"
   ]
  },
  {
   "cell_type": "code",
   "execution_count": 31,
   "id": "972a36c4",
   "metadata": {},
   "outputs": [
    {
     "name": "stdout",
     "output_type": "stream",
     "text": [
      "Forces on atoms (first 5 shown): [[-0.03 0.75 -0.22] [1.49 0.88 0.37] [-2.01 -0.34 0.23] [0.08 -0.32 1.25] [-0.36 1.13 -0.14]] eV/Å\n"
     ]
    }
   ],
   "source": [
    "# Compute forces on all atoms\n",
    "forces = box.get_forces() * ureg.eV / ureg.angstrom\n",
    "print(f\"Forces on atoms (first 5 shown): {forces[:5]:.2f~P}\")"
   ]
  },
  {
   "cell_type": "markdown",
   "id": "d5ca97ab",
   "metadata": {},
   "source": [
    "## Uncertainty Quantification with Ensemble Methods\n",
    "\n",
    "One feature of the APAX MLIP framework is its ability to estimate the uncertainty of its predictions using ensemble methods.\n",
    "Our models use a \"shallow ensemble\" approach where the final layers of the neural network are replicated with different random initializations:\n",
    "\n",
    "```yaml\n",
    "ensemble:\n",
    "    kind: shallow\n",
    "    n_members: 16\n",
    "```\n",
    "\n",
    "This configuration creates 16 different \"members\" in the ensemble. The final prediction is the mean across all ensemble members, and the standard deviation provides an estimate of prediction uncertainty.\n",
    "\n",
    "**Applications of uncertainty quantification:**\n",
    "- Monitor prediction reliability during MD simulations\n",
    "- Stop simulations automatically when uncertainty exceeds thresholds\n",
    "- Identify regions of configuration space poorly covered by training data\n",
    "- Guide active learning strategies for model improvement\n",
    "\n",
    "This capability is particularly valuable for long MD simulations where the system may explore configurations far from the training distribution."
   ]
  },
  {
   "cell_type": "code",
   "execution_count": 32,
   "id": "709ed23f",
   "metadata": {},
   "outputs": [
    {
     "name": "stdout",
     "output_type": "stream",
     "text": [
      "Available calculator results:\n",
      "['energy', 'energy_ensemble', 'energy_uncertainty', 'forces', 'forces_ensemble', 'forces_uncertainty']\n"
     ]
    }
   ],
   "source": [
    "# Examine available results from the calculator\n",
    "print(\"Available calculator results:\")\n",
    "print(list(box.calc.results.keys()))"
   ]
  },
  {
   "cell_type": "code",
   "execution_count": null,
   "id": "a0af6191",
   "metadata": {},
   "outputs": [
    {
     "name": "stdout",
     "output_type": "stream",
     "text": [
      "Energy prediction: -46866.8 eV ± 7.3 eV\n",
      "Relative uncertainty: 0.02 dimensionless%\n"
     ]
    }
   ],
   "source": [
    "# Extract and display prediction uncertainty\n",
    "energy_uncertainty = box.calc.results[\"energy_uncertainty\"] * ureg.eV\n",
    "print(f\"Energy prediction: {energy:.1f~P} ± {energy_uncertainty:.1f~P}\")"
   ]
  },
  {
   "cell_type": "markdown",
   "id": "2a37595a",
   "metadata": {},
   "source": [
    "## Preparing for ESPResSo Integration\n",
    "\n",
    "With our water system configured and the MLIP calculator assigned, we're ready to integrate with ESPResSo for molecular dynamics simulations.\n",
    "The ASE calculator interface provides a seamless bridge between our APAX models and ESPResSo's simulation engine."
   ]
  },
  {
   "cell_type": "code",
   "execution_count": 34,
   "id": "a69961b1",
   "metadata": {},
   "outputs": [
    {
     "name": "stdout",
     "output_type": "stream",
     "text": [
      "Water system saved to water.xyz for ESPResSo integration\n"
     ]
    }
   ],
   "source": [
    "# Save the water system for use in ESPResSo simulations\n",
    "from ase.io import write\n",
    "\n",
    "write(\"water.xyz\", box)\n",
    "print(\"Water system saved to water.xyz for ESPResSo integration\")"
   ]
  },
  {
   "cell_type": "markdown",
   "id": "28d43a8e",
   "metadata": {},
   "source": [
    "## Key Learning Outcomes\n",
    "\n",
    "By completing this tutorial, you have learned:\n",
    "\n",
    "1. **MLIP Fundamentals**: How machine-learned interatomic potentials differ from classical force fields and their advantages for complex chemical systems\n",
    "2. **Model Evaluation**: Methods to assess MLIP accuracy using correlation plots and error metrics\n",
    "3. **Hyperparameter Effects**: How different model parameters (cutoff radius, neural network size, basis functions) affect accuracy and computational cost\n",
    "4. **System Preparation**: Creating realistic molecular systems using SMILES representations and PACKMOL\n",
    "5. **Uncertainty Quantification**: Using ensemble methods to estimate prediction reliability\n",
    "6. **Integration Workflow**: Connecting APAX models with simulation engines through ASE calculators\n",
    "\n",
    "## Next Steps\n",
    "\n",
    "This tutorial provides the foundation for using MLIPs in ESPResSo simulations. Consider exploring:\n",
    "- Longer MD simulations to study dynamic properties\n",
    "- Temperature and pressure effects on model performance  \n",
    "- Active learning strategies for model improvement\n",
    "- Comparison with other MLIP frameworks (MACE, NequIP, etc.)\n",
    "\n",
    "---\n",
    "\n",
    "## References\n",
    "\n",
    "<a id='[1]'></a>[1] Moritz R. Schäfer, Nico Segreto, Fabian Zills, Christian Holm, and Johannes Kästner. <a href=\"https://doi.org/10.1021/acs.jcim.5c01221\">Apax: A Flexible and Performant Framework for the Development of Machine-Learned Interatomic Potentials</a>. *Journal of Chemical Information and Modeling* 2025 65 (15), 8066-8078\n",
    "\n",
    "<a id='[2]'></a>[2] Fabian Zills, Moritz René Schäfer, Nico Segreto, Johannes Kästner, Christian Holm, and Samuel Tovey. <a href=\"https://doi.org/10.1021/acs.jpcb.3c07187\">Collaboration on Machine-Learned Potentials with IPSuite: A Modular Framework for Learning-on-the-Fly</a>. *The Journal of Physical Chemistry B* 2024 128 (15), 3662-3676\n",
    "\n",
    "<a id='[3]'></a>[3] B. Cheng, E.A. Engel, J. Behler, C. Dellago, & M. Ceriotti. <a href=\"https://doi.org/10.1073/pnas.1815117116\">Ab initio thermodynamics of liquid and solid water</a>. *Proc. Natl. Acad. Sci. U.S.A.* 2019 116 (4) 1110-1115\n",
    "\n",
    "<a id='[4]'></a>[4] Ask Hjorth Larsen et al. <a href=\"https://iopscience.iop.org/article/10.1088/1361-648X/aa680e\">The atomic simulation environment—a Python library for working with atoms</a>. *J. Phys.: Condens. Matter* 2017 29 273002\n",
    "\n",
    "<a id='[5]'></a>[5] Fabian Zills, Moritz Schäfer, Samuel Tovey, Johannes Kästner, Christian Holm. <a href=\"https://doi.org/10.48550/arXiv.2401.10603\">ZnTrack -- Data as Code</a>. *arXiv:2401.10603 [cs.MS]* 2024\n",
    "\n",
    "<a id='[6]'></a>[6] David Weininger. <a href=\"https://pubs.acs.org/doi/10.1021/ci00057a005\">SMILES, a chemical language and information system. 1. Introduction to methodology and encoding rules</a>. *Journal of Chemical Information and Computer Sciences* 1988, 28 (1), 31–36"
   ]
  },
  {
   "cell_type": "markdown",
   "id": "d4108f67",
   "metadata": {},
   "source": []
  }
 ],
 "metadata": {
  "kernelspec": {
   "display_name": "2025-espresso-water",
   "language": "python",
   "name": "python3"
  },
  "language_info": {
   "codemirror_mode": {
    "name": "ipython",
    "version": 3
   },
   "file_extension": ".py",
   "mimetype": "text/x-python",
   "name": "python",
   "nbconvert_exporter": "python",
   "pygments_lexer": "ipython3",
   "version": "3.11.11"
  }
 },
 "nbformat": 4,
 "nbformat_minor": 5
}
