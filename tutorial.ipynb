{
 "cells": [
  {
   "cell_type": "markdown",
   "id": "292744cd",
   "metadata": {},
   "source": [
    "# MLIP and Espresso\n",
    "In this tutorial, you'll learn how to train and deploy a machine-learned interatomic potential (MLIP) with espresso.\n",
    "We'll be using the [apax](https://github.com/apaxhub/apax) MLIP. (https://pubs.acs.org/doi/full/10.1021/acs.jcim.5c01221)"
   ]
  },
  {
   "cell_type": "code",
   "execution_count": 1,
   "id": "2c8c7670",
   "metadata": {},
   "outputs": [],
   "source": [
    "import zntrack\n",
    "import rdkit2ase\n",
    "import matplotlib.pyplot as plt\n",
    "import znh5md"
   ]
  },
  {
   "cell_type": "markdown",
   "id": "375e8e82",
   "metadata": {},
   "source": [
    "You can select from the following models.\n",
    "## Different NN sizes\n",
    "The NN width and depth define the number of parameters of the neural network and thereby the model's capacity.\n",
    "- `nn_16-16_Apax`, `nn_32-32_Apax`, `nn_64-64_Apax`, `nn_128-128_Apax`\n",
    "## Different r max\n",
    "The maxium radial cutoff defines how far the MLIP can \"see\" e.g. the size of the rezeptive field or the  size of a single local atomic environment.\n",
    "- `r_max_2_Apax`, `r_max_3_Apax`, `r_max_4_Apax`, `r_max_5_Apax`, `r_max_6_Apax`\n",
    "## Different n_basis\n",
    "The number of bessel functions used to define the radial resolution within a local atomic environment.\n",
    "- `n_basis_16_Apax`\n",
    "## Different n_radial\n",
    "The angular resolution \n",
    "- ..."
   ]
  },
  {
   "cell_type": "code",
   "execution_count": 2,
   "id": "df58ea2e",
   "metadata": {},
   "outputs": [
    {
     "name": "stderr",
     "output_type": "stream",
     "text": [
      "/work/fzills/projects/2025-espresso-water/.venv/lib/python3.11/site-packages/tqdm/auto.py:21: TqdmWarning: IProgress not found. Please update jupyter and ipywidgets. See https://ipywidgets.readthedocs.io/en/stable/user_install.html\n",
      "  from .autonotebook import tqdm as notebook_tqdm\n"
     ]
    }
   ],
   "source": [
    "model = zntrack.from_rev(\"r_max_6_Apax\")"
   ]
  },
  {
   "cell_type": "code",
   "execution_count": 3,
   "id": "8bf21c64",
   "metadata": {},
   "outputs": [],
   "source": [
    "water = rdkit2ase.smiles2conformers(\"O\", numConfs=100)"
   ]
  },
  {
   "cell_type": "code",
   "execution_count": 4,
   "id": "fe4a2626",
   "metadata": {},
   "outputs": [],
   "source": [
    "box = rdkit2ase.pack([water], counts=[100], density=997, packmol=\"/tikhome/fzills/.local/bin/packmol\")"
   ]
  },
  {
   "cell_type": "code",
   "execution_count": 5,
   "id": "22decdcb",
   "metadata": {},
   "outputs": [
    {
     "name": "stderr",
     "output_type": "stream",
     "text": [
      "/work/fzills/projects/2025-espresso-water/.venv/lib/python3.11/site-packages/zntrack/state.py:159: UserWarning: The temporary path is not used when neither remote or rev are set.Consider checking for `self.state.remote` and `self.state.rev` whenusing `with node.state.use_tmp_path(): ...` .\n",
      "  warnings.warn(\n",
      "WARNING:absl:`StandardCheckpointHandler` expects a target tree to be provided for restore. Not doing so is generally UNSAFE unless you know the present topology to be the same one as the checkpoint was saved under.\n"
     ]
    }
   ],
   "source": [
    "calc = model.get_calculator()"
   ]
  },
  {
   "cell_type": "code",
   "execution_count": 6,
   "id": "c5976fae",
   "metadata": {},
   "outputs": [],
   "source": [
    "box.calc = calc"
   ]
  },
  {
   "cell_type": "code",
   "execution_count": 7,
   "id": "f7979679",
   "metadata": {},
   "outputs": [
    {
     "data": {
      "text/plain": [
       "-46855.04580687444"
      ]
     },
     "execution_count": 7,
     "metadata": {},
     "output_type": "execute_result"
    }
   ],
   "source": [
    "box.get_potential_energy()"
   ]
  },
  {
   "cell_type": "code",
   "execution_count": 8,
   "id": "972a36c4",
   "metadata": {},
   "outputs": [
    {
     "data": {
      "text/plain": [
       "array([[ 1.19720835e+00, -1.46882765e+00,  3.17982468e+00],\n",
       "       [ 1.43377896e+00,  9.32853533e-01,  5.38187023e-03],\n",
       "       [-1.72698940e+00, -3.56449826e-01,  1.49837007e-01],\n",
       "       [ 3.55527001e-01, -1.63144738e-01,  1.25267190e+00],\n",
       "       [-4.08937321e-01,  1.11062670e+00, -2.07259695e-01],\n",
       "       [ 3.31266687e-01, -1.87364771e+00, -1.10407150e+00],\n",
       "       [-1.13236704e+00, -1.88158285e+00, -1.48341426e-01],\n",
       "       [ 1.52494225e+00, -1.02173138e-01,  3.18581520e-01],\n",
       "       [-4.84983772e-01,  1.51609685e+00,  2.50387088e-01],\n",
       "       [ 4.53482887e-01,  4.43340953e-01, -1.41479099e+00],\n",
       "       [ 5.11590281e-01,  9.63469476e-01, -1.43542041e-01],\n",
       "       [-7.14288138e-01, -1.08946368e+00,  1.62183926e+00],\n",
       "       [ 6.14283513e-01,  2.59542285e+00,  4.28841107e-02],\n",
       "       [ 4.14595047e-01, -5.50439637e-01, -1.13466081e+00],\n",
       "       [-6.96412963e-01,  4.14195650e-02,  1.02357697e+00],\n",
       "       [-2.45278013e+00,  5.13527993e-01,  2.48088708e+00],\n",
       "       [-1.68521983e+00, -3.14026802e-01, -1.60374224e-01],\n",
       "       [ 2.60826685e+00, -9.67790974e-01,  4.77370267e-01],\n",
       "       [-1.72370609e+00,  1.99066172e+00,  7.34852528e-01],\n",
       "       [-1.16495925e+00,  3.68578503e-01, -1.11838833e+00],\n",
       "       [ 2.14714286e+00, -1.01471253e-01,  1.23248270e+00],\n",
       "       [ 2.77598347e+00, -1.10499634e+00,  1.38688575e+00],\n",
       "       [ 4.41981473e-01,  1.16848563e+00, -5.76425619e-01],\n",
       "       [-1.07664588e+00, -2.91779140e-01,  5.71944270e-03],\n",
       "       [ 1.09747221e-01, -6.43283467e-01,  4.44768669e-01],\n",
       "       [-9.25282436e-01,  1.31445518e+00,  1.13371827e-01],\n",
       "       [ 1.28317076e+00, -1.12859829e+00, -1.43025770e-01],\n",
       "       [ 2.82967097e-01,  7.20760592e-01, -2.29539231e+00],\n",
       "       [ 3.78973374e-01, -1.12326865e+00,  1.56196489e-01],\n",
       "       [-1.40240245e+00,  8.24744915e-01,  1.10737198e+00],\n",
       "       [ 7.57219388e-01, -8.67939783e-01,  3.11099471e-01],\n",
       "       [-6.08983602e-01, -1.32553670e+00,  6.85611165e-01],\n",
       "       [-4.98856351e-01,  2.36426642e+00,  2.50561556e-01],\n",
       "       [ 9.26279929e-01, -1.84514897e+00, -1.28521937e+00],\n",
       "       [-8.58864430e-01, -6.54188733e-01,  9.25057571e-02],\n",
       "       [ 8.84952720e-01,  1.59930870e+00,  7.11279564e-01],\n",
       "       [-9.93414185e-02,  1.28217383e+00,  2.36216917e+00],\n",
       "       [-1.29988614e+00,  2.26238797e-01, -1.68849509e-01],\n",
       "       [ 8.63304135e-01, -1.36268318e+00,  2.32513755e-01],\n",
       "       [ 1.13941755e+00, -6.06008858e-01, -7.58858080e-01],\n",
       "       [-7.93240335e-01, -6.87907385e-01, -8.91968353e-01],\n",
       "       [ 1.26641208e-01,  9.49225772e-01,  1.29475619e+00],\n",
       "       [-3.60634483e+00,  1.37686109e+00,  1.73602509e+00],\n",
       "       [ 2.50947036e-01, -8.56054105e-01,  7.08177766e-01],\n",
       "       [ 1.07746940e+00,  1.14756435e+00, -5.32313069e-01],\n",
       "       [ 2.61488300e-01, -2.02038116e+00,  1.07875281e-01],\n",
       "       [-9.31934229e-01,  5.17288296e-01,  5.16281602e-01],\n",
       "       [ 1.24598497e+00,  1.27864263e-01, -5.48320851e-01],\n",
       "       [-1.35720032e+00,  2.77829135e+00,  2.63004062e+00],\n",
       "       [ 1.33244270e+00,  2.41844223e-01,  7.00987071e-04],\n",
       "       [-1.85500871e+00, -3.79240373e-01,  3.59202771e-02],\n",
       "       [-1.07651181e+00, -1.39143992e+00, -9.30293144e-02],\n",
       "       [-1.21376652e+00,  1.83960615e-01,  1.12565072e+00],\n",
       "       [ 1.52594046e+00,  8.91071123e-01, -9.02908388e-01],\n",
       "       [-2.48184723e-01,  1.27165868e+00, -1.14225984e+00],\n",
       "       [ 4.90721110e-01, -1.68828979e-01, -7.03620637e-01],\n",
       "       [-2.54388331e-01, -8.42398918e-01,  1.87589830e+00],\n",
       "       [-1.10756575e+00,  4.54252327e-01,  1.39113643e+00],\n",
       "       [ 9.95336261e-01,  4.25466269e-01,  1.41455859e+00],\n",
       "       [-1.95694749e-01,  8.03711705e-02, -1.92139929e+00],\n",
       "       [ 3.07357742e+00, -2.11133346e+00, -1.04173794e+00],\n",
       "       [ 2.59770962e-02, -7.72930561e-01, -1.60610052e-01],\n",
       "       [-1.05685572e+00,  1.62952552e+00, -8.42888244e-01],\n",
       "       [-5.61201270e-01,  4.44358101e-01,  1.94641123e+00],\n",
       "       [ 1.00601032e+00, -2.43165091e-01,  1.33065193e-01],\n",
       "       [-1.36880376e+00,  1.67048873e-01, -1.46664429e+00],\n",
       "       [ 1.14145114e+00, -2.92819436e-02, -1.12610163e+00],\n",
       "       [-9.49290143e-01, -1.04076950e+00, -6.35750081e-02],\n",
       "       [ 7.60344197e-01,  2.16576459e+00,  3.29222931e-01],\n",
       "       [ 2.56839765e+00,  1.43265384e-01, -5.30038898e-01],\n",
       "       [-4.81767715e-01,  1.23871071e+00, -3.56932972e-01],\n",
       "       [-1.21183218e+00, -1.01116668e+00,  6.11670977e-01],\n",
       "       [-2.30651702e-01, -2.54162341e+00,  1.00995980e+00],\n",
       "       [ 1.16115204e+00, -8.83739356e-01,  2.48276658e-01],\n",
       "       [-9.24272700e-01,  9.69457117e-01, -1.28069582e-01],\n",
       "       [-1.13988867e+00, -2.08968936e+00, -1.57683662e+00],\n",
       "       [ 5.30847223e-01, -1.41194773e+00,  3.98560559e-01],\n",
       "       [ 3.19844524e-01,  2.07498318e+00, -1.03643827e+00],\n",
       "       [ 7.82986002e-02, -4.66814126e-01,  1.04658019e-01],\n",
       "       [ 9.82698538e-01, -1.06162441e+00, -4.92251624e-01],\n",
       "       [-7.17481031e-01,  1.54332523e+00,  1.90343091e-01],\n",
       "       [ 1.30696566e+00, -1.46523395e+00,  2.63637296e+00],\n",
       "       [ 1.38623323e+00,  6.60916662e-01,  1.13125692e-02],\n",
       "       [-1.69968849e+00, -1.01286965e+00,  5.26908440e-01],\n",
       "       [-7.24400735e-01,  1.76201866e-01,  1.49154214e+00],\n",
       "       [ 8.77082560e-01,  8.61908417e-01,  2.55402623e-01],\n",
       "       [-1.95638946e-01, -1.14276247e-01, -1.94923914e+00],\n",
       "       [-5.19863843e-01, -2.19488469e+00,  1.72146388e-01],\n",
       "       [-2.07439380e-01, -5.13848364e-01, -1.63160630e+00],\n",
       "       [ 4.58290330e-01,  1.66692255e+00,  8.70923410e-01],\n",
       "       [ 1.43910898e-01, -9.69521240e-01,  2.45100394e+00],\n",
       "       [-1.22299590e+00,  8.23191780e-01,  6.54223403e-01],\n",
       "       [ 2.14924636e+00, -2.28304808e-01, -4.32520052e-01],\n",
       "       [ 5.04935724e-01,  2.25574683e+00, -1.66331712e+00],\n",
       "       [-1.35148946e+00,  2.46917736e-02,  2.89260961e-02],\n",
       "       [ 1.24614390e+00, -1.25848557e+00, -5.60791321e-01],\n",
       "       [-1.23373883e+00,  8.51179420e-01, -1.14792930e+00],\n",
       "       [ 3.70413330e-01,  1.96056791e+00,  1.01138144e-01],\n",
       "       [-4.15272916e-01, -2.47884271e+00,  3.82703260e-01],\n",
       "       [ 3.36097622e+00, -6.08305250e-01, -6.98059589e-01],\n",
       "       [ 9.22627272e-03,  7.87632924e-01,  2.65426908e-01],\n",
       "       [-1.62187278e+00, -4.56952752e-01, -1.03264927e+00],\n",
       "       [ 2.94338079e-01, -1.91241309e+00, -2.10998088e-01],\n",
       "       [-1.81831999e+00, -2.00178029e-01,  9.01975454e-02],\n",
       "       [ 1.59074511e+00,  8.63948977e-01,  5.86892790e-01],\n",
       "       [ 9.84202668e-01, -1.02085940e+00, -1.41764754e+00],\n",
       "       [ 1.46391388e+00, -8.22970899e-01,  2.90057084e-02],\n",
       "       [-9.59418017e-01,  1.48367420e+00,  1.06557014e-01],\n",
       "       [-6.27187790e-01,  1.23242435e+00, -1.06532676e+00],\n",
       "       [-1.60793121e+00, -6.20755535e-01, -8.12337416e-02],\n",
       "       [ 1.79478707e+00, -8.06286584e-01, -2.95116412e-02],\n",
       "       [ 7.01218569e-01, -2.19312331e-01,  2.75025126e-02],\n",
       "       [ 2.48645824e-01, -3.33663445e-01, -1.93350943e+00],\n",
       "       [-8.86768507e-01, -1.42362880e-01,  2.01704359e+00],\n",
       "       [-1.63207282e+00, -5.32759723e-01, -4.16937804e-01],\n",
       "       [ 5.71253948e-01,  3.12148785e-01, -1.14149531e+00],\n",
       "       [ 8.54309768e-01,  2.47253020e-01,  1.09776935e+00],\n",
       "       [ 4.75679794e-01,  1.23875829e+00,  2.47515271e+00],\n",
       "       [ 1.46035710e+00, -1.18405468e-01,  6.07318509e-01],\n",
       "       [-1.11818630e+00, -1.47132659e+00,  1.97125435e-01],\n",
       "       [-1.65762463e+00, -2.48779463e-03, -9.54046798e-01],\n",
       "       [-1.21585403e+00,  2.26442617e-01,  5.99899924e-01],\n",
       "       [ 2.05081264e+00,  2.29155379e-01,  2.98751759e-01],\n",
       "       [ 2.12363490e+00,  2.33793396e+00, -1.43794814e+00],\n",
       "       [-8.57047996e-01,  5.44867433e-01, -4.75101471e-01],\n",
       "       [ 1.74824824e-01, -4.69698292e-01,  1.44432042e+00],\n",
       "       [-3.45078251e-01, -5.29028586e-02, -1.12279865e+00],\n",
       "       [ 6.22197244e-01, -8.72646510e-01,  8.83357470e-01],\n",
       "       [-4.00536736e-01,  1.57288302e+00, -5.88065174e-01],\n",
       "       [ 2.12953947e+00, -1.92242357e+00, -1.68655516e+00],\n",
       "       [ 1.30014411e+00,  1.21120343e+00, -2.71272536e-01],\n",
       "       [-1.53117494e+00, -1.72505857e+00, -9.19928315e-02],\n",
       "       [-7.13518645e-01,  1.22352369e+00,  1.69643143e-02],\n",
       "       [-7.95049622e-01, -8.83741163e-01, -9.41069360e-02],\n",
       "       [ 1.55802489e+00, -2.33642054e-01, -8.83694107e-02],\n",
       "       [-7.14531776e-01, -2.86879814e-01, -3.06224354e+00],\n",
       "       [-8.02411634e-01, -1.48908882e+00, -4.35067549e-02],\n",
       "       [ 1.35493277e+00,  8.26743134e-01,  1.17700343e+00],\n",
       "       [ 4.34717390e-01,  9.76571286e-01, -1.01395970e+00],\n",
       "       [ 2.36508406e-01,  1.07134247e+00, -1.12663791e-02],\n",
       "       [-9.91626444e-01, -1.01661560e+00,  6.37346037e-02],\n",
       "       [-8.95629827e-01,  1.58017653e-01,  3.62802036e-01],\n",
       "       [ 1.41646049e+00,  6.12574262e-01,  2.04545536e-01],\n",
       "       [-9.04952495e-01, -3.14171631e-01, -1.08772363e+00],\n",
       "       [-8.69576927e-01, -1.22238377e+00,  2.22958214e+00],\n",
       "       [ 1.65051890e+00,  3.54078868e-01,  3.72215797e-01],\n",
       "       [-2.04405004e+00,  1.12891349e+00,  5.00893525e-01],\n",
       "       [ 2.26894605e-01,  1.18507131e+00,  6.21067718e-01],\n",
       "       [-1.49853296e-01,  1.86525796e+00, -1.42218958e-01],\n",
       "       [-1.95826858e-01, -1.98576919e+00, -6.65461668e-01],\n",
       "       [ 1.00085556e+00,  1.49791465e+00,  1.11421537e+00],\n",
       "       [-1.18329184e+00, -4.37255802e-01,  5.61089924e-01],\n",
       "       [ 9.30354893e-01, -8.91600401e-01, -1.22161443e+00],\n",
       "       [ 1.33620276e+00, -1.51177909e+00, -4.13427447e-01],\n",
       "       [-1.23295328e-01,  9.22657697e-01, -2.02666071e-01],\n",
       "       [-2.03047819e+00, -6.09132604e-01,  1.64125440e-01],\n",
       "       [ 1.71169685e+00, -3.35091715e+00, -5.82351475e-01],\n",
       "       [-8.61771953e-01,  6.30675208e-01, -9.45456874e-01],\n",
       "       [ 1.20179713e+00, -4.42914603e-01,  1.74097058e-01],\n",
       "       [-3.50010554e+00,  1.79863478e+00, -1.22029494e+00],\n",
       "       [ 9.32367555e-01,  7.93668005e-01,  5.61432560e-01],\n",
       "       [ 1.37888295e+00, -8.70145392e-01, -1.07244458e+00],\n",
       "       [ 1.05301682e-01, -1.74218753e+00,  7.37227238e-01],\n",
       "       [ 6.57175966e-01,  3.52629896e-01,  5.45872637e-01],\n",
       "       [-1.50190625e+00,  6.93039157e-01, -1.07300900e+00],\n",
       "       [ 2.29484250e+00,  9.99707503e-01,  1.54229057e+00],\n",
       "       [-1.36178723e-01,  2.28836902e-01, -1.69137513e+00],\n",
       "       [ 2.64357634e-01, -3.20024129e-01,  1.38132519e+00],\n",
       "       [-1.45921066e+00, -3.70774651e-01, -3.30762082e-01],\n",
       "       [ 1.06280429e+00, -6.70308237e-01, -2.25192102e-01],\n",
       "       [ 4.34223656e-01,  1.37993596e+00, -1.62785857e-01],\n",
       "       [ 3.98538602e-01,  1.19191429e+00,  3.53886679e-01],\n",
       "       [-5.19260601e-01, -2.10601632e-01,  9.78921862e-01],\n",
       "       [-7.65915103e-03, -8.60077585e-01, -1.34915880e+00],\n",
       "       [-1.04232583e+00,  3.89878790e-01,  5.54033557e-01],\n",
       "       [ 3.59892997e-02, -1.33371818e+00,  4.57745015e-01],\n",
       "       [-4.39260679e-02,  8.73953259e-01, -1.29807460e+00],\n",
       "       [ 3.51884250e+00,  3.07131247e+00,  3.51420968e-01],\n",
       "       [-5.05413682e-01,  1.25484135e+00, -1.10095161e+00],\n",
       "       [ 4.59110122e-01, -1.44637136e+00,  1.39344239e+00],\n",
       "       [ 6.04211678e-01,  6.72815981e-01, -5.45661865e-01],\n",
       "       [-5.78319145e-01,  1.60469786e+00, -1.62210781e-01],\n",
       "       [ 3.42060816e-03, -1.79415486e+00,  6.19793057e-01],\n",
       "       [-2.66957090e+00,  8.31315509e-01,  6.08014228e-01],\n",
       "       [-1.02186052e+00, -1.97661003e+00, -5.22921232e-01],\n",
       "       [ 1.84049573e-01,  1.64489091e+00, -3.98258005e-02],\n",
       "       [ 7.07359055e-01, -2.19312257e+00,  6.39084293e-01],\n",
       "       [-9.02624797e-01, -4.44847062e-01, -4.26741859e-02],\n",
       "       [ 1.21862780e+00,  1.91203923e+00,  2.23184768e-01],\n",
       "       [-9.74554546e-01, -3.34003415e-01,  1.11664877e+00],\n",
       "       [-6.60063148e-01,  2.18908136e+00,  8.00336992e-01],\n",
       "       [ 4.86445436e-01, -1.76009164e+00, -1.27395838e+00],\n",
       "       [ 1.99417169e+00,  1.55440294e+00,  1.25467276e+00],\n",
       "       [-8.89120016e-01,  1.87518068e+00, -4.60971699e-01],\n",
       "       [ 1.94009995e-01, -1.69069086e+00, -1.04046342e+00],\n",
       "       [ 7.92806583e-01, -6.23422177e-01, -7.36729228e-02],\n",
       "       [-6.30078474e-01, -1.18239760e+00,  1.14251705e-01],\n",
       "       [ 2.16822710e-02,  1.16558170e+00, -7.78329198e-01],\n",
       "       [-1.77887001e-01,  9.70306046e-01, -6.60171594e-01],\n",
       "       [-2.33778036e-01, -8.44335312e-01, -1.39503308e+00],\n",
       "       [ 2.97985496e-01,  8.44614970e-02,  2.14063205e+00],\n",
       "       [-3.10043088e-01, -4.98722005e-01, -6.96171537e-01],\n",
       "       [ 1.39450522e+00, -8.05003071e-01,  3.02181422e-01],\n",
       "       [-1.79177518e+00,  6.01587733e-01,  3.25704410e-01],\n",
       "       [-2.74724721e+00, -1.30335720e+00,  1.48158907e-01],\n",
       "       [ 3.79374958e-01, -1.02913794e+00,  7.67663303e-01],\n",
       "       [ 3.39104820e-01,  8.19042304e-01, -1.18852646e-01],\n",
       "       [-8.71399478e-01, -3.24227263e-01, -1.45664054e+00],\n",
       "       [ 6.19039941e-01, -1.06541089e+00, -9.79992064e-04],\n",
       "       [-1.89782718e-02,  1.22744900e+00,  1.49023178e+00],\n",
       "       [-2.02928931e+00,  1.25867413e+00, -3.28034973e+00],\n",
       "       [-1.16425556e+00, -1.21833086e+00, -5.61057161e-01],\n",
       "       [ 1.73088858e+00,  1.31152572e+00, -3.97120058e-01],\n",
       "       [-3.22952265e+00, -6.63869539e-01, -2.04785240e+00],\n",
       "       [-4.29494434e-01,  1.31769882e+00,  2.02314457e-01],\n",
       "       [ 1.57650813e+00, -6.74392959e-01,  4.15124807e-02],\n",
       "       [ 1.91031554e-01, -8.63493229e-02, -1.14474350e+00],\n",
       "       [-1.05853158e+00,  9.09889590e-01, -3.83561819e-01],\n",
       "       [ 1.16247327e+00, -4.92721983e-01,  1.23802929e+00],\n",
       "       [ 5.50698781e-01,  2.68090849e-01,  6.41008144e-01],\n",
       "       [-1.26239382e+00,  5.74526420e-01,  2.64396917e-01],\n",
       "       [ 1.09109326e+00, -1.83051369e+00, -3.42866478e-02],\n",
       "       [-2.29340795e-01, -1.05808997e+00, -3.36207506e-01],\n",
       "       [-1.01926095e+00,  4.27853396e-01, -1.38525837e+00],\n",
       "       [ 9.04761150e-01,  2.23901578e-01,  1.35005995e+00],\n",
       "       [-1.39471198e+00,  3.25019555e-02, -7.23226676e-01],\n",
       "       [ 2.99511235e-01, -1.14693840e+00, -4.82686954e-01],\n",
       "       [ 5.54504473e-01,  1.46309230e+00,  5.03008736e-01],\n",
       "       [-1.55555486e+00, -1.14083361e+00,  4.00008136e+00],\n",
       "       [ 1.69264063e+00, -4.88653292e-01, -6.06536255e-01],\n",
       "       [-1.20685235e+00,  1.83529597e-01, -1.09546986e+00],\n",
       "       [ 4.17800734e-02, -1.26713312e+00, -3.81904115e+00],\n",
       "       [ 1.27814275e+00,  7.29543843e-01,  1.08517943e-01],\n",
       "       [-1.99599238e+00, -1.18048981e-01, -7.25800870e-01],\n",
       "       [-8.07857863e-01, -9.11240897e-01, -3.19845814e-01],\n",
       "       [-7.77012688e-01, -7.00540513e-02,  1.02940994e+00],\n",
       "       [ 1.70704926e+00,  1.15655752e+00, -7.07670678e-01],\n",
       "       [-1.65076216e-01,  1.46771454e+00, -2.34703024e-01],\n",
       "       [-6.44067382e-01,  1.32393763e-01,  1.02691961e+00],\n",
       "       [ 3.67768050e-01, -1.17589268e+00, -7.49186001e-01],\n",
       "       [ 1.92933191e-01, -2.12651865e+00,  3.33391566e-01],\n",
       "       [-1.18842503e+00, -7.56394626e-01,  3.12957065e-01],\n",
       "       [-9.53786883e-02,  2.50831643e+00,  3.78224768e-01],\n",
       "       [-4.17042487e-01,  3.39690634e-01, -1.53375280e+00],\n",
       "       [-4.11027831e-01,  1.12974867e+00,  6.10517639e-01],\n",
       "       [ 4.58942854e-01, -1.76330350e+00,  6.98349499e-01],\n",
       "       [ 3.01557971e-01,  9.92430366e-01, -3.39258173e+00],\n",
       "       [-1.25699532e+00,  5.27917465e-01,  2.26913943e-01],\n",
       "       [ 3.51411421e-01, -1.09809900e+00, -3.97920971e-01],\n",
       "       [-2.67208133e+00, -1.92452802e+00, -1.57334474e+00],\n",
       "       [-4.25571540e-01,  7.70849862e-01, -4.98325070e-01],\n",
       "       [ 1.88724676e+00, -3.36463917e-01,  4.32321405e-02],\n",
       "       [ 3.10447751e+00,  7.76752707e-03,  1.43777078e+00],\n",
       "       [-5.40600481e-01, -1.15974030e+00,  6.83735297e-01],\n",
       "       [-1.04690799e+00,  2.16170419e-01, -2.10547757e+00],\n",
       "       [ 7.13408549e-01, -1.91959226e+00,  2.37321598e-01],\n",
       "       [-1.25734879e+00,  1.04341378e-01,  2.15387454e-01],\n",
       "       [ 1.50026099e+00,  1.33862701e+00, -2.23648376e-01],\n",
       "       [ 1.08249326e+00,  2.32890118e+00,  1.25486338e+00],\n",
       "       [ 4.43545154e-01, -6.51932354e-01,  1.03819679e+00],\n",
       "       [-1.36725331e+00,  2.11595257e-01, -1.70718835e+00],\n",
       "       [-3.95693065e-01,  1.50709321e+00,  2.73693232e-01],\n",
       "       [-9.81857952e-01, -4.65771658e-01, -2.39249887e-02],\n",
       "       [ 1.92961939e+00, -6.65669278e-02,  1.62545473e-01],\n",
       "       [ 1.83261147e-01,  2.06130826e-01,  8.17837084e-01],\n",
       "       [ 1.43222691e+00, -7.82608488e-01, -7.95770316e-01],\n",
       "       [-1.26540521e+00,  6.82675483e-01,  1.12898607e-01],\n",
       "       [ 5.43287781e-02, -1.23258106e+00,  8.78366486e-02],\n",
       "       [ 8.16899714e-01,  5.77401154e-01,  1.50630633e+00],\n",
       "       [-4.92249697e-01,  3.20897274e-01, -2.09142624e+00],\n",
       "       [-3.80081154e-01, -7.11664817e-01, -1.17020969e+00],\n",
       "       [-1.83796321e-01, -9.27324138e-01,  1.03867599e+00],\n",
       "       [ 6.46735842e-01,  1.96692521e+00,  2.36134562e-01],\n",
       "       [ 3.99213404e+00, -2.87801590e-01,  1.53202165e+00],\n",
       "       [-1.07076075e+00,  1.15511844e+00, -4.18731314e-01],\n",
       "       [ 1.02273994e+00, -1.74183947e+00, -1.90583503e-01],\n",
       "       [ 4.77894304e-01,  1.05528312e+00,  1.86503781e+00],\n",
       "       [-9.04938632e-01,  1.86268915e+00, -1.92266750e-02],\n",
       "       [-5.91737701e-02, -1.32181518e+00, -8.59739126e-01],\n",
       "       [ 3.40457689e-01, -8.23711678e-01,  5.44834028e-01],\n",
       "       [-1.12493054e+00, -9.94399997e-02, -1.56539946e-01],\n",
       "       [-2.26372007e-02,  1.13480651e+00, -2.86178216e-01],\n",
       "       [-1.86528272e-01,  7.78366011e-01,  7.90813484e-01],\n",
       "       [-2.54860915e-01,  1.56514662e+00,  4.82661471e-01],\n",
       "       [-1.06764537e+00, -1.78609482e+00, -2.07896911e-02],\n",
       "       [-1.06471100e+00,  2.62143997e+00,  6.79811021e-01],\n",
       "       [-9.53176055e-01,  7.46108423e-01, -1.19473937e+00],\n",
       "       [ 1.53569623e-01, -1.80990871e+00,  1.00240979e+00],\n",
       "       [-8.76897758e-01,  8.55840556e-01,  1.03620454e+00],\n",
       "       [ 8.36271482e-01, -1.33518502e-01,  9.96500558e-01],\n",
       "       [-3.70597988e-01, -3.39935402e-01, -1.56839776e+00],\n",
       "       [ 1.69076507e+00, -2.23594589e+00,  2.59141910e+00],\n",
       "       [-8.00945296e-01,  7.98964641e-01,  1.39608961e-01],\n",
       "       [-7.88656056e-01, -7.22045978e-01, -1.01350194e+00],\n",
       "       [ 6.89387614e-01, -1.77894620e+00, -2.89568870e+00],\n",
       "       [-1.11559577e+00, -3.28015918e-01, -7.91248076e-01],\n",
       "       [ 5.35013182e-01, -1.14580679e-01,  1.07252258e+00],\n",
       "       [ 1.43396105e+00,  2.43755762e+00,  1.45466636e-01],\n",
       "       [-1.17179834e+00, -1.63973714e-01,  5.92056874e-01],\n",
       "       [ 1.43805759e+00, -5.04900526e-01, -7.14459886e-01]])"
      ]
     },
     "execution_count": 8,
     "metadata": {},
     "output_type": "execute_result"
    }
   ],
   "source": [
    "box.get_forces()"
   ]
  },
  {
   "cell_type": "markdown",
   "id": "c2d2964f",
   "metadata": {},
   "source": [
    "## Evaluate the MLIPs on the test dataset.\n",
    "To assess the performance of our MLIPs, we can evaluate them on the provided test dataset.\n",
    "These are configurations that the model has not seen during training and therefore can be used to assess the MLIPs static performance.\n",
    "Note, that the values you gain from such static assessment depend on the quality and diversity of the test dataset.\n",
    "Often, the evaluation on more real-world scenarios is required to obtain a comprehensive understanding of the model's capabilities."
   ]
  },
  {
   "cell_type": "code",
   "execution_count": 27,
   "id": "bcbe21ba",
   "metadata": {},
   "outputs": [],
   "source": [
    "test_io = znh5md.IO(\"data/cosmo_water_test.h5\") # Test dataset stored in an adapted H5MD format.\n",
    "test_frames = test_io[:]"
   ]
  },
  {
   "cell_type": "code",
   "execution_count": 19,
   "id": "4629dd04",
   "metadata": {},
   "outputs": [
    {
     "name": "stderr",
     "output_type": "stream",
     "text": [
      "\n",
      "Evaluating data:   0%|                                                      | 0/160 [00:00<?, ?it/s]\n",
      "Evaluating data:   1%|▎                                             | 1/160 [00:03<09:22,  3.54s/it]\n",
      "Evaluating data:  11%|████▊                                        | 17/160 [00:03<00:22,  6.48it/s]\n",
      "Evaluating data:  21%|█████████▎                                   | 33/160 [00:03<00:08, 14.51it/s]\n",
      "Evaluating data:  31%|█████████████▊                               | 49/160 [00:03<00:04, 24.60it/s]\n",
      "Evaluating data:  41%|██████████████████▎                          | 65/160 [00:03<00:02, 36.83it/s]\n",
      "Evaluating data:  51%|██████████████████████▊                      | 81/160 [00:04<00:01, 50.62it/s]\n",
      "Evaluating data:  61%|███████████████████████████▎                 | 97/160 [00:04<00:00, 65.62it/s]\n",
      "Evaluating data:  71%|███████████████████████████████             | 113/160 [00:04<00:00, 81.06it/s]\n",
      "Evaluating data:  81%|███████████████████████████████████▍        | 129/160 [00:04<00:00, 95.35it/s]\n",
      "Evaluating data:  91%|██████████████████████████████████████▉    | 145/160 [00:04<00:00, 108.80it/s]\n",
      "                                                                                                    "
     ]
    }
   ],
   "source": [
    "true_energies = [x.get_potential_energy() for x in test_frames]\n",
    "true_forces = [x.get_forces() for x in test_frames]\n",
    "pred_frames = calc.batch_eval(test_frames, batch_size=1)\n",
    "pred_energies = [x.get_potential_energy() for x in pred_frames]\n",
    "pred_forces = [x.get_forces() for x in pred_frames]"
   ]
  },
  {
   "cell_type": "code",
   "execution_count": 26,
   "id": "124771c3",
   "metadata": {},
   "outputs": [
    {
     "data": {
      "text/plain": [
       "Text(0, 0.5, 'Predicted Forces / $\\\\mathrm{eV \\\\cdot \\\\mathrm{\\\\AA}^{-1}}$')"
      ]
     },
     "execution_count": 26,
     "metadata": {},
     "output_type": "execute_result"
    },
    {
     "data": {
      "image/png": "[encoded data removed]",
      "text/plain": [
       "<Figure size 1000x500 with 2 Axes>"
      ]
     },
     "metadata": {},
     "output_type": "display_data"
    }
   ],
   "source": [
    "import numpy as np\n",
    "\n",
    "fix, ax = plt.subplots(1, 2, figsize=(10, 5))\n",
    "ax[0].scatter(true_energies, pred_energies, marker=\"x\")\n",
    "ax[0].set_xlabel(\"True Energies / eV\")\n",
    "ax[0].set_ylabel(\"Predicted Energies / eV\")\n",
    "ax[1].scatter(true_forces, pred_forces, marker=\"x\")\n",
    "\n",
    "true_forces_flat = np.concatenate([f.flatten() for f in true_forces])\n",
    "pred_forces_flat = np.concatenate([f.flatten() for f in pred_forces])\n",
    "\n",
    "ax[1].scatter(true_forces_flat, pred_forces_flat, marker=\"x\")\n",
    "ax[1].set_xlabel(r\"True Forces / $\\mathrm{eV \\cdot \\mathrm{\\AA}^{-1}}$\")\n",
    "ax[1].set_ylabel(r\"Predicted Forces / $\\mathrm{eV \\cdot \\mathrm{\\AA}^{-1}}$\")"
   ]
  },
  {
   "cell_type": "code",
   "execution_count": null,
   "id": "a69961b1",
   "metadata": {},
   "outputs": [],
   "source": []
  }
 ],
 "metadata": {
  "kernelspec": {
   "display_name": "2025-espresso-water",
   "language": "python",
   "name": "python3"
  },
  "language_info": {
   "codemirror_mode": {
    "name": "ipython",
    "version": 3
   },
   "file_extension": ".py",
   "mimetype": "text/x-python",
   "name": "python",
   "nbconvert_exporter": "python",
   "pygments_lexer": "ipython3",
   "version": "3.11.11"
  }
 },
 "nbformat": 4,
 "nbformat_minor": 5
}
